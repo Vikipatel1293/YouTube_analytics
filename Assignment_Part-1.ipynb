{
 "cells": [
  {
   "cell_type": "markdown",
   "metadata": {},
   "source": [
    "<div style=\"text-align: center;\">\n",
    "  <h1>AML-3204 Social Media Analytics</h1>\n",
    "  <h2>Assignment-1_Part-1 (10%)</h2>\n",
    "  <h2>Analyzing YouTube Data</h2>\n",
    "</div>"
   ]
  },
  {
   "cell_type": "markdown",
   "metadata": {},
   "source": [
    "# a. Data Collection Procedure"
   ]
  },
  {
   "cell_type": "code",
   "execution_count": 1,
   "metadata": {},
   "outputs": [],
   "source": [
    "# import requried library\n",
    "from googleapiclient.discovery import build\n",
    "import pandas as pd\n",
    "import isodate"
   ]
  },
  {
   "cell_type": "code",
   "execution_count": 2,
   "metadata": {},
   "outputs": [],
   "source": [
    "# Enter api key and sample youtube video id\n",
    "API_KEY = 'Enter your API'\n",
    "vid = 'mEsleV16qdo'"
   ]
  },
  {
   "cell_type": "markdown",
   "metadata": {},
   "source": [
    "**Top 100 Comments of sample video**"
   ]
  },
  {
   "cell_type": "code",
   "execution_count": 3,
   "metadata": {},
   "outputs": [
    {
     "name": "stdout",
     "output_type": "stream",
     "text": [
      "\n",
      "Comment-1: \n",
      "just completed it in 15 days. Woof.\n",
      "\n",
      "Comment-2: \n",
      "Did anyone completed half or a considerable hour? Can you tell me if its good?\n",
      "\n",
      "Comment-3: \n",
      "Mobail number pls sir\n",
      "\n",
      "Comment-4: \n",
      "Sir i want to talk with you sir\n",
      "\n",
      "Comment-5: \n",
      "Sir pls my son was start corse  But Sir camplit  corse cartificet ??\n",
      "\n",
      "Comment-6: \n",
      "langchain version used in video is not updated. all the methods used in video are deprecated\n",
      "\n",
      "Comment-7: \n",
      "Kudos\n",
      "\n",
      "Comment-8: \n",
      "Thank you sir for this magnificant tuto\n",
      "\n",
      "Comment-9: \n",
      "Thank you for the content.\n",
      "\n",
      "Comment-10: \n",
      "This video wastes so much of the user's time at every step. It could easily have been made in a fraction of the runtime without any loss.\n",
      "\n",
      "Comment-11: \n",
      "Any one tell me how to continue our anaconda prompt and jupyter notebook after shuting down our pc or laptop\n",
      "\n",
      "Comment-12: \n",
      "He is dragging too much. Should be crisp and short\n",
      "\n",
      "Comment-13: \n",
      "I am from non it background so pls confirm if this valuable for me?\n",
      "\n",
      "Comment-14: \n",
      "mister ur name?\n",
      "\n",
      "Comment-15: \n",
      "great\n",
      "\n",
      "Comment-16: \n",
      "LLM means le le mera\n",
      "\n",
      "Comment-17: \n",
      "what are the prerequisites for this course?🙂\n",
      "\n",
      "Comment-18: \n",
      "what are the prerequisites for this course?\n",
      "\n",
      "Comment-19: \n",
      "Damn 30 hours\n",
      "\n",
      "Comment-20: \n",
      "How do I get a job after learning and watching this video??\n",
      "\n",
      "Comment-21: \n",
      "9:00\n",
      "\n",
      "Comment-22: \n",
      "How to get a certificate\n",
      "\n",
      "Comment-23: \n",
      "AI COMS ON WHICH FROM MAT\n",
      "\n",
      "Comment-24: \n",
      "this course can be made into an 8-hour course..\n",
      "\n",
      "Comment-25: \n",
      "What's up with the speaker's audio repeatedly being cut off? It happens not just once or twice, but over and over again.\n",
      "\n",
      "Comment-26: \n",
      "For the first 1 hours where is GenAI? We dont need summary of Deep Learning for one hour in this course. wasting time.\n",
      "\n",
      "Comment-27: \n",
      "Yes\n",
      "\n",
      "Comment-28: \n",
      "I don't know why he's incorrectly pronouncing GAN as gain rather than as gaan.\n",
      "\n",
      "Comment-29: \n",
      "Thanks for the treasury. Its perfect for the beginners..😀\n",
      "\n",
      "Comment-30: \n",
      "Has anyone got the notebook file ?\n",
      "specially for the openai api tutorial?\n",
      "\n",
      "Comment-31: \n",
      "I can't thank this channel enough\n",
      "\n",
      "Comment-32: \n",
      "it is free only rite. why again the fee structure you explained in 15:00:00 time\n",
      "\n",
      "Comment-33: \n",
      "Àny prerequisite required?\n",
      "\n",
      "Comment-34: \n",
      "Sunny sir please \n",
      "Delete #aa #aa# word for your dictionary \n",
      "It's very irritating 😕\n",
      "\n",
      "Comment-35: \n",
      "wwhy is hee  talking too much just go straight to the point\n",
      "\n",
      "Comment-36: \n",
      "can a non coding person can learn generative AI, what are prerequisites need for these course to start. Kindly suggest me. I have no coding knowledge. your inputs will be appreciated.\n",
      "\n",
      "Comment-37: \n",
      "Course starts at 21 min\n",
      "\n",
      "Comment-38: \n",
      "sir i'm not able to enroll in the course through link plz help\n",
      "\n",
      "Comment-39: \n",
      "All educators are indians\n",
      "\n",
      "Comment-40: \n",
      "the FOCUS PLS at 25:00:00 😢\n",
      "\n",
      "Comment-41: \n",
      "Hindi me nahi ha\n",
      "\n",
      "Comment-42: \n",
      "Goodone\n",
      "\n",
      "Comment-43: \n",
      "Has anyone completed this\n",
      "\n",
      "Comment-44: \n",
      "Be consistent with what you want to learn. Don’t make excuses that it will take ages to complete. Make a time schedule and learn accordingly. I’m not criticizing anyone; everyone has 24 hours. How you manage it is your responsibility. Even Elon Musk has 24 hours. I’m not suggesting you complete everything in one shot, but you have to manage your time.\n",
      "\n",
      "\n",
      "I have already completed  I have started from past 5 days  complete uptp : 9:12:32\n",
      "\n",
      "Comment-45: \n",
      "OPENAI_API_KEY = \"Your_OpenAI_API_Key_Here\"\n",
      "from langchain.chat_models import ChatOpenAI\n",
      "\n",
      "llm = ChatOpenAI(api_key=OPENAI_API_KEY, model_name=\"gpt-3.5-turbo\", temperature=0.5)\n",
      "with get_openai_callback() as cb:\n",
      "    response=generate_evaluate_chain(\n",
      "        {\n",
      "            \"text\": TEXT,\n",
      "            \"number\": NUMBER,\n",
      "            \"subject\":SUBJECT,\n",
      "            \"tone\": TONE,\n",
      "            \"response_json\": json.dumps(RESPONSE_JSON)\n",
      "        }\n",
      "        )....after this code i am getting error regarding invalid api key. why is it so, when i have mentioned corrct api token from hugging face in \"Your_OpenAI_API_Key_Here\" this place.\n",
      "\n",
      "Comment-46: \n",
      "Do we have to know coding to learn this??\n",
      "\n",
      "Comment-47: \n",
      "Yes 🙌\n",
      "\n",
      "Comment-48: \n",
      "I'm 16 yrs old if I get 2k likes I will complete this course 😊😊\n",
      "\n",
      "Comment-49: \n",
      "gotta pay for gpt 3.5 turbo???because none of my code runs it just shows ratelimit error\n",
      "\n",
      "Comment-50: \n",
      "Can anyone attach the PPT of this course in the comment section please\n",
      "\n",
      "Comment-51: \n",
      "do you get any kind of certification or transcript once you finish that would help show case my skill?\n",
      "\n",
      "Comment-52: \n",
      "Sakshi didi k video dekh k kon kon aaya 😊\n",
      "\n",
      "Comment-53: \n",
      "Thank you sir !\n",
      "\n",
      "Comment-54: \n",
      "starmpcc/Asclepius-Llama2-7B\n",
      "\n",
      "Comment-55: \n",
      "How can I apply for job ?\n",
      "\n",
      "Comment-56: \n",
      "for this skills have job opportunities now?\n",
      "\n",
      "Comment-57: \n",
      "Yes\n",
      "\n",
      "Comment-58: \n",
      "Yes\n",
      "\n",
      "Comment-59: \n",
      "03:40:40\n",
      "\n",
      "Comment-60: \n",
      "No entiendo nada de lo que dice..\n",
      "\n",
      "Comment-61: \n",
      "please share the ppt\n",
      "\n",
      "Comment-62: \n",
      "Do we need programing language knowledge before watching this course\n",
      "\n",
      "Comment-63: \n",
      "Just awesome..\n",
      "\n",
      "Comment-64: \n",
      "❤❤\n",
      "\n",
      "Comment-65: \n",
      "This  class for 9 th students\n",
      "\n",
      "Comment-66: \n",
      "4:20:00\n",
      "\n",
      "Comment-67: \n",
      "3:47:00\n",
      "\n",
      "Comment-68: \n",
      "incredably generous\n",
      "\n",
      "Comment-69: \n",
      "Hello, Getting below error. LangChainDeprecationWarning: Importing chat models from langchain is deprecated. Importing from langchain will no longer be supported as of langchain==0.2.0. Please import from langchain-community instead:\n",
      "\n",
      "`from langchain_community.chat_models import ChatOpenAI`.\n",
      "\n",
      "Comment-70: \n",
      "@nazarowrustem3199 Bro…Is any doctor tells you ? You can’t be a Father….😂😂😂😂\n",
      "\n",
      "Comment-71: \n",
      "Thanks you for this amazing lessons.. Instructors are good.\n",
      "\n",
      "Comment-72: \n",
      "2:37:00\n",
      "\n",
      "Comment-73: \n",
      "Bhai bahut zyda aaa... aaaa.... use krte h:) it's annoying sometime. Anyway i loved the session\n",
      "\n",
      "Comment-74: \n",
      "1:17:00\n",
      "\n",
      "Comment-75: \n",
      "1:10:38\n",
      "\n",
      "Comment-76: \n",
      "Yes\n",
      "\n",
      "Comment-77: \n",
      "Yes\n",
      "\n",
      "Comment-78: \n",
      "India people like it\n",
      "\n",
      "Comment-79: \n",
      "Hello All,\n",
      "\n",
      "I am using windows machine and trying to extract image in pdf using PyPDFLoader(\"filepath.pdf\", extract_images=True) this give me message: Windows platform detected, try to use DirectML as primary provider. anyone know what I have to do?\n",
      "\n",
      "Comment-80: \n",
      "I started watching it when i was single.i got bf and he left me.. now he has wife and 4 kids ..& i m single again &  still watching  😢\n",
      "\n",
      "Comment-81: \n",
      "Shweta arora suggested me\n",
      "\n",
      "Comment-82: \n",
      "Superb\n",
      "\n",
      "Comment-83: \n",
      "Is there any prerequisites\n",
      "\n",
      "Comment-84: \n",
      "LLM and all. slides and all. and all. and all. Please learn english!\n",
      "\n",
      "Comment-85: \n",
      "why always openai ..how users without api will learn along with you\n",
      "\n",
      "Comment-86: \n",
      "22:52 not\n",
      "\n",
      "Comment-87: \n",
      "Sir can't you see this in Hindi or notes in Hindi\n",
      "\n",
      "Comment-88: \n",
      "it is good to learn but llm is not as much accurate as it's hype created. I had asked for vegetarian menu item, everytime it give me non-veg menu items. Now suppose such thing happen with live project. you can think.\n",
      "\n",
      "Comment-89: \n",
      "Yes\n",
      "\n",
      "Comment-90: \n",
      "Yes\n",
      "\n",
      "Comment-91: \n",
      "@freecodecamp pls upload a video for NLP too\n",
      "\n",
      "Comment-92: \n",
      "Only 30% parts are useful . Remaining 70% are chat interaction and other time wasting stuff...\n",
      "\n",
      "Comment-93: \n",
      "Currently I am at 9:20:24.\n",
      "\n",
      "Comment-94: \n",
      "Yes\n",
      "\n",
      "Comment-95: \n",
      "Wow\n",
      "\n",
      "Comment-96: \n",
      "What are prerequisite for complete understanding of this course any language?\n",
      "\n",
      "Comment-97: \n",
      "Prerequisite to watch and understand\n",
      "\n",
      "Comment-98: \n",
      "Course might be good but wasted so much time by repeating same words again and again  ..its 25 mins and still tutor repeating same words genAi , chatgpt\n",
      "\n",
      "Comment-99: \n",
      "Certificate???\n",
      "\n",
      "Comment-100: \n",
      "Currently I am at 6:28:46\n"
     ]
    }
   ],
   "source": [
    "import requests\n",
    "\n",
    "API_KEY = API_KEY\n",
    "VIDEO_ID = vid\n",
    "COMMENTS_API_URL = 'https://www.googleapis.com/youtube/v3/commentThreads'\n",
    "\n",
    "def get_video_comments(video_id, api_key, max_results=100):\n",
    "    comments = []\n",
    "    page_token = ''\n",
    "    while len(comments) < max_results:\n",
    "        params = {\n",
    "            'part': 'snippet',\n",
    "            'videoId': video_id,\n",
    "            'key': api_key,\n",
    "            'textFormat': 'plainText',\n",
    "            'maxResults': 100,\n",
    "            'pageToken': page_token\n",
    "        }\n",
    "        response = requests.get(COMMENTS_API_URL, params=params)\n",
    "        data = response.json()\n",
    "\n",
    "        if 'items' not in data:\n",
    "            break\n",
    "\n",
    "        for item in data['items']:\n",
    "            comments.append(item['snippet']['topLevelComment']['snippet']['textDisplay'])\n",
    "            if len(comments) >= max_results:\n",
    "                break\n",
    "\n",
    "        page_token = data.get('nextPageToken')\n",
    "        if not page_token:\n",
    "            break\n",
    "\n",
    "    return comments\n",
    "\n",
    "video_responses = get_video_comments(VIDEO_ID, API_KEY, max_results=100)\n",
    "count = 0\n",
    "for comment in video_responses:\n",
    "    count += 1\n",
    "    print(f'\\nComment-{count}: ')\n",
    "    print(comment)"
   ]
  },
  {
   "cell_type": "markdown",
   "metadata": {},
   "source": [
    "**Getting video description of sample video**"
   ]
  },
  {
   "cell_type": "code",
   "execution_count": 4,
   "metadata": {},
   "outputs": [
    {
     "name": "stdout",
     "output_type": "stream",
     "text": [
      "Video Description:\n",
      "Learn about generative models and different frameworks, investigating the production of text and visual material produced by artificial intelligence. This course was originally recorded live.\n",
      "\n",
      "Instructors:  Krish Naik, Sunny Savita, and Boktiar Ahmed Bappy.  \n",
      " \n",
      "For course details, visit: https://ineuron.ai/course/generative-ai-community-edition\n",
      "\n",
      "⌨️ (00:00:00) DAY 1: Introduction to Generative AI Community Course\n",
      "⌨️ (01:44:14) DAY 2: Introduction to OpenAI and understanding the OpenAI API\n",
      "⌨️ (03:37:49) DAY 3: Introduction to LangChain\n",
      "⌨️ (05:16:48) Day 4: Hugging Face API + Langchain\n",
      "⌨️ (07:13:08) DAY 5: Memory in Langchain\n",
      "⌨️ (09:07:53) DAY 6: LLM Generative AI Project using OpenAI & LangChain\n",
      "⌨️ (11:03:29) DAY 7: LLM Generative AI Project & Deployment\n",
      "⌨️ (13:09:02) DAY 8: Introduction to Vector Database for AI & LLM\n",
      "⌨️ (14:52:41) DAY 9: Mastering Vector Databases with Pinecone\n",
      "⌨️ (17:02:19) DAY 10: Mastering ChromaDB Vector Databases\n",
      "⌨️ (19:04:25) DAY 11: Introducing Meta Llama 2\n",
      "⌨️ (20:54:33) DAY 12: End to End Medical Chatbot Project, Part 1\n",
      "⌨️ (22:36:05) DAY 13: End to End Medical Chatbot Project, Part 2\n",
      "⌨️ (24:22:10) Generative AI: Everything You need to know about Gemini Pro LLM Models\n",
      "⌨️ (26:16:33) End to End Gen AI Project using Google Gemini Pro\n",
      "⌨️ (28:24:14) Webinar - Generative AI Revolution: The Future\n",
      "\n",
      "🎉 Thanks to our Champion and Sponsor supporters:\n",
      "👾 davthecoder\n",
      "👾 jedi-or-sith\n",
      "👾 南宮千影\n",
      "👾 Agustín Kussrow\n",
      "👾 Nattira Maneerat\n",
      "👾 Heather Wcislo\n",
      "👾 Serhiy Kalinets\n",
      "👾 Justin Hual\n",
      "👾 Otis Morgan \n",
      "👾 Oscar Rahnama\n",
      "\n",
      "--\n",
      "\n",
      "Learn to code for free and get a developer job: https://www.freecodecamp.org\n",
      "\n",
      "Read hundreds of articles on programming: https://freecodecamp.org/news\n"
     ]
    }
   ],
   "source": [
    "VIDEO_API_URL = 'https://www.googleapis.com/youtube/v3/videos'\n",
    "\n",
    "def get_video_description(video_id, api_key):\n",
    "    params = {\n",
    "        'part': 'snippet',\n",
    "        'id': video_id,\n",
    "        'key': api_key\n",
    "    }\n",
    "    response = requests.get(VIDEO_API_URL, params=params)\n",
    "    data = response.json()\n",
    "    \n",
    "    if 'items' in data and len(data['items']) > 0:\n",
    "        return data['items'][0]['snippet']['description']\n",
    "    else:\n",
    "        return 'No description available.'\n",
    "\n",
    "description = get_video_description(VIDEO_ID, API_KEY)\n",
    "print('Video Description:')\n",
    "print(description)\n"
   ]
  },
  {
   "cell_type": "markdown",
   "metadata": {},
   "source": [
    "**Getting video's view count of sample video**"
   ]
  },
  {
   "cell_type": "code",
   "execution_count": 5,
   "metadata": {},
   "outputs": [
    {
     "name": "stdout",
     "output_type": "stream",
     "text": [
      "View Count:\n",
      "769805\n"
     ]
    }
   ],
   "source": [
    "def get_video_view_count(video_id, api_key):\n",
    "    params = {\n",
    "        'part': 'statistics',\n",
    "        'id': video_id,\n",
    "        'key': api_key\n",
    "    }\n",
    "    response = requests.get(VIDEO_API_URL, params=params)\n",
    "    data = response.json()\n",
    "    \n",
    "    if 'items' in data and len(data['items']) > 0:\n",
    "        statistics = data['items'][0]['statistics']\n",
    "        return statistics['viewCount']\n",
    "    else:\n",
    "        return 'No view count available.'\n",
    "\n",
    "view_count = get_video_view_count(VIDEO_ID, API_KEY)\n",
    "print('View Count:')\n",
    "print(view_count)\n"
   ]
  },
  {
   "cell_type": "markdown",
   "metadata": {},
   "source": [
    "**Getting video's like count of sample video**"
   ]
  },
  {
   "cell_type": "code",
   "execution_count": 6,
   "metadata": {},
   "outputs": [
    {
     "name": "stdout",
     "output_type": "stream",
     "text": [
      "Like Count:\n",
      "29562\n"
     ]
    }
   ],
   "source": [
    "def get_video_like_count(video_id, api_key):\n",
    "    params = {\n",
    "        'part': 'statistics',\n",
    "        'id': video_id,\n",
    "        'key': api_key\n",
    "    }\n",
    "    response = requests.get(VIDEO_API_URL, params=params)\n",
    "    data = response.json()\n",
    "    \n",
    "    if 'items' in data and len(data['items']) > 0:\n",
    "        statistics = data['items'][0]['statistics']\n",
    "        return statistics['likeCount']\n",
    "    else:\n",
    "        return 'No like count available.'\n",
    "\n",
    "like_count = get_video_like_count(VIDEO_ID, API_KEY)\n",
    "print('Like Count:')\n",
    "print(like_count)\n"
   ]
  },
  {
   "cell_type": "markdown",
   "metadata": {},
   "source": [
    "**Getting video's dislike count of sample video**"
   ]
  },
  {
   "cell_type": "code",
   "execution_count": 7,
   "metadata": {},
   "outputs": [
    {
     "name": "stdout",
     "output_type": "stream",
     "text": [
      "Dislike Count:\n",
      "Dislike count not available.\n"
     ]
    }
   ],
   "source": [
    "def get_video_dislike_count(video_id, api_key):\n",
    "    params = {\n",
    "        'part': 'statistics',\n",
    "        'id': video_id,\n",
    "        'key': api_key\n",
    "    }\n",
    "    response = requests.get(VIDEO_API_URL, params=params)\n",
    "    data = response.json()\n",
    "    \n",
    "    if 'items' in data and len(data['items']) > 0:\n",
    "        statistics = data['items'][0]['statistics']\n",
    "        return statistics.get('dislikeCount', 'Dislike count not available.')\n",
    "    else:\n",
    "        return 'No dislike count available.'\n",
    "\n",
    "dislike_count = get_video_dislike_count(VIDEO_ID, API_KEY)\n",
    "print('Dislike Count:')\n",
    "print(dislike_count)\n"
   ]
  },
  {
   "cell_type": "markdown",
   "metadata": {},
   "source": [
    "**Getting video's comments count of sample video**"
   ]
  },
  {
   "cell_type": "code",
   "execution_count": 8,
   "metadata": {},
   "outputs": [
    {
     "name": "stdout",
     "output_type": "stream",
     "text": [
      "Comment Count:\n",
      "975\n"
     ]
    }
   ],
   "source": [
    "def get_video_comment_count(video_id, api_key):\n",
    "    params = {\n",
    "        'part': 'statistics',\n",
    "        'id': video_id,\n",
    "        'key': api_key\n",
    "    }\n",
    "    response = requests.get(VIDEO_API_URL, params=params)\n",
    "    data = response.json()\n",
    "    \n",
    "    if 'items' in data and len(data['items']) > 0:\n",
    "        statistics = data['items'][0]['statistics']\n",
    "        return statistics.get('commentCount', 'Comment count not available.')\n",
    "    else:\n",
    "        return 'No comment count available.'\n",
    "\n",
    "comment_count = get_video_comment_count(VIDEO_ID, API_KEY)\n",
    "print('Comment Count:')\n",
    "print(comment_count)"
   ]
  },
  {
   "cell_type": "markdown",
   "metadata": {},
   "source": [
    "**Getting duration of sample video**"
   ]
  },
  {
   "cell_type": "markdown",
   "metadata": {},
   "source": [
    "contentDetails.duration\tstring\n",
    "The length of the video. The property value is an ISO 8601 duration. For example, for a video that is at least one minute long and less than one hour long, the duration is in the format PT#M#S, in which the letters PT indicate that the value specifies a period of time, and the letters M and S refer to length in minutes and seconds, respectively. The # characters preceding the M and S letters are both integers that specify the number of minutes (or seconds) of the video. For example, a value of PT15M33S indicates that the video is 15 minutes and 33 seconds long.\n",
    "\n",
    "If the video is at least one hour long, the duration is in the format PT#H#M#S, in which the # preceding the letter H specifies the length of the video in hours and all of the other details are the same as described above. If the video is at least one day long, the letters P and T are separated, and the value's format is P#DT#H#M#S. Please refer to the ISO 8601 specification for complete details."
   ]
  },
  {
   "cell_type": "code",
   "execution_count": 9,
   "metadata": {},
   "outputs": [
    {
     "name": "stdout",
     "output_type": "stream",
     "text": [
      "Duration:\n",
      "1 day, 6:18:02\n"
     ]
    }
   ],
   "source": [
    "from isodate import parse_duration\n",
    "\n",
    "def get_video_duration(video_id, api_key):\n",
    "    params = {\n",
    "        'part': 'contentDetails',\n",
    "        'id': video_id,\n",
    "        'key': api_key\n",
    "    }\n",
    "    response = requests.get(VIDEO_API_URL, params=params)\n",
    "    data = response.json()\n",
    "    \n",
    "    if 'items' in data and len(data['items']) > 0:\n",
    "        content_details = data['items'][0]['contentDetails']\n",
    "        duration = content_details['duration']\n",
    "        return parse_duration(duration)\n",
    "    else:\n",
    "        return 'No duration available.'\n",
    "\n",
    "duration = get_video_duration(VIDEO_ID, API_KEY)\n",
    "if duration != 'No duration available.':\n",
    "    print('Duration:')\n",
    "    print(duration)\n",
    "else:\n",
    "    print(duration)\n"
   ]
  },
  {
   "cell_type": "markdown",
   "metadata": {},
   "source": [
    "**Function that can get viewcount, likecount, dislikecount and commentcount of sample video**"
   ]
  },
  {
   "cell_type": "code",
   "execution_count": 10,
   "metadata": {},
   "outputs": [
    {
     "name": "stdout",
     "output_type": "stream",
     "text": [
      "View Count: 769805\n",
      "Like Count: 29562\n",
      "Dislike Count: No data\n",
      "Comment Count: 975\n"
     ]
    }
   ],
   "source": [
    "def get_video_statistics(video_id, api_key):\n",
    "    params = {\n",
    "        'part': 'statistics',\n",
    "        'id': video_id,\n",
    "        'key': api_key\n",
    "    }\n",
    "    response = requests.get(VIDEO_API_URL, params=params)\n",
    "    data = response.json()\n",
    "    \n",
    "    if 'items' in data and len(data['items']) > 0:\n",
    "        statistics = data['items'][0]['statistics']\n",
    "        return {\n",
    "            'viewCount': statistics.get('viewCount', 'No data'),\n",
    "            'likeCount': statistics.get('likeCount', 'No data'),\n",
    "            'dislikeCount': statistics.get('dislikeCount', 'No data'),\n",
    "            'commentCount': statistics.get('commentCount', 'No data')\n",
    "        }\n",
    "    else:\n",
    "        return 'No statistics available.'\n",
    "\n",
    "stats = get_video_statistics(VIDEO_ID, API_KEY)\n",
    "if stats != 'No statistics available.':\n",
    "    print('View Count:', stats['viewCount'])\n",
    "    print('Like Count:', stats['likeCount'])\n",
    "    print('Dislike Count:', stats['dislikeCount'])\n",
    "    print('Comment Count:', stats['commentCount'])\n",
    "else:\n",
    "    print(stats)"
   ]
  },
  {
   "cell_type": "markdown",
   "metadata": {},
   "source": [
    "### Divide the data in 5 parts to scrap the data "
   ]
  },
  {
   "cell_type": "code",
   "execution_count": 11,
   "metadata": {},
   "outputs": [],
   "source": [
    "\n",
    "# input_csv_path = 'vdoLinks.csv'\n",
    "# df = pd.read_csv(input_csv_path)\n",
    "\n",
    "# total_rows = len(df)\n",
    "# chunk_size = total_rows // 5  \n",
    "\n",
    "# parts = []\n",
    "# for i in range(4):\n",
    "#     if i < 3:\n",
    "#         part = df.iloc[i * chunk_size:(i + 1) * chunk_size]\n",
    "#     else:\n",
    "#         part = df.iloc[i * chunk_size:] \n",
    "#     parts.append(part)\n",
    "\n",
    "# for idx, part in enumerate(parts):\n",
    "#     part.to_csv(f'part_{idx + 1}.csv', index=False)\n",
    "#     print(f'Part {idx + 1} saved as part_{idx + 1}.csv')"
   ]
  },
  {
   "cell_type": "markdown",
   "metadata": {},
   "source": [
    "**Function that can get statistics of youtube video**"
   ]
  },
  {
   "cell_type": "code",
   "execution_count": 12,
   "metadata": {},
   "outputs": [],
   "source": [
    "def get_video_statistics(video_id, api_key):\n",
    "    params = {\n",
    "        'part': 'snippet,statistics,contentDetails',\n",
    "        'id': video_id,\n",
    "        'key': api_key\n",
    "    }\n",
    "    response = requests.get(VIDEO_API_URL, params=params)\n",
    "    data = response.json()\n",
    "    \n",
    "    if 'items' in data and len(data['items']) > 0:\n",
    "        statistics = data['items'][0]['statistics']\n",
    "        content_details = data['items'][0]['contentDetails']\n",
    "        snippet = data['items'][0]['snippet']\n",
    "        \n",
    "        comments = get_comments(video_id, api_key)\n",
    "        \n",
    "        return {\n",
    "            'viewCount': statistics.get('viewCount', 'No data'),\n",
    "            'likeCount': statistics.get('likeCount', 'No data'),\n",
    "            'dislikeCount': statistics.get('dislikeCount', 'No data'),\n",
    "            'commentCount': statistics.get('commentCount', 'No data'),\n",
    "            'duration': content_details.get('duration', 'No data'),\n",
    "            'description': snippet.get('description', 'No data'),\n",
    "            'comments': comments\n",
    "        }\n",
    "    else:\n",
    "        return {\n",
    "            'viewCount': 'No data',\n",
    "            'likeCount': 'No data',\n",
    "            'dislikeCount': 'No data',\n",
    "            'commentCount': 'No data',\n",
    "            'duration': 'No data',\n",
    "            'description': 'No data',\n",
    "            'comments': []\n",
    "        }\n",
    "\n",
    "def get_comments(video_id, api_key, max_results=100):\n",
    "    params = {\n",
    "        'part': 'snippet',\n",
    "        'videoId': video_id,\n",
    "        'key': api_key,\n",
    "        'maxResults': max_results,\n",
    "        'textFormat': 'plainText'\n",
    "    }\n",
    "    response = requests.get(COMMENTS_API_URL, params=params)\n",
    "    data = response.json()\n",
    "    \n",
    "    comments = []\n",
    "    if 'items' in data:\n",
    "        for item in data['items']:\n",
    "            comment = item['snippet']['topLevelComment']['snippet']['textDisplay']\n",
    "            comments.append(comment)\n",
    "    \n",
    "    return comments\n",
    "\n",
    "def parse_duration(durations):\n",
    "    parsed_durations = []\n",
    "    for duration in durations:\n",
    "        try:\n",
    "            parsed_duration = isodate.parse_duration(duration)\n",
    "            parsed_durations.append(parsed_duration)\n",
    "        except Exception:\n",
    "            parsed_durations.append('No data')\n",
    "    return parsed_durations"
   ]
  },
  {
   "cell_type": "code",
   "execution_count": 13,
   "metadata": {},
   "outputs": [],
   "source": [
    "api_keys = ['Enter api keys']"
   ]
  },
  {
   "cell_type": "markdown",
   "metadata": {},
   "source": [
    "**By using this function we can fetch the data from our csv file and apply the statistics fuction and can save to csv file**"
   ]
  },
  {
   "cell_type": "code",
   "execution_count": 14,
   "metadata": {},
   "outputs": [],
   "source": [
    "def output():\n",
    "    \n",
    "    input_csv_path = 'part_4.csv'\n",
    "    output_csv_path = 'output_4.csv'\n",
    "    \n",
    "    df = pd.read_csv(input_csv_path)\n",
    "    \n",
    "    view_counts = []\n",
    "    like_counts = []\n",
    "    dislike_counts = []\n",
    "    comment_counts = []\n",
    "    durations = []\n",
    "    descriptions = []\n",
    "    comments_data = []\n",
    "\n",
    "    for vid in df['youtubeId']:\n",
    "        stats = get_video_statistics(vid, api_keys[4])\n",
    "        view_counts.append(stats['viewCount'])\n",
    "        like_counts.append(stats['likeCount'])\n",
    "        dislike_counts.append(stats['dislikeCount'])\n",
    "        comment_counts.append(stats['commentCount'])\n",
    "        durations.append(stats['duration'])\n",
    "        descriptions.append(stats['description'])\n",
    "        comments_data.append(stats['comments'])\n",
    "\n",
    "    df['viewCount'] = view_counts\n",
    "    df['likeCount'] = like_counts\n",
    "    df['dislikeCount'] = dislike_counts\n",
    "    df['commentCount'] = comment_counts\n",
    "    df['duration'] = parse_duration(durations)\n",
    "    df['description'] = descriptions\n",
    "    df['comments'] = comments_data\n",
    "    \n",
    "    df.to_csv(output_csv_path, index=False)\n",
    "    print(f'Successfully saved to {output_csv_path}')\n",
    "\n",
    "# if __name__ == \"__main__\":\n",
    "#     output()"
   ]
  },
  {
   "cell_type": "markdown",
   "metadata": {},
   "source": [
    "We had run above function 5 times to scrap the data now we will merge that data and made new csv file to work further"
   ]
  },
  {
   "cell_type": "code",
   "execution_count": 15,
   "metadata": {},
   "outputs": [
    {
     "name": "stdout",
     "output_type": "stream",
     "text": [
      "Successfully saved merged data to output.csv\n"
     ]
    }
   ],
   "source": [
    "def merge_and_remove_duplicates(csv_files, output_csv_path):\n",
    "    \n",
    "    dfs = []\n",
    "    for csv_file in csv_files:\n",
    "        df = pd.read_csv(csv_file,encoding='latin-1')\n",
    "        dfs.append(df)\n",
    "\n",
    "    # Step 2: Merge DataFrames based on 'youtubeId'\n",
    "    merged_df = pd.concat(dfs[:-1], ignore_index=True)  \n",
    "    \n",
    "    # Step 3: Drop duplicate rows based on 'youtubeId'\n",
    "    merged_df.drop_duplicates(subset=['youtubeId'], inplace=True)\n",
    "\n",
    "    # Step 4: Save the merged DataFrame to a CSV file\n",
    "    merged_df.to_csv(output_csv_path, index=False)\n",
    "    print(f'Successfully saved merged data to {output_csv_path}')\n",
    "\n",
    "# if __name__ == \"__main__\":\n",
    "#     csv_files = ['output_1.csv', 'output_2.csv', 'output_3.csv', 'output_4.csv', 'output_5.csv']\n",
    "#     output_csv_path = 'output.csv'\n",
    "    \n",
    "#     merge_and_remove_duplicates(csv_files, output_csv_path)\n"
   ]
  },
  {
   "cell_type": "code",
   "execution_count": 2,
   "metadata": {},
   "outputs": [
    {
     "data": {
      "text/html": [
       "<div>\n",
       "<style scoped>\n",
       "    .dataframe tbody tr th:only-of-type {\n",
       "        vertical-align: middle;\n",
       "    }\n",
       "\n",
       "    .dataframe tbody tr th {\n",
       "        vertical-align: top;\n",
       "    }\n",
       "\n",
       "    .dataframe thead th {\n",
       "        text-align: right;\n",
       "    }\n",
       "</style>\n",
       "<table border=\"1\" class=\"dataframe\">\n",
       "  <thead>\n",
       "    <tr style=\"text-align: right;\">\n",
       "      <th></th>\n",
       "      <th>youtubeId</th>\n",
       "      <th>movieId</th>\n",
       "      <th>title</th>\n",
       "      <th>viewCount</th>\n",
       "      <th>likeCount</th>\n",
       "      <th>dislikeCount</th>\n",
       "      <th>commentCount</th>\n",
       "      <th>duration</th>\n",
       "      <th>description</th>\n",
       "      <th>comments</th>\n",
       "    </tr>\n",
       "  </thead>\n",
       "  <tbody>\n",
       "    <tr>\n",
       "      <th>0</th>\n",
       "      <td>K26_sDKnvMU</td>\n",
       "      <td>1</td>\n",
       "      <td>Toy Story (1995)</td>\n",
       "      <td>116509</td>\n",
       "      <td>150</td>\n",
       "      <td>No data</td>\n",
       "      <td>0</td>\n",
       "      <td>0:01:31</td>\n",
       "      <td>Trailer for Toy Story (1995) captured from the...</td>\n",
       "      <td>[]</td>\n",
       "    </tr>\n",
       "    <tr>\n",
       "      <th>1</th>\n",
       "      <td>3LPANjHlPxo</td>\n",
       "      <td>2</td>\n",
       "      <td>Jumanji (1995)</td>\n",
       "      <td>196560</td>\n",
       "      <td>286</td>\n",
       "      <td>No data</td>\n",
       "      <td>No data</td>\n",
       "      <td>0:02:48</td>\n",
       "      <td>Jumanji Trailer 1995\\nDirector: Joe Johnston\\n...</td>\n",
       "      <td>[]</td>\n",
       "    </tr>\n",
       "    <tr>\n",
       "      <th>2</th>\n",
       "      <td>rEnOoWs3FuA</td>\n",
       "      <td>3</td>\n",
       "      <td>Grumpier Old Men (1995)</td>\n",
       "      <td>221328</td>\n",
       "      <td>220</td>\n",
       "      <td>No data</td>\n",
       "      <td>13</td>\n",
       "      <td>0:01:52</td>\n",
       "      <td>The more things change, the more they stay the...</td>\n",
       "      <td>['Buena pelÃ­cula de comedia romÃ¡ntica', '1:3...</td>\n",
       "    </tr>\n",
       "    <tr>\n",
       "      <th>3</th>\n",
       "      <td>j9xml1CxgXI</td>\n",
       "      <td>4</td>\n",
       "      <td>Waiting to Exhale (1995)</td>\n",
       "      <td>433185</td>\n",
       "      <td>No data</td>\n",
       "      <td>No data</td>\n",
       "      <td>No data</td>\n",
       "      <td>0:02:40</td>\n",
       "      <td>Whitney Houston and Angela Bassett star in thi...</td>\n",
       "      <td>[]</td>\n",
       "    </tr>\n",
       "    <tr>\n",
       "      <th>4</th>\n",
       "      <td>ltwvKLnj1B4</td>\n",
       "      <td>5</td>\n",
       "      <td>Father of the Bride Part II (1995)</td>\n",
       "      <td>No data</td>\n",
       "      <td>No data</td>\n",
       "      <td>No data</td>\n",
       "      <td>No data</td>\n",
       "      <td>No data</td>\n",
       "      <td>No data</td>\n",
       "      <td>[]</td>\n",
       "    </tr>\n",
       "  </tbody>\n",
       "</table>\n",
       "</div>"
      ],
      "text/plain": [
       "     youtubeId  movieId                               title viewCount  \\\n",
       "0  K26_sDKnvMU        1                    Toy Story (1995)    116509   \n",
       "1  3LPANjHlPxo        2                      Jumanji (1995)    196560   \n",
       "2  rEnOoWs3FuA        3             Grumpier Old Men (1995)    221328   \n",
       "3  j9xml1CxgXI        4            Waiting to Exhale (1995)    433185   \n",
       "4  ltwvKLnj1B4        5  Father of the Bride Part II (1995)   No data   \n",
       "\n",
       "  likeCount dislikeCount commentCount duration  \\\n",
       "0       150      No data            0  0:01:31   \n",
       "1       286      No data      No data  0:02:48   \n",
       "2       220      No data           13  0:01:52   \n",
       "3   No data      No data      No data  0:02:40   \n",
       "4   No data      No data      No data  No data   \n",
       "\n",
       "                                         description  \\\n",
       "0  Trailer for Toy Story (1995) captured from the...   \n",
       "1  Jumanji Trailer 1995\\nDirector: Joe Johnston\\n...   \n",
       "2  The more things change, the more they stay the...   \n",
       "3  Whitney Houston and Angela Bassett star in thi...   \n",
       "4                                            No data   \n",
       "\n",
       "                                            comments  \n",
       "0                                                 []  \n",
       "1                                                 []  \n",
       "2  ['Buena pelÃ­cula de comedia romÃ¡ntica', '1:3...  \n",
       "3                                                 []  \n",
       "4                                                 []  "
      ]
     },
     "execution_count": 2,
     "metadata": {},
     "output_type": "execute_result"
    }
   ],
   "source": [
    "df = pd.read_csv('output.csv',encoding='latin-1')\n",
    "df.head()"
   ]
  },
  {
   "cell_type": "markdown",
   "metadata": {},
   "source": [
    "# b. Data cleansing steps"
   ]
  },
  {
   "cell_type": "code",
   "execution_count": 3,
   "metadata": {},
   "outputs": [
    {
     "name": "stdout",
     "output_type": "stream",
     "text": [
      "Unique values in 'youtubeId': ['K26_sDKnvMU' '3LPANjHlPxo' 'rEnOoWs3FuA' ... 'v29P-wchMZQ' 'dAz-nZ65jYU'\n",
      " 'YWmbl_7VVYk']\n",
      "Unique values in 'movieId': [     1      2      3 ... 131258 131260 131262]\n",
      "Unique values in 'title': ['Toy Story (1995)' 'Jumanji (1995)' 'Grumpier Old Men (1995)' ...\n",
      " 'The Pirates (2014)' 'Rentun Ruusu (2001)' 'Innocence (2014)']\n",
      "Unique values in 'viewCount': ['116509' '196560' '221328' ... '48111' '82062' '3441']\n",
      "Unique values in 'likeCount': ['150' '286' '220' ... '1852' '7988' '1250']\n",
      "Unique values in 'dislikeCount': ['No data']\n",
      "Unique values in 'commentCount': ['0' 'No data' '13' '668' '225' '3' '10' '241' '751' '14' '76' '115' '39'\n",
      " '57' '199' '515' '56' '11' '441' '1121' '7' '22' '9' '161' '86' '2166'\n",
      " '38' '58' '117' '73' '677' '4' '2' '5' '6' '104' '1' '151' '102' '87'\n",
      " '207' '15' '21' '85' '34' '23' '140' '17' '64' '242' '483' '125' '155'\n",
      " '336' '20' '18' '35' '74' '16' '28' '12' '49' '24' '90' '171' '19' '26'\n",
      " '129' '53' '60' '29' '162' '665' '123' '343' '2322' '134' '498' '41' '8'\n",
      " '45' '542' '215' '33' '47' '784' '82' '219' '255' '703' '92' '59' '31'\n",
      " '142' '284' '234' '461' '36' '88' '259' '133' '385' '701' '46' '96' '63'\n",
      " '264' '145' '251' '83' '185' '111' '762' '413' '440' '740' '1918' '72'\n",
      " '166' '54' '70' '167' '190' '27' '825' '139' '80' '1932' '532' '25' '374'\n",
      " '479' '68' '62' '724' '224' '66' '48' '1537' '106' '114' '93' '94' '61'\n",
      " '250' '40' '364' '77' '116' '119' '499' '110' '132' '95' '283' '501' '84'\n",
      " '448' '295' '231' '30' '544' '201' '2813' '202' '71' '267' '157' '37'\n",
      " '856' '164' '43' '2687' '474' '81' '44' '1656' '785' '527' '176' '186'\n",
      " '100' '612' '75' '124' '890' '42' '113' '173' '304' '571' '211' '220'\n",
      " '128' '198' '725' '616' '130' '212' '437' '307' '570' '248' '168' '78'\n",
      " '293' '344' '1520' '294' '1246' '310' '216' '108' '346' '694' '365' '131'\n",
      " '32' '273' '318' '575' '510' '204' '226' '870' '1169' '490' '1630' '89'\n",
      " '628' '227' '138' '289' '737' '971' '121' '337' '2094' '356' '69' '169'\n",
      " '152' '1493' '3304' '276' '384' '210' '50' '1065' '657' '229' '65' '726'\n",
      " '118' '147' '232' '252' '239' '160' '55' '271' '487' '52' '297' '548'\n",
      " '1559' '218' '2222' '450' '214' '564' '247' '360' '137' '372' '286' '51'\n",
      " '149' '379' '175' '144' '398' '1240' '120' '282' '183' '431' '127' '662'\n",
      " '545' '105' '174' '1179' '1034' '373' '262' '416' '390' '221' '434' '150'\n",
      " '881' '235' '79' '350' '563' '541' '932' '228' '213' '359' '172' '1269'\n",
      " '739' '313' '103' '143' '109' '209' '742' '592' '428' '325' '1163' '768'\n",
      " '197' '181' '900' '256' '277' '472' '558' '816' '550' '408' '107' '290'\n",
      " '614' '159' '439' '158' '1126' '270' '182' '195' '598' '380' '981' '405'\n",
      " '533' '911' '112' '586' '539' '303' '126' '407' '369' '196' '829' '97'\n",
      " '779' '723' '184' '180' '203' '1039' '257' '280' '287' '135' '292' '1462'\n",
      " '755' '230' '154' '1361' '475' '101' '206' '272' '438' '4267' '99' '314'\n",
      " '178' '387' '975' '339' '377' '1151' '345' '285' '781' '342' '193' '246'\n",
      " '91' '261' '67' '98' '296' '179' '684' '2666' '354' '7709' '192' '2352'\n",
      " '187' '266' '222' '559' '338' '403' '333' '236' '733' '348' '476' '170'\n",
      " '514' '148' '363' '177' '393' '205' '244' '165' '690' '351' '814' '361'\n",
      " '429' '136' '238' '146' '347' '319' '240' '462' '188' '3464' '309' '397'\n",
      " '332' '141' '760' '3297' '383' '449' '321' '761' '485' '572' '396' '260'\n",
      " '5089' '163' '603' '237' '893' '522' '274' '153' '4122' '358' '702' '335'\n",
      " '547' '381' '323' '859' '941' '554' '278' '401' '409' '424' '511' '418'\n",
      " '371' '834' '194' '122' '245' '512' '399' '625' '1280' '328' '311' '635'\n",
      " '773' '423' '529' '353' '191' '722' '258' '632' '775' '1344' '2861' '454'\n",
      " '341' '764' '681' '493' '840' '263' '833' '2299' '249' '217' '463' '414'\n",
      " '3968' '329' '269' '3657' '156' '624' '368' '300' '807' '415' '1071'\n",
      " '969' '265' '4436' '1312' '1048']\n",
      "Unique values in 'duration': ['0:01:31' '0:02:48' '0:01:52' '0:02:40' 'No data' '0:02:28' '0:02:50'\n",
      " '0:01:00' '0:02:52' '0:02:00' '0:04:33' '0:03:03' '0:01:59' '0:02:35'\n",
      " '0:02:42' '0:04:03' '0:02:01' '0:01:24' '0:01:15' '0:02:14' '0:01:57'\n",
      " '0:02:51' '0:01:05' '0:02:09' '0:02:32' '0:03:42' '0:01:56' '0:01:47'\n",
      " '0:02:59' '0:02:12' '0:01:48' '0:02:24' '0:02:26' '0:02:05' '0:02:25'\n",
      " '0:01:51' '0:02:41' '0:02:17' '0:01:37' '0:01:54' '0:02:02' '0:00:55'\n",
      " '0:01:04' '0:01:32' '0:02:19' '0:01:46' '0:01:36' '1:07:33' '0:01:55'\n",
      " '0:01:44' '0:01:38' '0:03:17' '0:01:03' '0:02:27' '0:02:22' '0:02:04'\n",
      " '0:02:15' '0:01:33' '0:11:00' '0:01:08' '0:02:44' '0:02:11' '0:02:16'\n",
      " '0:01:22' '0:09:57' '0:02:13' '0:03:21' '0:01:02' '0:02:29' '0:01:53'\n",
      " '0:01:49' '0:01:30' '1:46:42' '0:02:03' '0:02:30' '0:05:35' '0:01:21'\n",
      " '0:04:59' '0:00:53' '0:02:33' '0:02:54' '0:00:32' '0:00:37' '0:03:23'\n",
      " '0:01:26' '0:01:28' '0:02:46' '0:02:34' '0:02:07' '0:00:22' '0:02:18'\n",
      " '0:02:21' '0:01:11' '0:01:20' '1:32:42' '0:02:49' '0:03:51' '0:01:39'\n",
      " '0:03:28' '0:01:34' '0:01:40' '0:00:31' '0:01:50' '0:00:35' '0:01:23'\n",
      " '0:02:06' '0:02:36' '0:01:18' '1:44:17' '0:03:20' '0:02:55' '0:01:17'\n",
      " '0:02:20' '0:01:35' '0:03:15' '0:01:06' '0:02:39' '0:01:29' '0:01:45'\n",
      " '0:03:06' '0:00:34' '0:01:27' '0:01:42' '0:02:23' '0:02:10' '0:02:38'\n",
      " '0:03:47' '0:02:37' '0:02:31' '0:02:08' '0:03:01' '0:03:10' '0:02:47'\n",
      " '0:02:56' '0:03:33' '0:01:58' '0:34:08' '0:02:43' '0:00:30' '0:00:59'\n",
      " '0:01:19' '0:00:25' '0:01:41' '0:04:55' '0:00:33' '0:00:21' '0:00:15'\n",
      " '0:07:02' '0:01:43' '0:04:29' '0:08:07' '2:31:47' '0:07:22' '0:02:53'\n",
      " '0:09:56' '1:50:28' '0:05:52' '0:00:24' '0:03:04' '0:09:32' '0:01:10'\n",
      " '0:00:29' '0:00:50' '0:04:34' '0:08:33' '0:03:53' '0:06:26' '0:09:50'\n",
      " '0:01:25' '0:00:58' '0:03:05' '0:04:20' '0:04:01' '0:03:35' '0:05:47'\n",
      " '0:03:19' '0:00:56' '0:23:51' '0:06:22' '0:10:43' '1:22:51' '0:09:52'\n",
      " '0:00:27' '1:31:55' '1:54:07' '1:52:09' '1:30:10' '0:26:06' '0:10:01'\n",
      " '0:03:49' '0:01:01' '0:08:03' '0:05:27' '0:03:32' '0:04:04' '0:03:37'\n",
      " '0:01:07' '0:03:43' '0:03:12' '0:14:35' '0:03:38' '0:03:07' '0:00:52'\n",
      " '0:03:44' '0:03:09' '1:09:36' '0:05:22' '0:04:12' '1:31:13' '0:00:28'\n",
      " '0:04:36' '0:00:20' '0:04:52' '0:09:54' '0:00:44' '0:00:41' '0:01:09'\n",
      " '0:03:41' '0:00:48' '0:03:18' '0:00:57' '0:00:39' '0:03:14' '0:00:54'\n",
      " '0:02:57' '0:05:53' '0:03:08' '1:12:55' '0:01:14' '0:03:27' '0:06:31'\n",
      " '0:04:00' '0:03:39' '0:04:30' '0:00:47' '0:01:13' '0:01:16' '0:03:11'\n",
      " '0:03:25' '0:04:45' '0:03:00' '0:04:31' '0:04:18' '0:03:34' '0:04:24'\n",
      " '0:03:16' '0:31:32' '0:03:31' '0:03:13' '0:04:39' '0:00:45' '0:03:29'\n",
      " '0:09:45' '0:01:12' '0:05:11' '0:03:30' '0:03:22' '0:15:00' '0:03:24'\n",
      " '2:31:16' '0:05:03' '1:23:04' '1:54:14' '1:31:45' '1:20:26' '1:28:57'\n",
      " '0:00:36' '0:27:17' '0:04:38' '0:00:23' '0:07:08' '1:08:31' '1:29:55'\n",
      " '0:05:32' '0:10:00' '0:04:32' '0:00:49' '0:04:19' '0:04:05' '0:02:58'\n",
      " '0:02:45' '0:04:42' '0:22:40' '0:04:06' '0:00:16' '0:03:58' '0:07:23'\n",
      " '0:04:47' '0:11:11' '0:04:53' '1:25:56' '0:05:13' '1:16:43' '0:00:46'\n",
      " '2:44:47' '1:00:36' '0:17:10' '1:24:26' '0:14:03' '0:03:02' '0:03:56'\n",
      " '1:31:51' '0:04:41' '0:00:13' '0:04:16' '1:33:59' '1:24:25' '0:04:10'\n",
      " '0:06:48' '0:09:55' '1:19:38' '0:09:33' '0:03:48' '0:03:36' '0:00:43'\n",
      " '0:11:15' '0:09:16' '1:28:00' '1:23:52' '0:00:42' '0:04:27' '0:03:57'\n",
      " '1:08:49' '0:03:46' '0:14:57' '0:00:26' '0:04:07' '1:40:42' '0:03:50'\n",
      " '0:03:54' '0:20:30' '0:06:02' '1:45:48' '0:04:14' '1:25:58' '0:08:29'\n",
      " '0:05:57' '1:06:58' '0:04:46' '0:10:55' '1:35:48' '1:38:40' '0:00:07'\n",
      " '1:03:28' '0:39:07' '1:21:33' '0:04:15' '0:08:13' '0:10:52' '0:08:24'\n",
      " '0:03:45' '0:04:28' '0:04:43' '1:37:14' '1:10:53' '1:36:24' '0:22:32'\n",
      " '0:05:17' '0:15:01' '0:08:31' '1:08:44' '1:37:59' '1:44:22' '1:38:28'\n",
      " '0:04:54' '0:07:44' '1:22:09' '0:04:13' '0:00:38' '0:03:26' '0:14:31'\n",
      " '0:05:59' '0:06:25' '0:05:38' '1:33:12' '0:03:52' '0:04:44' '1:32:18'\n",
      " '0:07:45' '1:40:29' '0:05:10' '0:04:22' '0:18:13' '1:45:02' '1:24:15'\n",
      " '0:29:24' '1:52:10' '1:33:24' '0:09:47' '2:08:49' '0:04:57' '1:32:29'\n",
      " '2:00:02' '0:06:50' '0:04:25' '0:04:40' '0:50:37' '0:09:59' '1:58:08'\n",
      " '0:09:07' '0:00:19' '0:00:40' '1:20:22' '1:13:09' '1:31:00' '1:43:49'\n",
      " '0:04:35' '1:20:40' '0:11:02' '1:10:07' '0:04:23' '0:04:48' '0:04:09'\n",
      " '1:23:01' '0:05:16' '1:31:48' '2:08:00' '0:08:36' '1:36:44' '0:08:00'\n",
      " '1:44:48' '1:16:14' '0:04:51' '0:00:11' '0:07:30' '1:58:53' '0:04:50'\n",
      " '1:08:14' '1:40:19' '1:28:40' '0:06:17' '1:25:44' '0:30:46' '0:04:58'\n",
      " '0:04:49' '0:05:36' '0:07:11']\n",
      "Unique values in 'description': ['Trailer for Toy Story (1995) captured from the The Santa Clause (1994) VHS tape. This tape is labeled 3633 and released in (1994).'\n",
      " 'Jumanji Trailer 1995\\nDirector: Joe Johnston\\nStarring: Kirsten Dunst, Bebe Neuwirth, Bonnie Hunt, David Alan Grier, Robin Williams, Bradley Michael Pierce\\n\\nOfficial Content From Sony Pictures Home Entertainment\\n\\nAfter 25 years, a man is finally freed from the spell of an ancient magical board game. But the kids who saved him accidentally unleash a horde of wild jungle animals, threatening their hometown with destruction.\\n\\nMovie, Jumanji Movie,Jumanji Trailer,Jumanji 1995, Joe Johnston,Kirsten Dunst, Bebe Neuwirth, Bonnie Hunt, David Alan Grier, Robin Williams, Bradley Michael Pierce'\n",
      " 'The more things change, the more they stay the same in Wabasha, Minnesota. The uncatchable fish named Catfish Hunter grows fatter. The wisecracks, zingers and put downs pile up like freshly raked leaves. And GRUMPY OLD MEN become grumpier in the sequel that\\'s \"pure delight, a wonderfully warmhearted comedy\" (David Sheehan, CBS-TV). Grabbing fishing rods and picking up where they left off, JACK LEMMON and WALTER MATTHAU reel in another comedy winner as GRUMPIER OLD MEN. ANN-MARGRET, DARYL HANNAH, KEVIN POLLACK and BURGESS MEREDITH also return to the Land of 10,000 Lakes to reprise their roles. And SOPHIA LOREN is the newcomer whose plan to turn the town\\'s beloved bait shop into a ristorante sends the old boys into a tizzy. Be advised: a tizzy is very contagious. Get ready to laugh. And stay tuned for the outtakes, including \"man-sized manicotti!\" \"Better, funnier and even grumpier than the original.\"  - Joel Siegel, GOOD MORNING AMERICA/ABC-TV (c) 1995 Warner Bros. All Rights Reserved MPAA Rating: PG-13  (c) 1995 Warner Bros. All Rights Reserved #Trailer #WB'\n",
      " ...\n",
      " 'Screen legend Bette Davis (\"All About Eve,\" \"Jezebel\") stars in a dual role playing twin sisters -- one good and one evil -- in this entertaining drama of romantic revenge. Paul Henreid (\"Casablanca\"), Davis\\' co-star in the classic \"Now Voyager,\" directs. #Trailer #WB'\n",
      " 'An FBI agent, investigating the case of a murdered serial killer, finds himself on the trail of an avenging former agent who has dedicated himself to hunting down serial killers. He begins to suspect that the man is now after the biggest fish, a \"suspect zero\" responsible for hundreds of murders. 2004 TM Copyright  2007 by Paramount Pictures.  All Rights Reserved.'\n",
      " 'What happens when two people live inside one man? \\r\\nThe Leaning Tower (2006) is a warm tragicomedy about difference. There are over six billion people in the world and as many ways of surviving in life. This is one of them. \\r\\nThe Leaning Tower is a film about how it feels to live from day to day without knowing what is true and what is not.\\r\\nwww.artistafilmi.fi \\r\\nShootings in Finland, VillilÃ¤ studios in Nakkila and in Italy, Florence, Pisa and Venice.\\r\\nThe 48th Nordic Film Days in LÃ¼beck rewarded Martti Suosalo with a Special Mention for his marvellous work in the film.\\r\\nENGLISH and SWEDISH subtitles.']\n",
      "Unique values in 'comments': ['[]'\n",
      " '[\\'Buena pelÃ\\xadcula de comedia romÃ¡ntica\\', \\'1:36 *GRUMPYâ¬\\x85ï¸\\x8fER* \\\\n         *GRUMPIER*\\', \"I\\'m watching this now, it never gets oldð\\x9f¤£\", \\'Canaloni !!!!\\', \"I was looking for halloween themed movies and stumbled over this... is there anything halloween related in this film?\\\\n\\\\n\\\\nSeen it years ago but can\\'t remember squat\", \\'welp, been 3 years since anybody have commented\\', \\'Well, there was supposed to be another sequel. From what I heard, the two guys go to Italy (to meet their new relatives, I suppose) & wind up meeting Italian versions of themselves.\\', \\'i loved the first one is it like the first one or not??\\']'\n",
      " '[\"Oh these soothing trailers \\\\nWhy can\\'t we have these now\\\\nI stead of dhus dhus dhus dhus boom baam\", \\'Legendary movie\\', \\'THIS, is how Hollywood movies should be created.\\\\nWe are talking about a MASTERPIECE, here.\\', \\'After seeing this film, whenever I meet somebody named Ralph I immediately wanna say: \"Ralph shut up! Ralph, sit down!\"\\', \\'It was only decades later that I discovered that this is love, not a crime saga.\\', \\'I have been thinking and speaking out loud lines from this movie since the day I saw it. Today I\\\\\\'ll say stuff like: \"You\\\\\\'re gonna get killed walkin\\\\\\' the doggie!\" and \"Whoo? Whoo? - What are you? A fuckin\\\\\\' owl?\" plus a staple in my vocabulary:  \"Don\\\\\\'t waste my motherfuckin\\\\\\' time!\"\\', \\'How many here can admit that this film changed a life.\\', \"What\\'s  the song ? It\\'s  good\", \\'M.Mann, A.Pacino, R.DeNiro and Moby nailed it.\\', \\'0:59\\', \\'Otra de las pelÃ\\xadculas de Roberto de Niro : Ronin\\', \"I don\\'t know why I\\'m watching trailers of films that I already watched i think this is kinda nostalgic ð\\x9f\\x92\\x9c\", \\'â\\x99¥ï¸\\x8fð\\x9f\\x91\\x8fð\\x9f\\x91\\x8c\\', \\'This movie belongs with classics like The Godfather and\\\\n Apocalypse Now \\\\nas the very elite films of all time\\', \\'Wow!! Michael Mann\\\\\\'s greatest achievement: with an all-star cast in his jaw-dropping crime tour de force, \\\\\\'Heat\": DeNiro, Pacino, Kilmer, et al. All headed towards an explosive ending like few other films.\\', \\'2:16\\', \"We\\'re long overdue for a Michael Mann crime saga. Nobody does it quite like him.\", \\'The absolute legend, he never misses.\\', \"They don\\'t make em like this no more. Captivating crime drama with the cream of the crop talent in Hollywood in a perfect blend of action , tension ,a smart script and superb cinematography.\", \\'Ð\\x9fÐ¾Ñ\\x80Ð° Ð³Ð¾Ð²Ð¾Ñ\\x80Ð¸Ñ\\x82Ñ\\x8c Ð\\x9fÐ\\xa0Ð¯Ð\\x9cÐ\\x9e. Ð\\x92Ð¡Ð\\x81 Ð\\x98Ð¡Ð\\x9aÐ£Ð¡Ð¡Ð¢Ð\\x92Ð\\x9e: Ð\\x9aÐ\\x98Ð\\x9dÐ\\x9e, Ð¢Ð\\x95Ð\\x90Ð¢Ð\\xa0, Ð\\x9cÐ£Ð\\x97Ð«Ð\\x9aÐ\\x90, Ð\\x9aÐ\\x9dÐ\\x98Ð\\x93Ð\\x98, Ð\\x9fÐ\\x9eÐ\\xadÐ\\x97Ð\\x98Ð¯, Ð\\x96Ð\\x98Ð\\x92Ð\\x9eÐ\\x9fÐ\\x98Ð¡Ð¬ Ð¸Ð¼ÐµÐµÑ\\x82 Ð\\x98Ð¡Ð\\x9aÐ\\x9bÐ®Ð§Ð\\x98Ð¢Ð\\x95Ð\\x9bÐ¬Ð\\x9dÐ\\x9e Ð\\x94Ð\\x92Ð\\x90 Ð\\x93Ð\\x9bÐ\\x9eÐ\\x91Ð\\x90Ð\\x9bÐ¬Ð\\x9dÐ«Ð¥ Ð¡Ð\\x9cÐ«Ð¡Ð\\x9bÐ\\x90 , Ð»Ð¸Ð±Ð¾ Ñ\\x81Ð»Ñ\\x83Ð¶Ð¸Ñ\\x82 Ð\\x9fÐ\\xa0Ð\\x9eÐ¡Ð\\x9bÐ\\x90Ð\\x92Ð\\x9bÐ\\x95Ð\\x9dÐ\\x98Ð® Ð\\x91Ð\\x9eÐ\\x96Ð¬Ð\\x95Ð\\x93Ð\\x9e Ð¡Ð\\x9bÐ\\x9eÐ\\x92Ð\\x90 , Ð»Ð¸Ð±Ð¾ Ð´Ñ\\x8cÑ\\x8fÐ²Ð¾Ð»Ñ\\x83. Ð¡Ð\\x9bÐ£Ð\\x96Ð\\x98Ð¢Ð¬ Ð\\x91Ð\\x9eÐ\\x96Ð¬Ð\\x95Ð\\x9cÐ£ Ð¡Ð\\x9bÐ\\x9eÐ\\x92Ð£ Ñ\\x8dÑ\\x82Ð¾ Ð·Ð½Ð°Ñ\\x87Ð¸Ñ\\x82 , ÐºÐ°Ð¶Ð´Ñ\\x8bÐ¼ Ð\\x9aÐ\\x90Ð\\x94Ð\\xa0Ð\\x9eÐ\\x9c, Ð\\xa0Ð\\x95Ð\\x9fÐ\\x9bÐ\\x98Ð\\x9aÐ\\x9eÐ\\x99, Ð\\x9aÐ£Ð\\x9fÐ\\x9bÐ\\x95Ð¢Ð\\x9eÐ\\x9c Ð¸ Ñ\\x82.Ð¿. \"Ð\\x9fÐ\\xa0Ð\\x98Ð\\x92Ð\\x9eÐ\\x94Ð\\x98Ð¢Ð¬\" Ð\\x9dÐ\\x90Ð¡, Ð\\x97Ð\\xa0Ð\\x98Ð¢Ð\\x95Ð\\x9bÐ\\x95Ð\\x99, Ð¡Ð\\x9bÐ£Ð¨Ð\\x90Ð¢Ð\\x95Ð\\x9bÐ\\x95Ð\\x99 Ðº Ð\\x9fÐ\\x9eÐ\\x9aÐ\\x90Ð¯Ð\\x9dÐ\\x98Ð®, Ð¡Ð\\x9fÐ\\x90Ð¡Ð\\x95Ð\\x9dÐ\\x98Ð® Ð\\x94Ð£Ð¨Ð\\x98, Ð¸ Ñ\\x81Ð¾Ð¾Ñ\\x82Ð²ÐµÑ\\x82Ñ\\x81Ñ\\x82Ð²ÐµÐ½Ð½Ð¾ Ð½Ð°Ð¾Ð±Ð¾Ñ\\x80Ð¾Ñ\\x82, Ð¼Ð°ÐºÑ\\x81Ð¸Ð¼Ð°Ð»Ñ\\x8cÐ½Ð¾ Ñ\\x83Ð´Ð°Ð»Ñ\\x8fÑ\\x82Ñ\\x8c Ð¾Ñ\\x82 Ð½ÐµÐ³Ð¾. \\\\n\\\\nÐ\\x9cÐ\\x95Ð\\xa0Ð\\x97Ð\\x9aÐ\\x9eÐ\\x95 Ñ\\x81Ð°Ñ\\x82Ð°Ð½Ð¸Ð½Ñ\\x81ÐºÐ¾Ðµ Ð\\x9aÐ\\x98Ð\\x9dÐ\\x9e. Ð\\x94Ð¬Ð¯Ð\\x92Ð\\x9eÐ\\x9bÐ¬Ð¡Ð\\x9aÐ\\x90Ð¯ Ð\\x9dÐ\\x90Ð¡Ð\\x9cÐ\\x95Ð¨Ð\\x9aÐ\\x90, Ð\\x98 Ð¿Ñ\\x80Ð¸Ð¼ÐµÑ\\x80 Ð\\x9cÐ\\x90Ð\\x9dÐ\\x98Ð\\x9fÐ£Ð\\x9bÐ¯Ð¦Ð\\x98Ð\\x98 Ñ\\x87ÐµÐ»Ð¾Ð²ÐµÐºÐ¾Ð¼, Ð° Ð\\x9fÐ\\x9eÐ§Ð\\x95Ð\\x9cÐ£ Ð½Ð°Ð´Ð¾ Ð¿Ð¾Ð½Ð¸Ð¼Ð°Ñ\\x82Ñ\\x8c Ñ\\x81Ð»ÐµÐ´Ñ\\x83Ñ\\x8eÑ\\x89ÐµÐµ. Ð¤Ð\\x98Ð\\x9bÐ¬Ð\\x9c Ð¿Ñ\\x80ÐµÐ¶Ð´Ðµ Ð²Ñ\\x81ÐµÐ³Ð¾ Ð\\x9dÐ\\x90Ð\\x9cÐ\\x95Ð\\xa0Ð\\x95Ð\\x9dÐ\\x9dÐ\\x9e Â«Ð\\xa0Ð\\x90Ð\\x97Ð\\x96Ð\\x98Ð\\x93Ð\\x90Ð\\x95Ð¢Â», Ð½Ð¾ Ð\\x92 Ð\\x94Ð£Ð¨Ð\\x90Ð¥ Ñ\\x81Ð°Ð¼Ð¸Ñ\\x85 Ð\\x97Ð\\xa0Ð\\x98Ð¢Ð\\x95Ð\\x9bÐ\\x95Ð\\x99, Ð´ÐµÐ¹Ñ\\x81Ñ\\x82Ð²Ð¸Ðµ Ñ\\x82Ð°ÐºÐ¸Ñ\\x85 Ð¡Ð¢Ð\\xa0Ð\\x90Ð¨Ð\\x9dÐ«Ð¥ Ð\\x9fÐ\\x9eÐ\\xa0Ð\\x9eÐ§Ð\\x9dÐ«Ð¥ Ð¡Ð¢Ð\\xa0Ð\\x90Ð¡Ð¢Ð\\x95Ð\\x99 ÐºÐ°Ðº Ð\\x93Ð\\x9eÐ\\xa0Ð\\x94Ð«Ð\\x9dÐ¯, Ð¢Ð©Ð\\x95Ð¡Ð\\x9bÐ\\x90Ð\\x92Ð\\x98Ð\\x95(Ð\\x9fÐ\\x90Ð\\x93Ð£Ð\\x91Ð\\x9dÐ\\x90Ð¯ Ð¡Ð¢Ð\\xa0Ð\\x90Ð¡Ð¢Ð¬ Ð\\x9a Ð\\x9bÐ®Ð\\x94Ð¡Ð\\x9aÐ\\x9eÐ\\x99 Ð¡Ð\\x9bÐ\\x90Ð\\x92Ð\\x95), Ð\\x9bÐ£Ð\\x9aÐ\\x90Ð\\x92Ð¡Ð¢Ð\\x92Ð\\x9e, Ð\\x9dÐ\\x95Ð\\x9dÐ\\x90Ð\\x92Ð\\x98Ð¡Ð¢Ð¬, Ð\\x93Ð\\x9dÐ\\x95Ð\\x92, Ð\\x9cÐ\\x95Ð¡Ð¢Ð¬, Ð¡Ð\\xa0Ð\\x95Ð\\x91Ð\\xa0Ð\\x9eÐ\\x9bÐ®Ð\\x91Ð\\x98Ð\\x95(Ð\\x9fÐ\\x90Ð\\x93Ð£Ð\\x91Ð\\x9dÐ\\x90Ð¯ Ð¡Ð¢Ð\\xa0Ð\\x90Ð¡Ð¢Ð¬ Ð\\x9a Ð\\x94Ð\\x95Ð\\x9dÐ¬Ð\\x93Ð\\x90Ð\\x9c), Ð\\x9fÐ\\x9eÐ¥Ð\\x9eÐ¢Ð¬, Ð\\x9bÐ®Ð\\x91Ð\\x9eÐ¡Ð¢Ð¯Ð\\x96Ð\\x90Ð\\x9dÐ\\x98Ð\\x95. Ð\\x90 Ð\\xadÐ¢Ð\\x9e Ð²Ñ\\x81Ñ\\x91 Ð\\x93Ð\\xa0Ð\\x95Ð¥Ð\\x98. Ð\\x90 Ð\\x93Ð\\xa0Ð\\x95Ð¥ Ñ\\x8dÑ\\x82Ð¾ Ð\\xa0Ð\\x90Ð\\x9dÐ\\x90 ÐºÐ¾Ñ\\x82Ð¾Ñ\\x80Ñ\\x83Ñ\\x8e Ñ\\x87ÐµÐ»Ð¾Ð²ÐµÐº Ð½Ð°Ð½Ð¾Ñ\\x81Ð¸Ñ\\x82 Ð¿Ñ\\x80ÐµÐ¶Ð´Ðµ Ð²Ñ\\x81ÐµÐ³Ð¾ Ñ\\x81Ð°Ð¼ Ð¡Ð\\x92Ð\\x9eÐ\\x95Ð\\x99 Ð\\x94Ð£Ð¨Ð\\x95. Ð\\xa0Ð\\x90Ð\\x9dÐ\\x90 ÐºÐ¾Ñ\\x82Ð¾Ñ\\x80Ð°Ñ\\x8f Ð\\x9eÐ¢Ð\\x9aÐ\\xa0Ð«Ð\\x92Ð\\x90Ð\\x95Ð¢ Ð\\x94Ð£Ð¨Ð£ Ð\\x94Ð\\x9bÐ¯ Ð\\x94Ð\\x95Ð\\x9cÐ\\x9eÐ\\x9dÐ\\x9eÐ\\x92 Ð\\x9cÐ£Ð§Ð\\x98Ð¢Ð\\x95Ð\\x9bÐ\\x95Ð\\x99, Ð\\x91Ð\\x95Ð¡Ð\\x9eÐ\\x92 Ð\\x9fÐ\\x9eÐ\\xa0Ð\\x9eÐ§Ð\\x9dÐ«Ð¥ Ð¡Ð¢Ð\\xa0Ð\\x90Ð¡Ð¢Ð\\x95Ð\\x99, Ñ\\x81Ð»Ñ\\x83Ð³ Ð´Ñ\\x8cÑ\\x8fÐ²Ð¾Ð»Ð°. Ð\\x98 Ð\\x92Ð\\x9eÐ¢ Ð¢Ð\\x90Ð\\x9a, Ð\\x9eÐ\\x93Ð\\xa0Ð\\x9eÐ\\x9cÐ\\x9dÐ\\x9eÐ\\x95 Ð\\x91Ð\\x9eÐ\\x9bÐ¬Ð¨Ð\\x98Ð\\x9dÐ¡Ð¢Ð\\x92Ð\\x9e Ð\\x9bÐ®Ð\\x94Ð\\x95Ð\\x99, Ð\\x92Ð\\x9eÐ\\x9bÐ¬Ð\\x9dÐ\\x9e Ð\\x98Ð\\x9bÐ\\x98 Ð\\x9dÐ\\x95 Ð\\x92Ð\\x9eÐ\\x9bÐ¬Ð\\x9dÐ\\x9e Ð¡Ð\\x9eÐ\\x93Ð\\xa0Ð\\x95Ð¨Ð\\x90Ð®Ð¢ (Ð½Ðµ Ð²Ð¾Ð»Ñ\\x8cÐ½Ð¾ Ð·Ð½Ð°Ñ\\x87Ð¸Ñ\\x82 Ñ\\x87Ñ\\x82Ð¾, Ð³Ñ\\x80ÐµÑ\\x85 Ñ\\x82Ð¾Ð»Ñ\\x8cÐºÐ¾ Ñ\\x83 Ñ\\x81ÐµÐ±Ñ\\x8f Ð² Ñ\\x83Ð¼Ðµ, Ð¿Ð¾Ð´ Ð´ÐµÐ¹Ñ\\x81Ñ\\x82Ð²Ð¸ÐµÐ¼ Ñ\\x82Ð¾Ð¹ Ð¸Ð»Ð¸ Ð¸Ð½Ð¾Ð¹ Ð¿Ð¾Ñ\\x80Ð¾Ñ\\x87Ð½Ð¾Ð¹ Ñ\\x81Ñ\\x82Ñ\\x80Ð°Ñ\\x81Ñ\\x82Ð¸, Ñ\\x8fÐ²Ð»Ñ\\x8fÐµÑ\\x82Ñ\\x81Ñ\\x8f Ñ\\x82Ð°ÐºÐ¸Ð¼ Ð¶Ðµ Ð³Ñ\\x80ÐµÑ\\x85Ð¾Ð¼), Ð\\x98 Ð\\x94Ð¬Ð¯Ð\\x92Ð\\x9eÐ\\x9b Â«Ð\\x92Ð\\x92Ð\\x9eÐ\\x94Ð\\x98Ð¢Â» Ð\\x92 Ð\\x94Ð£Ð¨Ð£ Ñ\\x87ÐµÐ»Ð¾Ð²ÐµÐºÐ° Ð\\x94Ð\\x95Ð\\x9cÐ\\x9eÐ\\x9dÐ\\x9eÐ\\x92 Ð\\x9cÐ£Ð§Ð\\x98Ð¢Ð\\x95Ð\\x9bÐ\\x95Ð\\x99 Ñ\\x80Ð°Ð·Ð½Ñ\\x8bÑ\\x85 Ð\\x9fÐ\\x9eÐ\\xa0Ð\\x9eÐ§Ð\\x9dÐ«Ð¥ Ð¡Ð¢Ð\\xa0Ð\\x90Ð¡Ð¢Ð\\x95Ð\\x99. Ð\\x9dÑ\\x83 Ð\\x90 Â«Ð\\x9eÐ\\x91Ð©Ð\\x95Ð\\x9dÐ\\x98Ð\\x95Â» Ñ\\x87ÐµÐ»Ð¾Ð²ÐµÐºÐ° Ð² Ð¶Ð¸Ð·Ð½Ð¸ Ð¡ Ð»Ñ\\x8eÐ±Ñ\\x8bÐ¼ Ð\\x94Ð\\x95Ð\\x9cÐ\\x9eÐ\\x9dÐ\\x9eÐ\\x9c, Â«Ð\\x9fÐ\\xa0Ð\\x98Ð\\x92Ð\\x95Ð\\x94Ð\\x81Ð¢Â» Ñ\\x80Ð°Ð½Ð¾ Ð¸Ð»Ð¸ Ð¿Ð¾Ð·Ð´Ð½Ð¾ Ñ\\x82Ð¾Ð»Ñ\\x8cÐºÐ¾ Ðº Ð¾Ð´Ð½Ð¾Ð¼Ñ\\x83, Ð¸Ð»Ð¸ Ð\\x9a Ð\\x9fÐ¡Ð\\x98Ð¥Ð\\x98Ð§Ð\\x95Ð¡Ð\\x9aÐ\\x9eÐ\\x9cÐ£ Ð\\xa0Ð\\x90Ð¡Ð¡Ð¢Ð\\xa0Ð\\x9eÐ\\x99Ð¡Ð¢Ð\\x92Ð£, Ð¸Ð»Ð¸ Ð£Ð\\x91Ð\\x98Ð\\x99Ð¡Ð¢Ð\\x92Ð£, Ð¸Ð»Ð¸ Ð¡Ð\\x90Ð\\x9cÐ\\x9eÐ£Ð\\x91Ð\\x98Ð\\x99Ð¡Ð¢Ð\\x92Ð£.  Ð\\x98 Ðº Ð\\x90Ð\\x94Ð£ Ð´Ð»Ñ\\x8f Ð\\x94Ð£Ð¨Ð\\x98 Ð¿Ð¾Ñ\\x81Ð»Ðµ Ñ\\x84Ð¸Ð·Ð¸Ñ\\x87ÐµÑ\\x81ÐºÐ¾Ð¹ Ð¡Ð\\x9cÐ\\x95Ð\\xa0Ð¢Ð\\x98 Ñ\\x82ÐµÐ»Ð°.  Ð\\x90 Ð\\x9fÐ\\xa0Ð\\x98Ð\\x9eÐ\\xa0Ð\\x98Ð¢Ð\\x95Ð¢Ð\\x9dÐ«Ð\\x9c Ð´ÐµÐ¼Ð¾Ð½Ð¾Ð¼ ÐºÐ¾Ñ\\x82Ð¾Ñ\\x80Ñ\\x8bÐ¹ Ð·Ð°Ð²Ð»Ð°Ð´ÐµÐ²Ð°ÐµÑ\\x82 Ð´Ñ\\x83Ñ\\x88Ð¾Ð¹ Ñ\\x87ÐµÐ»Ð¾Ð²ÐµÐºÐ° Ð¿Ð¾Ñ\\x81Ð»Ðµ Ð¿Ñ\\x80Ð¾Ñ\\x81Ð¼Ð¾Ñ\\x82Ñ\\x80Ð° Ñ\\x84Ð¸Ð»Ñ\\x8cÐ¼Ð° Ð\\x91Ð£Ð\\x94Ð\\x95Ð¢ Ð\\x94Ð\\x95Ð\\x9cÐ\\x9eÐ\\x9d Ð\\x9cÐ£Ð§Ð\\x98Ð¢Ð\\x95Ð\\x9bÐ¬ Ð\\x9cÐ\\x95Ð¡Ð¢Ð\\x98. Ð\\x9fÐ\\x9eÐ¢Ð\\x9eÐ\\x9cÐ£ Ð§Ð¢Ð\\x9e Ð\\x9aÐ\\x90Ð\\x9a Ñ\\x80ÐµÐ°Ð»Ñ\\x8cÐ½Ð¾ Ð¿Ñ\\x80Ð¸Ð¼ÐµÑ\\x80Ð½Ð¾ Ð\\x92Ð«Ð\\x93Ð\\x9bÐ¯Ð\\x94Ð\\x98Ð¢ Ð\\xadÐ¢Ð\\x9eÐ¢ Ð\\x94Ð\\x95Ð\\x9cÐ\\x9eÐ\\x9d Ð\\x9fÐ\\x9eÐ\\x9aÐ\\x90Ð\\x97Ð\\x90Ð\\x9dÐ\\x9e Ð\\x92 Ð¤Ð\\x98Ð\\x9bÐ¬Ð\\x9cÐ\\x95.  Ð\\x9dÐ¾ Ð\\x98 Ð\\x97Ð\\x90Ð©Ð\\x98Ð¢Ð\\x90 Ñ\\x82Ð¾Ð¶Ðµ Ñ\\x81Ñ\\x83Ñ\\x89ÐµÑ\\x81Ñ\\x82Ð²Ñ\\x83ÐµÑ\\x82. Ð\\x95Ð¡Ð\\x9bÐ\\x98 Ð¡Ð\\x9eÐ\\x93Ð\\xa0Ð\\x95Ð¨Ð\\x98Ð\\x9b (Ð´Ð°Ð¶Ðµ Ñ\\x82Ð¾Ð»Ñ\\x8cÐºÐ¾ Ð² Ð¼Ñ\\x8bÑ\\x81Ð»Ñ\\x8fÑ\\x85, Ð² Ð´Ð°Ð½Ð½Ð¾Ð¼ Ñ\\x81Ð»Ñ\\x83Ñ\\x87Ð°Ðµ Ð¿Ð¾Ñ\\x87Ñ\\x83Ð²Ñ\\x81Ñ\\x82Ð²Ð¾Ð²Ð°Ð» Ð² Ñ\\x81ÐµÐ±Ðµ Ñ\\x8dÑ\\x82Ð¾Ñ\\x82 Ð¿Ð¾Ñ\\x80Ð¾Ðº), Ð½Ð°Ð´Ð¾ Ñ\\x81Ñ\\x80Ð°Ð·Ñ\\x83 Ð¶Ðµ Ð\\x9fÐ\\xa0Ð\\x9eÐ\\x98Ð\\x97Ð\\x9dÐ\\x9eÐ¡Ð\\x98Ð¢Ð¬ Ð\\x9cÐ\\x9eÐ\\x9bÐ\\x98Ð¢Ð\\x92Ð£ Ð\\x93Ð\\x9eÐ¡Ð\\x9fÐ\\x9eÐ\\x94Ð\\x90 Ð½Ð°Ñ\\x88ÐµÐ³Ð¾ Ð\\x98Ð\\x98Ð¡Ð£Ð¡Ð\\x90 Ð¥Ð\\xa0Ð\\x98Ð¡Ð¢Ð\\x90. Â«Ð\\x93Ð\\x9eÐ¡Ð\\x9fÐ\\x9eÐ\\x94Ð\\x98 Ð\\x98Ð\\x98Ð¡Ð£Ð¡Ð\\x95 Ð¥Ð\\xa0Ð\\x98Ð¡Ð¢Ð\\x95 Ð¡Ð«Ð\\x9dÐ\\x95 Ð\\x91Ð\\x9eÐ\\x96Ð\\x98Ð\\x99 Ð¡Ð\\x9fÐ\\x90Ð¡Ð\\x98 Ð\\x98 Ð\\x9fÐ\\x9eÐ\\x9cÐ\\x98Ð\\x9bÐ£Ð\\x99 Ð\\x9cÐ\\x95Ð\\x9dÐ¯ Ð\\x93Ð\\xa0Ð\\x95Ð¨Ð\\x9dÐ\\x9eÐ\\x93Ð\\x9eÂ». Ð¡Ñ\\x82Ð¾Ð¿Ñ\\x80Ð¾Ñ\\x86ÐµÐ½Ñ\\x82Ð½Ð¾ Ð¿Ð¾Ð¼Ð¾Ð³Ð°ÐµÑ\\x82.  Ð\\x98 Ð\\x92Ð\\x9eÐ¢ ÐºÐ°Ðº Ð\\x91Ð«Ð\\x9bÐ\\x9e Ð\\x91Ð« Ð¥Ð\\x9eÐ\\xa0Ð\\x9eÐ¨Ð\\x9e, Ð§Ð¢Ð\\x9eÐ\\x91Ð« Ð\\x9aÐ\\x90Ð\\x96Ð\\x94Ð«Ð\\x99 Ð·Ñ\\x80Ð¸Ñ\\x82ÐµÐ»Ñ\\x8c Ð\\x9fÐ\\x9eÐ\\x9dÐ\\x98Ð\\x9cÐ\\x90Ð\\x9b Ñ\\x8dÑ\\x82Ð¾. Ð\\x9dÐ\\x9e Ð\\xadÐ¢Ð\\x9e Ð¾Ñ\\x87ÐµÐ½Ñ\\x8c Â«Ñ\\x82Ð¾Ð½ÐºÐ¸ÐµÂ» Ð¼Ð¾Ð¼ÐµÐ½Ñ\\x82Ñ\\x8b, Ð\\x9fÐ\\x9eÐ\\x9dÐ¯Ð¢Ð¬ ÐºÐ¾Ñ\\x82Ð¾Ñ\\x80Ñ\\x8bÐµ Ð\\x9cÐ\\x9eÐ\\x96Ð\\x9dÐ\\x9e Ð±Ñ\\x83Ð´ÐµÑ\\x82 Ð¢Ð\\x9eÐ\\x9bÐ¬Ð\\x9aÐ\\x9e Ð§Ð\\x98Ð¢Ð\\x90Ð¯, Ð\\x98 Ð\\x93Ð\\x9bÐ\\x90Ð\\x92Ð\\x9dÐ\\x9eÐ\\x95, Ð\\x98Ð\\x97Ð£Ð§Ð\\x90Ð¯ Ð\\x9aÐ\\x9dÐ\\x98Ð\\x93Ð£ Ð\\x96Ð\\x98Ð\\x97Ð\\x9dÐ\\x98, Ð¡Ð\\x92Ð¯Ð¢Ð\\x9eÐ\\x95 Ð\\x95Ð\\x92Ð\\x90Ð\\x9dÐ\\x93Ð\\x95Ð\\x9bÐ\\x98Ð\\x95.\\\\n\\\\nÐ\\x94Ð° Ð¸ Ð\\x9fÐ\\x9eÐ\\xa0Ð\\x9eÐ§Ð\\x9dÐ«Ð\\x95 Ð¡Ð¢Ð\\xa0Ð\\x90Ð¡Ð¢Ð\\x98 Ñ\\x8dÑ\\x82Ð¾ Ð\\x93Ð\\x9eÐ\\xa0Ð\\x94Ð«Ð\\x9dÐ¯, Ð¢Ð©Ð\\x95Ð¡Ð\\x9bÐ\\x90Ð\\x92Ð\\x98Ð\\x95, Ð\\x9bÐ£Ð\\x9aÐ\\x90Ð\\x92Ð¡Ð¢Ð\\x92Ð\\x9e, Ð¡Ð\\x95Ð\\x91Ð¯Ð\\x9bÐ®Ð\\x91Ð\\x98Ð\\x95, Ð¢Ð\\xa0Ð£Ð¡Ð\\x9eÐ¡Ð¢Ð¬, Ð§Ð\\x95Ð\\x9bÐ\\x9eÐ\\x92Ð\\x95Ð\\x9aÐ\\x9eÐ£Ð\\x93Ð\\x9eÐ\\x94Ð\\x98Ð\\x95, Ð\\x97Ð\\x90Ð\\x92Ð\\x98Ð¡Ð¢Ð¬, Ð\\x96Ð\\x90Ð\\x94Ð\\x9dÐ\\x9eÐ¡Ð¢Ð¬, Ð\\x9eÐ¡Ð£Ð\\x96Ð\\x94Ð\\x95Ð\\x9dÐ\\x98Ð\\x95, Ð\\x90Ð\\x9bÐ§Ð\\x9dÐ\\x9eÐ¡Ð¢Ð¬, Ð¡Ð\\x9aÐ£Ð\\x9fÐ\\x9eÐ¡Ð¢Ð¬, Ð¡Ð\\xa0Ð\\x95Ð\\x91Ð\\xa0Ð\\x9eÐ\\x9bÐ®Ð\\x91Ð\\x98Ð\\x95, Ð\\x9bÐ\\x98Ð¦Ð\\x95Ð\\x9cÐ\\x95Ð\\xa0Ð\\x98Ð\\x95, Ð£Ð\\x9dÐ«Ð\\x9dÐ\\x98Ð\\x95, Ð§Ð\\xa0Ð\\x95Ð\\x92Ð\\x9eÐ£Ð\\x93Ð\\x9eÐ\\x94Ð\\x98Ð\\x95, Ð\\x93Ð\\x9dÐ\\x95Ð\\x92, Ð\\xa0Ð\\x95Ð\\x92Ð\\x9dÐ\\x9eÐ¡Ð¢Ð¬, Ð\\x92Ð\\x9eÐ\\xa0Ð\\x9eÐ\\x92Ð¡Ð¢Ð\\x92Ð\\x9e, Ð\\xa0Ð\\x90Ð\\x97Ð\\x94Ð\\xa0Ð\\x90Ð\\x96Ð\\x95Ð\\x9dÐ\\x98Ð\\x95, Ð\\x92Ð\\x9bÐ\\x90Ð¡Ð¢Ð\\x9eÐ\\x9bÐ®Ð\\x91Ð\\x98Ð\\x95, Ð\\x9fÐ\\x9eÐ¥Ð\\x9eÐ¢Ð¬, Ð\\x9bÐ®Ð\\x91Ð\\x9eÐ\\x9fÐ«Ð¢Ð¡Ð¢Ð\\x92Ð\\x9e, Ð\\x9fÐ¬Ð¯Ð\\x9dÐ¡Ð¢Ð\\x92Ð\\x9e, Ð\\x9aÐ£Ð\\xa0Ð\\x95Ð\\x9dÐ\\x98Ð\\x95, Ð\\x9fÐ\\xa0Ð\\x95Ð\\x9bÐ®Ð\\x91Ð\\x9eÐ\\x94Ð\\x95Ð¯Ð\\x9dÐ\\x98Ð\\x95, Ð\\x9eÐ\\x91Ð\\x98Ð\\x94Ð§Ð\\x98Ð\\x92Ð\\x9eÐ¡Ð¢Ð¬, Ð\\x97Ð\\x90Ð¡Ð¢Ð\\x95Ð\\x9dÐ§Ð\\x98Ð\\x92Ð\\x9eÐ¡Ð¢Ð¬, Ð¥Ð\\x98Ð¢Ð\\xa0Ð\\x9eÐ¡Ð¢Ð¬, Ð\\xa0Ð\\x90Ð¡Ð¡Ð\\x95Ð¯Ð\\x9dÐ\\x9dÐ\\x9eÐ¡Ð¢Ð¬ Ð¸ Ñ\\x82.Ð´. Ð¸ Ñ\\x82.Ð¿. Ð\\x98 Ñ\\x83 Ð\\x9aÐ\\x90Ð\\x96Ð\\x94Ð\\x9eÐ\\x93Ð\\x9e Ð§Ð\\x95Ð\\x9bÐ\\x9eÐ\\x92Ð\\x95Ð\\x9aÐ\\x90 Ñ\\x81Ð²Ð¾Ñ\\x8f(Ð¡Ð¢Ð\\xa0Ð\\x90Ð¡Ð¢Ð¬), Ñ\\x82Ð°Ðº Ñ\\x81ÐºÐ°Ð·Ð°Ñ\\x82Ñ\\x8c, Ð\\x9bÐ\\x98Ð§Ð\\x9dÐ\\x90Ð¯. Ð\\x98  Ð\\xadÐ¢Ð\\x9e Ð²Ñ\\x81Ñ\\x91 Ð\\x91Ð\\x9eÐ\\x9bÐ\\x95Ð\\x97Ð\\x9dÐ\\x98, Ð½Ð¾ Ð\\x91Ð\\x9eÐ\\x9bÐ\\x95Ð\\x97Ð\\x9dÐ\\x98 Ð\\x94Ð£Ð¥Ð\\x9eÐ\\x92Ð\\x9dÐ\\x9eÐ\\x93Ð\\x9e Ð\\x9fÐ\\x9bÐ\\x90Ð\\x9dÐ\\x90.\\\\n\\\\nÐ\\x90 Ð\\x9fÐ\\x9eÐ§Ð\\x95Ð\\x9cÐ£ Ð¼Ñ\\x8b Ð\\x92Ð¡Ð\\x95 Ð\\x91Ð\\x9eÐ\\x9bÐ¬Ð\\x9dÐ«. Ð\\x9fÐ¾Ñ\\x81Ð»Ðµ Ð\\x93Ð\\xa0Ð\\x95Ð¥Ð\\x9eÐ\\x9fÐ\\x90Ð\\x94Ð\\x95Ð\\x9dÐ\\x98Ð¯ Ð\\x90Ð\\x94Ð\\x90Ð\\x9cÐ\\x90 Ð¸ Ð\\x95Ð\\x92Ð« Ð¾Ð½Ð¸ Ð±Ñ\\x8bÐ»Ð¸ Ð\\x98Ð\\x97Ð\\x93Ð\\x9dÐ\\x90Ð\\x9dÐ« Ð\\x98Ð\\x97 Ð\\xa0Ð\\x90Ð¯. Ð\\x94Ð\\x9e Ð³Ñ\\x80ÐµÑ\\x85Ð¾Ð¿Ð°Ð´ÐµÐ½Ð¸Ñ\\x8f Ð¾Ð½Ð¸ Ð\\x96Ð\\x98Ð\\x9bÐ\\x98 Ð\\x92 Ð\\xa0Ð\\x90Ð® Ð¿Ð¾Ð´Ð¾Ð±Ð½Ð¾ Ð\\x90Ð\\x9dÐ\\x93Ð\\x95Ð\\x9bÐ\\x90Ð\\x9c. Ð\\x9fÐ¾Ñ\\x81Ð»Ðµ, Ð\\x91Ð\\x9eÐ\\x93 Ð¾Ð´ÐµÐ» Ð¸Ñ\\x85 Ð² Â«Ð¾Ð´ÐµÐ¶Ð´Ñ\\x8bÂ» Ñ\\x87Ñ\\x82Ð¾ Ð·Ð½Ð°Ñ\\x87Ð¸Ñ\\x82 Ð² Ñ\\x82ÐµÐ»Ð°, Ð¸ Ð\\x94Ð\\x90Ð\\x9b Ð\\x97Ð\\x90Ð\\x9fÐ\\x9eÐ\\x92Ð\\x95Ð\\x94Ð¬ Â«Ð\\x9fÐ\\x9bÐ\\x9eÐ\\x94Ð\\x98Ð¢Ð\\x95Ð¡Ð¬ Ð¸ Ð\\xa0Ð\\x90Ð\\x97Ð\\x9cÐ\\x9dÐ\\x9eÐ\\x96Ð\\x90Ð\\x99Ð¢Ð\\x95Ð¡Ð¬Â» Ð¸ Ð·Ð°Ñ\\x81ÐµÐ»Ñ\\x8fÐ¹Ñ\\x82Ðµ Ð\\x97ÐµÐ¼Ð»Ñ\\x8e. Ð\\x9dÐ\\x9e Ð´Ð»Ñ\\x8f Ñ\\x80Ð°Ð·Ð¼Ð½Ð¾Ð¶ÐµÐ½Ð¸Ñ\\x8f, Ð\\x92 Ð\\x9fÐ\\x9eÐ\\x9bÐ\\x9eÐ\\x92Ð«Ð\\x95 Ð\\x9eÐ¢Ð\\x9dÐ\\x9eÐ¨Ð\\x95Ð\\x9dÐ\\x98Ð¯ Ð\\x9fÐ\\xa0Ð\\x98Ð¥Ð\\x9eÐ\\x94Ð\\x98Ð\\x9bÐ\\x9eÐ¡Ð¬ Ð\\x92Ð¡Ð¢Ð£Ð\\x9fÐ\\x90Ð¢Ð¬ Ð\\x91Ð\\xa0Ð\\x90Ð¢Ð£ Ð¡ Ð¡Ð\\x95Ð¡Ð¢Ð\\xa0Ð\\x9eÐ\\x99. Ð\\x98 Ð\\xadÐ¢Ð\\x9e Ð±Ñ\\x8bÐ»Ð¾ Ð²Ñ\\x8bÐ·Ð²Ð°Ð½Ð¾ Ð½ÐµÐ¾Ð±Ñ\\x85Ð¾Ð´Ð¸Ð¼Ð¾Ñ\\x81Ñ\\x82Ñ\\x8cÑ\\x8e Ð° Ð\\x9dÐ\\x95 Ð\\x9fÐ\\x9eÐ¥Ð\\x9eÐ¢Ð¬Ð®. Ð\\x98 Ð\\x92Ð\\x9eÐ¢ Ð\\x9fÐ\\x9eÐ§Ð\\x95Ð\\x9cÐ£ Ð\\x9aÐ\\x90Ð\\x96Ð\\x94Ð«Ð\\x99 Ñ\\x80Ð¾Ð¶Ð´Ð°Ñ\\x8eÑ\\x89Ð¸Ð¹Ñ\\x81Ñ\\x8f Ñ\\x80ÐµÐ±Ñ\\x91Ð½Ð¾Ðº Ñ\\x83Ð¶Ðµ Ð\\x93Ð\\xa0Ð\\x95Ð¨Ð\\x95Ð\\x9d.  Ð¢Ð¾Ð»Ñ\\x8cÐºÐ¾ Ð½Ðµ Ñ\\x84Ð¸Ð·Ð¸Ñ\\x87ÐµÑ\\x81ÐºÐ¾Ðµ(Ñ\\x84Ð¸Ð·Ð¸Ñ\\x87ÐµÑ\\x81ÐºÐ¾Ðµ ÐµÑ\\x81Ð»Ð¸ Ð²Ñ\\x8bÐ·Ð²Ð°Ð½Ð¾ Ð¿Ð¾Ñ\\x85Ð¾Ñ\\x82Ñ\\x8cÑ\\x8e, Ð¼ÐµÐ¶Ð´Ñ\\x83 Ñ\\x80Ð¾Ð´Ð½Ñ\\x8bÐ¼Ð¸ Ð±Ñ\\x80Ð°Ñ\\x82Ñ\\x8cÑ\\x8fÐ¼Ð¸ Ð¸ Ñ\\x81Ñ\\x91Ñ\\x81Ñ\\x82Ñ\\x80Ð°Ð¼Ð¸), Ð° Ñ\\x82Ð°Ðº Ð½Ð°Ð·Ñ\\x8bÐ²Ð°ÐµÐ¼Ð¾Ðµ Ð\\x9fÐ\\x95Ð\\xa0Ð\\x92Ð\\x9eÐ\\xa0Ð\\x9eÐ\\x94Ð\\x9dÐ\\x9eÐ\\x95 (Ð\\x94Ð£Ð¥Ð\\x9eÐ\\x92Ð\\x9dÐ\\x9eÐ\\x95 , Ð\\x9fÐ\\xa0Ð\\x98Ð§Ð\\x98Ð\\x9dÐ\\x90 ÐºÐ¾Ñ\\x82Ð¾Ñ\\x80Ð¾Ð³Ð¾ Ð\\x93Ð\\xa0Ð\\x95Ð¥Ð\\x9eÐ\\x9fÐ\\x90Ð\\x94Ð\\x95Ð\\x9dÐ\\x98Ð\\x95) Ð\\x9fÐ\\x9eÐ\\x92Ð\\xa0Ð\\x95Ð\\x96Ð\\x94Ð\\x95Ð\\x9dÐ\\x98Ð\\x95(Ð\\x93Ð\\xa0Ð\\x95Ð¥, Ð\\x9fÐ\\x9eÐ\\xa0Ð\\x9eÐ§Ð\\x9dÐ\\x90Ð¯ Ð¡Ð¢Ð\\xa0Ð\\x90Ð¡Ð¢Ð¬) Ð\\x9dÐ\\x90 Ð\\x9aÐ\\x90Ð\\x96Ð\\x94Ð\\x9eÐ\\x9c Ñ\\x87ÐµÐ»Ð¾Ð²ÐµÐºÐµ Ð¿Ñ\\x80Ð¸ Ñ\\x80Ð¾Ð¶Ð´ÐµÐ½Ð¸Ð¸. Ð\\x98 Ð£ Ð\\x9aÐ\\x90Ð\\x96Ð\\x94Ð\\x9eÐ\\x93Ð\\x9e Ñ\\x87ÐµÐ»Ð¾Ð²ÐµÐºÐ° Ñ\\x81Ð²Ð¾Ñ\\x8f Ð¡Ð\\x9eÐ\\x91Ð¡Ð¢Ð\\x92Ð\\x95Ð\\x9dÐ\\x9dÐ\\x90Ð¯ Ð¡Ð¢Ð\\xa0Ð\\x90Ð¡Ð¢Ð¬. Ð\\x98 Ð\\xadÐ¢Ð\\x9e Ð\\x91Ð\\x9eÐ\\x9bÐ\\x95Ð\\x97Ð\\x9dÐ¬, Ð½Ð¾ Ð\\x91Ð\\x9eÐ\\x9bÐ\\x95Ð\\x97Ð\\x9dÐ¬ Ð¿Ñ\\x80ÐµÐ¶Ð´Ðµ Ð²Ñ\\x81ÐµÐ³Ð¾ Ð\\x94Ð£Ð¥Ð\\x9eÐ\\x92Ð\\x9dÐ\\x9eÐ\\x93Ð\\x9e Ð\\x9fÐ\\x9bÐ\\x90Ð\\x9dÐ\\x90.  Ð\\x98 Ð¸Ð¼ÐµÐ½Ð½Ð¾ Ð\\x9fÐ\\x9eÐ\\xa0Ð\\x9eÐ§Ð\\x9dÐ«Ð\\x95 Ð¡Ð¢Ð\\xa0Ð\\x90Ð¡Ð¢Ð\\x98 Ð»Ñ\\x8eÐ´ÐµÐ¹ Ñ\\x8fÐ²Ð»Ñ\\x8fÑ\\x8eÑ\\x82Ñ\\x81Ñ\\x8f Ð\\x9fÐ\\xa0Ð\\x98Ð§Ð\\x98Ð\\x9dÐ\\x9eÐ\\x99 Ð\\x92Ð¡Ð\\x95Ð¥ Ð\\x91Ð\\x95Ð\\x94, Ð¡Ð¢Ð\\xa0Ð\\x90Ð\\x94Ð\\x90Ð\\x9dÐ\\x98Ð\\x99, Ð¸ Ð\\xa0Ð\\x90Ð\\x97Ð\\xa0Ð£Ð¨Ð\\x98Ð¢Ð\\x95Ð\\x9bÐ¬Ð\\x9dÐ«Ð¥ Ð\\x94Ð\\x95Ð\\x99Ð¡Ð¢Ð\\x92Ð\\x98Ð\\x99 Ð½Ð° Ð\\x97ÐµÐ¼Ð»Ðµ. Ð\\x90 Ð²Ð¾Ñ\\x82 Ñ\\x83Ñ\\x81Ð»Ð¾Ð²Ð¸Ñ\\x8f Ð\\x9eÐ¡Ð\\x92Ð\\x9eÐ\\x91Ð\\x9eÐ\\x96Ð\\x94Ð\\x95Ð\\x9dÐ\\x98Ð¯ Ð\\x9eÐ¢ Ñ\\x8dÑ\\x82Ð¾Ð³Ð¾ Ð\\x9fÐ\\x95Ð\\xa0Ð\\x92Ð\\x9eÐ\\xa0Ð\\x9eÐ\\x94Ð\\x9dÐ\\x9eÐ\\x93Ð\\x9e Ð\\x93Ð\\xa0Ð\\x95Ð¥Ð\\x90(Ð\\x9fÐ\\x9eÐ\\x92Ð\\xa0Ð\\x95Ð\\x96Ð\\x94Ð\\x95Ð\\x9dÐ\\x98Ð¯, Ð¡Ð¢Ð\\xa0Ð\\x90Ð¡Ð¢Ð\\x98) ÐºÐ°Ðº Ñ\\x80Ð°Ð· Ð¸ Ð\\x97Ð\\x90Ð\\x9fÐ\\x98Ð¡Ð\\x90Ð\\x9dÐ« Ð² Ð\\x9aÐ\\x9dÐ\\x98Ð\\x93Ð\\x95 Ð\\x96Ð\\x98Ð\\x97Ð\\x9dÐ\\x98, Ð¡Ð\\x92Ð¯Ð¢Ð\\x9eÐ\\x9c Ð\\x95Ð\\x92Ð\\x90Ð\\x9dÐ\\x93Ð\\x95Ð\\x9bÐ\\x98Ð\\x95. Ð\\x9dÐ\\x9e Ð¡Ð\\x9dÐ\\x90Ð§Ð\\x90Ð\\x9bÐ\\x90 , Ñ\\x87Ñ\\x82Ð¾Ð±Ñ\\x8b Ð´Ð¾Ð½ÐµÑ\\x81Ñ\\x82Ð¸ Ð¸Ñ\\x85 Ð»Ñ\\x8eÐ´Ñ\\x8fÐ¼,  Ñ\\x81Ð°Ð¼ Ð¡Ð«Ð\\x9d, Ð\\x91Ð\\x9eÐ\\x93 Ð¡Ð\\x9bÐ\\x9eÐ\\x92Ð\\x9e Ð\\x92Ð\\x9eÐ§Ð\\x95Ð\\x9bÐ\\x9eÐ\\x92Ð\\x95Ð§Ð\\x98Ð\\x9bÐ¡Ð¯(Ð\\x98Ð\\x98Ð¡Ð£Ð¡ Ð¥Ð\\xa0Ð\\x98Ð¡Ð¢Ð\\x9eÐ¡, Ð¸Ð¼Ñ\\x8f Ð\\x98Ð\\x98Ð¡Ð£Ð¡ Ð¾Ð·Ð½Ð°Ñ\\x87Ð°ÐµÑ\\x82 Ð¡Ð\\x9fÐ\\x90Ð¡Ð\\x98Ð¢Ð\\x95Ð\\x9bÐ¬). Ð\\x90 Ð\\x95Ð\\x93Ð\\x9e Ð·Ð° Ñ\\x8dÑ\\x82Ð¾ Ð\\xa0Ð\\x90Ð¡Ð\\x9fÐ¯Ð\\x9bÐ\\x98. Ð\\x9dÐ¾ Ð\\x9eÐ¡Ð¢Ð\\x90Ð\\x9bÐ\\x9eÐ¡Ð¬ Ð¡Ð\\x92Ð¯Ð¢Ð\\x9eÐ\\x95 Ð\\x95Ð\\x92Ð\\x90Ð\\x9dÐ\\x93Ð\\x95Ð\\x9bÐ\\x98Ð\\x95. Ð\\x92Ð¾Ñ\\x82 Ð\\xadÐ¢Ð\\x9e Ð¸ ÐµÑ\\x81Ñ\\x82Ñ\\x8c Ð\\x91Ð\\x9eÐ\\x96Ð\\x95Ð¡Ð¢Ð\\x92Ð\\x95Ð\\x9dÐ\\x9dÐ«Ð\\x95 Ð£Ð¡Ð\\x9bÐ\\x9eÐ\\x92Ð\\x98Ð¯ , Ð²Ð¾ Ð¿ÐµÑ\\x80Ð²Ñ\\x8bÑ\\x85 Ð\\x98Ð\\x97Ð\\x91Ð\\x90Ð\\x92Ð\\x9bÐ\\x95Ð\\x9dÐ\\x98Ð¯ Ð\\x9eÐ¢ Ð\\x9fÐ\\x95Ð\\xa0Ð\\x92Ð\\x9eÐ\\xa0Ð\\x9eÐ\\x94Ð\\x9dÐ\\x9eÐ\\x93Ð\\x9e Ð\\x93Ð\\xa0Ð\\x95Ð¥Ð\\x90(Ð° Ð¿Ñ\\x80Ð°Ð²Ð¸Ð»Ñ\\x8cÐ½ÐµÐ¹ Ñ\\x81ÐºÐ°Ð·Ð°Ñ\\x82Ñ\\x8c Ð¾Ñ\\x82 Ð\\x9fÐ\\x9eÐ\\x92Ð\\xa0Ð\\x95Ð\\x96Ð\\x94Ð\\x95Ð\\x9dÐ\\x98Ð¯), Ð\\x98 Ð²Ð¾ Ð²Ñ\\x82Ð¾Ñ\\x80Ñ\\x8bÑ\\x85 Ð\\x94Ð\\x9bÐ¯ Ð¡Ð\\x9fÐ\\x90Ð¡Ð\\x95Ð\\x9dÐ\\x98Ð¯ Ð\\x94Ð£Ð¨Ð\\x98 Ñ\\x87ÐµÐ»Ð¾Ð²ÐµÑ\\x87ÐµÑ\\x81ÐºÐ¾Ð¹, Ð\\x9fÐ\\x9eÐ\\x9bÐ£Ð§Ð\\x95Ð\\x9dÐ\\x98Ð¯ Ð\\x96Ð\\x98Ð\\x97Ð\\x9dÐ\\x98 Ð\\x92Ð\\x95Ð§Ð\\x9dÐ\\x9eÐ\\x99 Ð´Ð»Ñ\\x8f Ð\\x94Ð£Ð¨Ð\\x98, Ð\\x9fÐ\\x9eÐ¡Ð\\x9bÐ\\x95 Ñ\\x84Ð¸Ð·Ð¸Ñ\\x87ÐµÑ\\x81ÐºÐ¾Ð¹ Ð¡Ð\\x9cÐ\\x95Ð\\xa0Ð¢Ð\\x98 Ñ\\x82ÐµÐ»Ð° , Ð\\x92 Ð¦Ð\\x90Ð\\xa0Ð¡Ð¢Ð\\x92Ð\\x98Ð\\x95 Ð\\x9dÐ\\x95Ð\\x91Ð\\x95Ð¡Ð\\x9dÐ\\x9eÐ\\x9c.\\\\n\\\\nÐ\\x98 Ð¿Ð¾Ñ\\x8dÑ\\x82Ð¾Ð¼Ñ\\x83 Ð\\x98Ð¡Ð¢Ð\\x98Ð\\x9dÐ\\x9dÐ\\x90Ð¯ Ð\\x92Ð\\x95Ð\\xa0Ð\\x90 Ð\\x92 Ð\\x91Ð\\x9eÐ\\x93Ð\\x90, Ð² Ð¿ÐµÑ\\x80Ð²Ñ\\x83Ñ\\x8e Ð¾Ñ\\x87ÐµÑ\\x80ÐµÐ´Ñ\\x8c Ð\\x97Ð\\x90Ð\\x9aÐ\\x9bÐ®Ð§Ð\\x90Ð\\x95Ð¢Ð¡Ð¯ Ð\\x92 Â«Ð\\x91Ð\\x9eÐ\\xa0Ð¬Ð\\x91Ð\\x95Â» ÐºÐ°Ð¶Ð´Ð¾Ð³Ð¾ Ð§Ð\\x95Ð\\x9bÐ\\x9eÐ\\x92Ð\\x95Ð\\x9aÐ\\x90, Ð\\x9fÐ\\xa0Ð\\x98 Ð\\x97Ð\\x95Ð\\x9cÐ\\x9dÐ\\x9eÐ\\x99 Ð\\x96Ð\\x98Ð\\x97Ð\\x9dÐ\\x98, Ð¡Ð\\x9e Ñ\\x81Ð²Ð¾Ð¸Ð¼Ð¸ Ñ\\x81Ð¾Ð±Ñ\\x81Ñ\\x82Ð²ÐµÐ½Ð½Ñ\\x8bÐ¼Ð¸ Ð\\x9fÐ\\x9eÐ\\xa0Ð\\x9eÐ§Ð\\x9dÐ«Ð\\x9cÐ\\x98 Ð¡Ð¢Ð\\xa0Ð\\x90Ð¡Ð¢Ð¯Ð\\x9cÐ\\x98, Ð\\x98 Ñ\\x82Ð¾Ð»Ñ\\x8cÐºÐ¾ Ð¢Ð\\x90Ð\\x9a Ð¼Ð¾Ð¶Ð½Ð¾ Ð¿Ð¾Ð»Ñ\\x83Ñ\\x87Ð¸Ñ\\x82Ñ\\x8c Ð¡Ð\\x9fÐ\\x90Ð¡Ð\\x95Ð\\x9dÐ\\x98Ð\\x95 Ð´Ð»Ñ\\x8f Ñ\\x81Ð²Ð¾ÐµÐ¹ Ð\\x94Ð£Ð¨Ð\\x98.\\\\n\\\\nÐ\\x9dÑ\\x83 Ð\\x98 Ð\\x95Ð¡Ð\\x9bÐ\\x98 ÐºÐ°Ð¶Ð´Ñ\\x8bÐ¹ Ñ\\x87ÐµÐ»Ð¾Ð²ÐµÐº Ð·Ð°Ñ\\x85Ð¾Ñ\\x87ÐµÑ\\x82 \"Ð\\x91Ð\\x9eÐ\\xa0Ð\\x9eÐ¢Ð¬Ð¡Ð¯\" Ð¡Ð\\x9e Ñ\\x81Ð²Ð¾Ð¸Ð¼Ð¸ Ð\\x9fÐ\\x9eÐ\\xa0Ð\\x9eÐ§Ð\\x9dÐ«Ð\\x9cÐ\\x98 Ð¡Ð¢Ð\\xa0Ð\\x90Ð¡Ð¢Ð¯Ð\\x9cÐ\\x98 , Ð¢Ð\\x9e Ð´Ð»Ñ\\x8f Ð½Ð°Ñ\\x87Ð°Ð»Ð°, Ð\\x9dÐ£Ð\\x96Ð\\x9dÐ\\x9e Ð\\x9fÐ\\x9eÐ\\x92Ð\\x95Ð\\xa0Ð\\x98Ð¢Ð¬ Ð\\x92 Ð\\x91Ð\\x9eÐ\\x93Ð\\x90, Ð\\x9fÐ\\xa0Ð\\x95Ð¡Ð\\x92Ð¯Ð¢Ð£Ð® Ð¢Ð\\xa0Ð\\x9eÐ\\x98Ð¦Ð£: Ð\\x9eÐ¢Ð¦Ð\\x90(Ð¡Ð\\x9eÐ\\x97Ð\\x94Ð\\x90Ð¢Ð\\x95Ð\\x9bÐ¯ Ð\\x92Ð¡Ð\\x95Ð\\x93Ð\\x9e Ð\\x96Ð\\x98Ð\\x92Ð\\x9eÐ\\x93Ð\\x9e Ð\\x98 Ð\\x9dÐ\\x95 Ð\\x96Ð\\x98Ð\\x92Ð\\x9eÐ\\x93Ð\\x9e, Ð\\x92Ð\\x98Ð\\x94Ð\\x98Ð\\x9cÐ\\x9eÐ\\x93Ð\\x9e Ð¼Ð¸Ñ\\x80Ð° Ð¸ Ð\\x9dÐ\\x95 Ð\\x92Ð\\x98Ð\\x94Ð\\x98Ð\\x9cÐ\\x9eÐ\\x93Ð\\x9e),Ñ\\x87ÐµÑ\\x80ÐµÐ· Ð¡Ð«Ð\\x9dÐ\\x90 Ð\\x91Ð\\x9eÐ\\x93Ð\\x90 Ð¡Ð\\x9bÐ\\x9eÐ\\x92Ð\\x9e(Ð\\x98Ð\\x98Ð¡Ð£Ð¡Ð\\x90 Ð¥Ð\\xa0Ð\\x98Ð¡Ð¢Ð\\x90), Ð¡Ð\\x92Ð¯Ð¢Ð\\x9eÐ\\x93Ð\\x9e Ð\\x94Ð£Ð¥Ð\\x90. \\\\n\\\\nÐ\\x90 Ð§Ð¢Ð\\x9eÐ\\x91Ð«  \"Ð\\x9fÐ\\xa0Ð\\x98Ð\\x99Ð¢Ð\\x98\" Ðº Ð\\x91Ð\\x9eÐ\\x93Ð£ Ð¸Ð»Ð¸ Ð\\x9fÐ\\x9eÐ\\x97Ð\\x9dÐ\\x90Ð¢Ð¬ Ð\\x91Ð\\x9eÐ\\x93Ð\\x90 Ð½ÐµÐ¾Ð±Ñ\\x85Ð¾Ð´Ð¸Ð¼Ð¾ Ð\\x9fÐ\\x9eÐ\\x9aÐ\\x90Ð¯Ð\\x9dÐ\\x98Ð\\x95.  \\\\n\\\\nÐ\\x9dÑ\\x83 Ð\\x90 Ð´Ð»Ñ\\x8f Ñ\\x82Ð¾Ð³Ð¾ Ð§Ð¢Ð\\x9eÐ\\x91Ð« Ð\\x9fÐ\\x9eÐ\\x9dÐ¯Ð¢Ð¬ Ð\\x92Ð¡Ð\\x81 Ñ\\x87Ñ\\x82Ð¾ Ð½Ð°Ð¿Ð¸Ñ\\x81Ð°Ð½Ð¾ Ð²Ñ\\x8bÑ\\x88Ðµ , Ð\\x98 Ð´Ð»Ñ\\x8f Ð\\x98Ð¡Ð\\x9aÐ\\xa0Ð\\x95Ð\\x9dÐ\\x9dÐ\\x95Ð\\x93Ð\\x9e Ð¥Ð\\xa0Ð\\x98Ð¡Ð¢Ð\\x98Ð\\x90Ð\\x9dÐ¡Ð\\x9aÐ\\x9eÐ\\x93Ð\\x9e Ð\\x9fÐ\\x9eÐ\\x9aÐ\\x90Ð¯Ð\\x9dÐ\\x98Ð¯, ÐºÐ¾Ñ\\x82Ð¾Ñ\\x80Ð¾Ðµ Ð½ÐµÐ¾Ð±Ñ\\x85Ð¾Ð´Ð¸Ð¼Ð¾ Ð£Ð¡Ð\\x9fÐ\\x95Ð¢Ð¬(Ð¿Ð¾Ñ\\x82Ð¾Ð¼Ñ\\x83 Ñ\\x87Ñ\\x82Ð¾ Ð\\x92Ð\\xa0Ð\\x95Ð\\x9cÐ\\x95Ð\\x9dÐ\\x98 Ð¾Ñ\\x81Ñ\\x82Ð°Ð»Ð¾Ñ\\x81Ñ\\x8c Ð¾Ñ\\x87ÐµÐ½Ñ\\x8c Ð\\x9cÐ\\x90Ð\\x9bÐ\\x9e, Ð\\x92Ð\\x9eÐ\\x97Ð\\x9cÐ\\x9eÐ\\x96Ð\\x9dÐ\\x9e Ð´Ð°Ð¶Ðµ Ð\\x9fÐ\\xa0Ð\\x98Ð\\x9cÐ\\x95Ð\\xa0Ð\\x9dÐ\\x9e 2 Ð\\x9cÐ\\x95Ð¡Ð¯Ð¦Ð\\x90, Ð\\x98 Ð\\x92Ð¡Ð\\x81(Ñ\\x81Ð¼Ð¾Ñ\\x82Ñ\\x80Ð¸ Ð¡Ð\\x92Ð¯Ð¢Ð\\x9eÐ\\x95 Ð\\x95Ð\\x92Ð\\x90Ð\\x9dÐ\\x93Ð\\x95Ð\\x9bÐ\\x98Ð\\x95 Ð¾Ñ\\x82 Ð\\x9cÐ\\x90Ð¢Ð¤Ð\\x95Ð¯, Ð\\x93Ð\\x9b. 24)) Ð¡Ð\\x94Ð\\x95Ð\\x9bÐ\\x90Ð¢Ð¬ Ð¿Ñ\\x80Ð¸ Ð\\x97Ð\\x95Ð\\x9cÐ\\x9dÐ\\x9eÐ\\x99 Ð\\x96Ð\\x98Ð\\x97Ð\\x9dÐ\\x98 Ð§Ð\\x95Ð\\x9bÐ\\x9eÐ\\x92Ð\\x95Ð\\x9aÐ\\x90, Ð\\x9fÐ\\x95Ð\\xa0Ð\\x92Ð«Ð\\x9c \"Ñ\\x88Ð°Ð³Ð¾Ð¼\" Ð\\x91Ð£Ð\\x94Ð\\x95Ð¢ (Ð¸ ÐºÐ°Ðº Ð¾Ð± Ñ\\x8dÑ\\x82Ð¾Ð¼ Ñ\\x83Ð¶Ðµ Ñ\\x83Ð¿Ð¾Ð¼Ð¸Ð½Ð°Ð»Ð¾Ñ\\x81Ñ\\x8c Ð²Ñ\\x8bÑ\\x88Ðµ) Ð§Ð¢Ð\\x95Ð\\x9dÐ\\x98Ð\\x95 Ð¸ Ð\\x93Ð\\x9bÐ\\x90Ð\\x92Ð\\x9dÐ\\x9eÐ\\x95, Ð\\x98Ð\\x97Ð£Ð§Ð\\x95Ð\\x9dÐ\\x98Ð\\x95 Ð\\x9aÐ\\x9dÐ\\x98Ð\\x93Ð\\x98 Ð\\x96Ð\\x98Ð\\x97Ð\\x9dÐ\\x98, Ð¡Ð\\x92Ð¯Ð©Ð\\x95Ð\\x9dÐ\\x9dÐ\\x9eÐ\\x93Ð\\x9e Ð\\x9fÐ\\x98Ð¡Ð\\x90Ð\\x9dÐ\\x98Ð¯ Ð\\x9dÐ\\x9eÐ\\x92Ð«Ð\\x99 Ð\\x97Ð\\x90Ð\\x92Ð\\x95Ð¢. â\\x9c\\x8bð\\x9f\\x8f»\\', \\'Reading all these possitive comments is assuring. Iâ\\x80\\x99m about to watch for the first time!\\', \\'Pacino and De Niro make this movie together\\', \\'Best action movie i ever seen .\\', \\'Heat(1995) has quickly become one of my all time favorite movies now after watching it for the first time back in 2022. I really donâ\\x80\\x99t understand why it doesnâ\\x80\\x99t get the recognition that other highly praised gangster movies receive. Like bro.. this movie is literally the 90â\\x80\\x99s version of The Dark Knight.\\\\n\\\\nInsanely underrated crime thriller..\\', \"This is by far one of my favorite parts of any movie you talk about smart talk and comebacks on the two but have great respect for each other... De Niro - There\\'s a flip side to that coin ! What if you do have me boxed in and I gotta put you down because no matter what you will not get in my way ! We\\'ve met face to face yes ! But I will not hesitate ! Not for a second . This part of the movie is the best by two of the best actors to live and will get old and tires to watch\", \\'Simply a Masterpiece. A flawless, timeless, stellar movie. Heavily influenced Nolans Dark Knight. Says it all really.\\', \\'al sent me\\', \\'This film is perfect my all time favorite by far\\', \\'Can anyone name the song at 0:13\\', \\'Saw this in the movies, I was only 12 but I knew it was a masterpiece. Seen it hundreds of times since.\\', \\'Ahhhh the 90s, when trailers showed the whole film\\', \\'Damn i am in a Val K binge these days. Just watched Top Gun, now this is on my list\\', \"I am from India. One friend of mine just recommend this movie to me.\\\\nIt is just outstanding movie way ahead of it\\'s time.  just loves it. \\\\nAny other recommendations?\", \"I\\'ve got Heat on DVD at home. We\\'re watching this, when, for less money, we could be watching Robert De Niro AND Al Pacino.\", \\'is this the best ever made action movie?\\', \\'I recently stumbled into it on Netflix & rewatched it after originally watching it 28 years ago and I must admit itâ\\x80\\x99s a darn good movie.  \\\\nI would rank it as one of the best â\\x80\\x9cgood guy vs bad guyâ\\x80\\x9d movies of all time.  ð\\x9f\\x98\\x8a\\', \\'Love this Trailer\\', \\'Two of the greatest actors of all timeð\\x9f\\x91\\x8fð\\x9f\\x91\\x8fð\\x9f\\x91\\x8f\\', \\'Wow excellent movie . Will watch again and again. My favorite scene is deff the bank scene. If you have very good surround sound speakers . And even quarter way up. ð\\x9f\\x98®will have you at the edge holding on\\', \\'Goin to watch this now on Netflix\\', \\'This trailer. Hmm. This trailer\\', \\'thats how a trailer should be, not revealing anything......nowadays trailers just tell the whole story show all the actions...\\', \\'My God, what happened to Val Kilmer, how can somebody age that bad?\\', \\'RIP Tom Sizemore\\', \\'Hollywood have stopped making movies like this.. nowdays only wokeness and awardness spreading bullshit for most of the films and series\\', \"The greatest Man in history, had no servants, and yet they called Him Master. He had no degree, and yet they called Him Teacher. He had no medicine, and yet He was called the Healer. He had no armies, and yet kings feared him. He won no military battles, and yet He conquered the world. He committed no crime, and yet they crucified Him. He was buried in a grave, and He is alive today. And His name is Jesus Christ in Greek, and in Hebrew Messiah MasÃ\\xada (Messiah)\\\\r\\\\n                                     Father\\'s Love Letter\\\\r\\\\n                                An Intimate Message From God To You.\\\\r\\\\n\\\\r\\\\nMy Child,\\\\r\\\\n\\\\r\\\\nYou may not know me, \\\\r\\\\nbut I know everything about you. \\\\r\\\\nPsalm 139:1 \\\\r\\\\nI know when you sit down and when you rise up. \\\\r\\\\nPsalm 139:2\\\\r\\\\nI am familiar with all your ways. \\\\r\\\\nPsalm 139:3\\\\r\\\\nEven the very hairs on your head are numbered. \\\\r\\\\nMatthew 10:29-31\\\\r\\\\nFor you were made in my image. \\\\r\\\\nGenesis 1:27\\\\r\\\\nIn me you live and move and have your being.\\\\r\\\\nActs 17:28 \\\\r\\\\nFor you are my offspring. \\\\r\\\\nActs 17:28 \\\\r\\\\nI knew you even before you were conceived. \\\\r\\\\nJeremiah 1:4-5 \\\\r\\\\nI chose you when I planned creation. \\\\r\\\\nEphesians 1:11-12 \\\\r\\\\nYou were not a mistake, \\\\r\\\\nfor all your days are written in my book. \\\\r\\\\nPsalm 139:15-16\\\\r\\\\nI determined the exact time of your birth \\\\r\\\\nand where you would live. \\\\r\\\\nActs 17:26 \\\\r\\\\nYou are fearfully and wonderfully made. \\\\r\\\\nPsalm 139:14 \\\\r\\\\nI knit you together in your mother\\'s womb. \\\\r\\\\nPsalm 139:13 \\\\r\\\\nAnd brought you forth on the day you were born. \\\\r\\\\nPsalm 71:6\\\\r\\\\nI have been misrepresented \\\\r\\\\nby those who don\\'t know me.\\\\r\\\\nJohn 8:41-44\\\\r\\\\nI am not distant and angry, \\\\r\\\\nbut am the complete expression of love. \\\\r\\\\n1 John 4:16 \\\\r\\\\nAnd it is my desire to lavish my love on you. \\\\r\\\\n1 John 3:1 \\\\r\\\\nSimply because you are my child \\\\r\\\\nand I am your Father. \\\\r\\\\n1 John 3:1\\\\r\\\\nI offer you more than your earthly father ever could. \\\\r\\\\nMatthew 7:11 \\\\r\\\\nFor I am the perfect father. \\\\r\\\\nMatthew 5:48 \\\\r\\\\nEvery good gift that you receive comes from my hand. \\\\r\\\\nJames 1:17\\\\r\\\\nFor I am your provider and I meet all your needs. \\\\r\\\\nMatthew 6:31-33 \\\\r\\\\nMy plan for your future has always been filled with hope. \\\\r\\\\nJeremiah 29:11 \\\\r\\\\nBecause I love you with an everlasting love. \\\\r\\\\nJeremiah 31:3 \\\\r\\\\nMy thoughts toward you are countless \\\\r\\\\nas the sand on the seashore.\\\\r\\\\nPsalms 139:17-18\\\\r\\\\nAnd I rejoice over you with singing. \\\\r\\\\nZephaniah 3:17 \\\\r\\\\nI will never stop doing good to you. \\\\r\\\\nJeremiah 32:40 \\\\r\\\\nFor you are my treasured possession. \\\\r\\\\nExodus 19:5 \\\\r\\\\nI desire to establish you\\\\r\\\\nwith all my heart and all my soul. \\\\r\\\\nJeremiah 32:41 \\\\r\\\\nAnd I want to show you great and marvelous things. \\\\r\\\\nJeremiah 33:3 \\\\r\\\\nIf you seek me with all your heart, \\\\r\\\\nyou will find me. \\\\r\\\\nDeuteronomy 4:29 \\\\r\\\\nDelight in me and I will give you \\\\r\\\\nthe desires of your heart. \\\\r\\\\nPsalm 37:4 \\\\r\\\\nFor it is I who gave you those desires. \\\\r\\\\nPhilippians 2:13 \\\\r\\\\nI am able to do more for you \\\\r\\\\nthan you could possibly imagine. \\\\r\\\\nEphesians 3:20 \\\\r\\\\nFor I am your greatest encourager. \\\\r\\\\n2 Thessalonians 2:16-17\\\\r\\\\nI am also the Father who comforts you \\\\r\\\\nin all your troubles. \\\\r\\\\n2 Corinthians 1:3-4 \\\\r\\\\nWhen you are brokenhearted, \\\\r\\\\nI am close to you. \\\\r\\\\nPsalm 34:18 \\\\r\\\\nAs a shepherd carries a lamb, \\\\r\\\\nI have carried you close to my heart. \\\\r\\\\nIsaiah 40:11 \\\\r\\\\nOne day I will wipe away \\\\r\\\\nevery tear from your eyes. \\\\r\\\\nRevelation 21:3-4 \\\\r\\\\nAnd I\\'ll take away all the pain \\\\r\\\\nyou have suffered on this earth.\\\\r\\\\nRevelation 21:3-4 \\\\r\\\\nI am your Father, and I love you \\\\r\\\\neven as I love my son, Jesus.\\\\r\\\\nJohn 17:23 \\\\r\\\\nFor in Jesus, my love for you is revealed. \\\\r\\\\nJohn 17:26\\\\r\\\\nHe is the exact representation of my being. \\\\r\\\\nHebrews 1:3 \\\\r\\\\nHe came to demonstrate that I am for you, \\\\r\\\\nnot against you. \\\\r\\\\nRomans 8:31 \\\\r\\\\nAnd to tell you that I am not counting your sins.\\\\r\\\\n2 Corinthians 5:18-19\\\\r\\\\nJesus died so that you and I could be reconciled. \\\\r\\\\n2 Corinthians 5:18-19 \\\\r\\\\nHis death was the ultimate expression \\\\r\\\\nof my love for you. \\\\r\\\\n1 John 4:10\\\\r\\\\nI gave up everything I loved\\\\r\\\\nthat I might gain your love. \\\\r\\\\nRomans 8:31-32 \\\\r\\\\nIf you receive the gift of my son Jesus, \\\\r\\\\nyou receive me. \\\\r\\\\n1 John 2:23\\\\r\\\\nAnd nothing will ever separate you \\\\r\\\\nfrom my love again.\\\\r\\\\nRomans 8:38-39\\\\r\\\\nCome home and I\\'ll throw the biggest party \\\\r\\\\nheaven has ever seen.\\\\r\\\\nLuke 15:7 \\\\r\\\\nI have always been Father, \\\\r\\\\nand will always be Father.\\\\r\\\\nEphesians 3:14-15 \\\\r\\\\nMy question isâ\\x80¦\\\\r\\\\nWill you be my child? \\\\r\\\\nJohn 1:12-13 \\\\r\\\\nI am waiting for you. \\\\r\\\\nLuke 15:11-32\\\\r\\\\n\\\\r\\\\nLove, Your Dad\\\\r\\\\nAlmighty God\\\\r\\\\nIf God cannot be around sinful man, why\\\\ufeff on earth did he come here and hang out with 12 disciples, beggars, tax collectors, liars, thieves and whores?\\\\r\\\\nJohn 3:16 \\\\r\\\\n For God so loved the world, that he gave his only begotten Son, that whosoever believeth in him should not perish, but have everlasting life.\\\\r\\\\nunder tears of joy i received this holy truth, it took me awhile to collect myself. By The holy Spirit given through\\\\r\\\\n you into my heart ! God bless you and that mother who born you, you are among those most special brothers whom i  every day have in my prayers !\\\\r\\\\ni exist because of jesus and not because of my parents,fight abortion in jesus name ! I knew you even before you were conceived. \\\\r\\\\nJeremiah 1:4-5 \\\\r\\\\nI cant wait to see all my brothers and sisters in heaven. Stay strong, and hold on to the hope that Jesus gives us. It wont be long, look up and know He is on His way.keep up the good fight fate and win as many as you can,Proverbs 11:30 and sometimes drop your sword to look up to the Father with a smile.1 Timothy 6:12 , 1 Thessalonians 5:16-22\\\\r\\\\n\\\\r\\\\nFor you created my inmost being; you knit me together in my mother\\'s womb\\\\r\\\\nPsalm 139:13,Thine eyes did see mine unformed substance; And in thy book they were all written, Even the days that were ordained for me, When as yet there was none of them.139:16\\\\r\\\\nThen the word of the Lord came to me, saying:\\\\r\\\\n â\\x80\\x9cBefore I formed you in the womb I knew you;Before you were born I sanctified you; I ordained you a prophet to the nations.â\\x80\\x9d Jeremiah 1:4-5\\\\r\\\\n\\\\r\\\\nWho can understand his errors?\\\\r\\\\nCleanse me from secret faults. Keep back Your servant also from presumptuous sins;Let them not have dominion over me.\\\\r\\\\nThen I shall be blameless,And I shall be innocent of great transgression.\\\\r\\\\nPsalm 19:12-13\\\\r\\\\n\\\\r\\\\nSAY THE MIRACLE Repentance  PRAYER daily and it will change your life!  Dear Heavenly Father, I come to you now and humbly ask for your forgiveness. LORD, I confess that I\\'m a sinner and I\\'ve broken your Holy Law. I realize that the penalty for sin is death. I believe that JESUS CHRIST suffered and died on the Cross to take the punishment for ALL of my sins. I believe JESUS rose from the dead and I accept Him as my personal Savior. From this moment forward I give you my heart and trust you to be the LORD of my life. Please forgive ALL of my sins and send your Spirit to help me do your will. I Love You, Lord Jesus. I Praise You, Jesus. I Thank You, Jesus. I shall follow you every day of my life.    \\\\r\\\\nI thank you for your great love and accept your gift of eternal life, and I pray these things in JESUS name, Amen\\\\ufeff . Say this prayer faithfully, no matter what you feel, when you come to the point where you sincerely mean each word, with all your heart, something good spiritually will happen to you. You will experience Jesus, and HE will change your whole life in a very special way. You will see. A single saint fights back, and a thousand demons cry in agony. And you are that saint.\\\\r\\\\n\\\\r\\\\nJesus Will Never Leave Nor Forsake You\\\\r\\\\n\\'\\'Trust in the Lord, and do good; dwell in the land, and feed on His faithfulness. Delight yourself also in the Lord, and He shall give you the desires of your heart. Commit your way to the Lord, trust also in Him and He shall bring it to pass.â\\x80\\x9d Ps 37:3-5\\\\r\\\\nJesus Christ came into this world to reach those who feel that nobody cares. The Lordâ\\x80\\x99s unfailing love surrounds the one who trusts in Him. The Lord Jesus Christ does care and He is reaching the lonely and the desperate, the confused and the hurt, the depressed and the disillusioned. Jesus Christ is reaching out to you. \\\\r\\\\nâ\\x80\\x9cBut God demonstrates His own love toward us in that while we were still sinners, Christ died for us.â\\x80\\x9d Rom 5:8\\\\r\\\\nAs we turn away from our sin and turn to Christ we find forgiveness and freedom. \\\\r\\\\nJesus Christ is a Friend to the friendless.\\\\r\\\\nHe is a Helper to the helpless. \\\\r\\\\nHe gives freedom to the addicts. \\\\r\\\\nHe loves the unloved. \\\\r\\\\nHe accepts the outcasts. \\\\r\\\\nHe changes the unchangeable. \\\\r\\\\nHe forgives the unforgivable. \\\\r\\\\nHe accomplishes the impossible. \\\\r\\\\nHe saves sinners. \\\\r\\\\nHe seeks the lost. \\\\r\\\\nHe gives direction to the aimless. \\\\r\\\\nHe gives hope to the disillusioned. \\\\r\\\\nHe gives Truth to the confused. \\\\r\\\\nHe gives joy to the depressed. \\\\r\\\\nHe gives purpose to the purposeless. \\\\r\\\\nHe gives hope to the hopeless. \\\\r\\\\nHe redeems and He renews. \\\\r\\\\nHe touches and transforms. \\\\r\\\\nHe answers prayer.\", \\'The only problem with Heatâ\\x80¦ is that I much prefer Michael Mannâ\\x80\\x99s first film Thief, which has a lot of the same lessons on a smaller scale. But damn this movie is incredible\\', \"I\\'m 52 years old and yet I have never seen this film ð\\x9f\\x98¬\", \\'The shooting scene was ð\\x9f\\x91\\x8cð\\x9f\\x8f¼ð\\x9f\\x98\\x8c\\', \\'The most epic trailer ever made and the greatest movie star 2 titans of the industry. All Pacino & Robert De Niro, even they could not replicate the sheer epicness of this movie. The Diner scene where Pacino & De Niro have their first onscreen showdown is the stuff of legend.\\', \\'This trailer is confusing... Is this an action movie? a thriller? a romantic drama?\\', \\'27 years later and HEAT is still by far the greatest crime drama ever made! I have lost count on how many times I have seen movie! And the cast for this film is just spectacular! And to think that Michael Mann directed The Last of the Mohicans right before this, yet another one of my all time favorite films.\\', \\'Literally greatest crime movie of all time\\', \"I\\'m going let y\\'all finish, But Michael Mann you made one of the best crime movies of ALL TIME! ALL TIME!!! ð\\x9f\\x90\\x90MVD! Moby your accompanying score \\'God Moving Over the Face of the Waters\\' from your 1995 Everything Is Wrong album flawlessly placed in the trailer and then again at the end of the film  Brilliantly Divine! ð\\x9f\\x91\\x8fMVM!\", \\'Maybe the best closing scene ever . Pacino holds a dying De Niroâ\\x80\\x99s hand . The background music so magical. A Michael Mann masterpiece\\', \\'1:14 Is the scene with Neil counting the money in the film or even in the deleted scenes?\\', \\'I need 2 watch it\\', \\'ð\\x9f\\x94¥ð\\x9f\\x94¥ð\\x9f\\x94¥\\', \\'So Lucky to have seen this in the theatre\\', \\'S/o to Rick harris, Al Pacino, bob, and Natalie Portman!ð\\x9f¤\\x99\\', \\'I wish Donald and Khanyisa can see this film on video tape\\', \\'Best movie of all time !!!!!\\', \\'â\\x9d¤ï¸\\x8fâ\\x9d¤ï¸\\x8fâ\\x9d¤ï¸\\x8f\\', \\'Chris said this was a love story. I guess.\\', \\'HEAT 2 needs to be made into Film, the book is coming out soon. Michael Mann, I hope you read this!\\', \\'Legendary...\\', \\'The two awesome actors of all time meet in this movie! I think this is the best action thriller movie form the 1990s! I still remember, when I have seen it in a movie theater! I heard back then from a friend, that one guy fell asleep during the movie! He woke up, when they left the bank and the shooting starts on the street! Some people in the offices on that street thought the shooting was real, because they were not informed!\\', \\'So cool of them to make a movie about the North Hollywood shootout before it even happened ð\\x9f\\x99\\x8cð\\x9f\\x8f¾\\', \\'My god, that is the most boring trailer of all time!\\\\nThank god trailers are not like this anymore.\\', \\'Stupendous film one of the best iâ\\x80\\x99ve watched hands down!\\', \\'In my top 5 movies ever\\', \\'Almost the best film of the criminal genre!\\', \\'My life changed after I saw this movie.\\', \\'Very good movie cool\\', \\'Robert de Niro and Al paccino are the greatest actors of all time.\\', \\'â\\x99¥ï¸\\x8fð\\x9f\\x91\\x91â\\x99¥ï¸\\x8fâ\\x99¥ï¸\\x8fð\\x9f\\x91\\x91â\\x99¥ï¸\\x8fð\\x9f\\x91\\x8d\\', \"IMO the greatest movie ever made that didn\\'t get any Oscar nominations.\", \\'I loved this movie when I was younger because Pacino vs. De Niro, was like,\" King Kong vs. Godzilla.\"  I just had to see who won.  Such a classic, and so much better than the garbage produced nowadays.\\', \\'Heat movie is a classic with Robert Deniro, Al Pacino, Val Kilmer, Mykelti Williamson, Dennis Haysbert. Robert and Al did another classic movie Righteous Kill with music rapper 50 Cent.\\', \\'I watched this movie at least 40 times. Or 30 times for sure. And this still gives me goosebumps.\\', \\'Awesome movie terrible trailer\\', \\'o vosso pai\\', \\'Even the trailer is on a GOAT level.\\', \\'Outstanding movie..... What a masterpiece.. One of my top 5 movies..\\', \\'Ù\\x85Ù\\x8aÙ\\x86 Ø¬Ø§Ù\\x8a Ù\\x8aØ´Ù\\x88Ù\\x81 Ø§Ù\\x84Ù\\x81Ù\\x84Ù\\x85 Ù\\x85Ù\\x86 Ø³Ù\\x86Ø§Ø¨ Ù\\x81Ø§Ù\\x8aØ² ð\\x9f\\x99\\x87ð\\x9f\\x8f»\\\\u200dâ\\x99\\x80ï¸\\x8fØ\\x9f\\', \\'Michael Mann Pudo Inquietarnos con esa escena emblemÃ¡tica. Maravillas del cine, una verdadera obra de arte...\\', \\'Ù\\x85Ù\\x86 Ø·Ø±Ù\\x81 Ù\\x81Ø§Ù\\x8aØ² Ø¨Ù\\x86 Ø¬Ø±Ù\\x8aØ³ ð\\x9f¥°\\', \\'Co stars to Michael Mann: you donâ\\x80\\x99t have to pay me a salary Mr. Mann. I actually owe for giving me the opportunity to play a role of a lifetime. \\\\n\\\\nMr. Mann: you will play the dish washer on parole. You will have a total of 10 lines of dialogue.\\\\n\\\\nCo- star to Mr. Mann: perfect! I wonâ\\x80\\x99t let you down sir.  To ensure Iâ\\x80\\x99m a master at my role and responsibilities I just obtained a part time job at IHOP washing dishes.\\', \\'Hands down the greatest character based movie ever!\\', \\'Gta v\\', \\'Best De Niro performance.\\\\nEverything about this movie is gold. I have watched a thousand movies, nothing was better.\\', \\'I wish it was 1995, in front of a cinema, buying a ticket and sit down and enjoy.\\', \"it was an interesting movie until the crazy shooting. Those rifles never run out of ammo, and it was just so ridiculous that 30 cops could not take 3 thieves. I couldn\\'t watch after that, it was too unrealistic. Too bad, because the acting was good as well as the cinematography and the rhythm of the film. But that stupid scene ruined it for me.\", \\'Neil McCauley , the only villain who really just needed the money\\', \\'Saw this one with my dad in the theater. I was like 10. He freaked out when he first saw Al and Robert De Niro on one screen I remember. It took like 2hrs to happen but it was worth the hype. Then the shootout happened. Holy shit what a great scene. RIP Dad.\\', \\'\"Told you I\\\\\\'m never going back\"                            \\\\nno words can describe this movie .\\', \\'Great movie but i prefer the ending was different.. Sometimes the villian gets to live\\', \\'Unsung classic.\\', \\'This is my favourite movie ever. I can rewatch it again and again\\', \\'Greatest movie ever made\\']'\n",
      " ...\n",
      " '[\\'Gotta see this\\', \\'I just watched whole thing, great trailer\\', \\'logic brought me here\\', \"Didn\\'t he said, he murdered people?\", \"I\\'ve always thought Sam Rockwell is such a babe\", \"I love everything about Sam Rockwell! Having said that, this movie\\'s plot was strange and to me also pointless, and sort of a waste of excelent acting and photography.\", \\'HOW IS THIS STILL THE MOST UNDERRATED FILM EVER\\', \\'If it was true that pile of shit Obummer would have outed him. Like he did our troops and CIA at Gitmo......Sack of shit.\\', \"Well he\\'s a nutcase even before he claimed to be working for the CIA.\", \\'please watch it. ð\\x9f\\x98\\x8e\\', \\'This movie is straight ass. Literally.....man butt threw out the whole damn film!\\', \\'\"I\\\\\\'ve killed people, Penn.    I\\\\\\'ve killed a   lot   of people.\"\\', \"This is how the world works! All there for you... life imitates art remember! Hollywood is so brazen... just need to do a little research and you\\'ll see for yourself!\", \\'well thats my life\\', \"Strange movie. Not bad but not great. Directing his first movie, I got the impression George Clooney way at times trying to make the movie more artsy and quirky than it was. The second half of the movie had a weird pace and you didn\\'t always know what was going on.  Great performance by Rockwell though.\", \\'What is the music in the last half of the trailer?\\', \\'I seriously think that Chuck was a little off and imaged it all\\', \\'I just love Julia Roberts Great Movie\\\\xa0\\', \\'movie is not real. all complete bullshit fictional.\\', \\'Hahahahahah 1:13 dankeschÃ¶n\\', \\'Confession of a \"disturbed+mental\" mind. \\\\xa0\\', \\'i liked this movie\\', \"it\\'s a\\\\xa0 brilliantly\\\\xa0 clever\\\\xa0 ruse\\\\xa0 if\\\\xa0 it\\\\xa0 were\\\\xa0 true\\\\xa0 no one\\'s\\\\xa0 ever\\\\xa0 confirmed\\\\xa0 this\\\\xa0 story\\\\xa0 nor\\\\xa0\\\\xa0 have\\\\xa0 they\\\\xa0\\\\xa0\\\\xa0 ever denied\\\\xa0 it\\\\xa0 as\\\\xa0 well\\\\xa0\\\\xa0 it\\\\xa0 goes\\\\xa0 along\\\\xa0 the\\\\xa0 lines\\\\xa0 of\\\\xa0 being\\\\xa0 so\\\\xa0 outrageous\\\\xa0 that\\\\xa0 it\\'s\\\\xa0 easily\\\\xa0 denied[\\\\xa0 i\\\\xa0 was\\\\xa0 just\\\\xa0 joking!!]\\\\xa0 great performances\\\\xa0 across\\\\xa0 the\\\\xa0 board!!\", \\'what is the name of the song used in the second half of the trailer?\\', \\'George Clooney was as great with Jennifer Lopez in *Out of Sight*.\\', \\'very underrated film\\', \\'i cannot believe they didnt mention Brad Pitt and Matt Damon anywhere in the trailor....\\', \\'dont forget gary oldman\\', \\'Can someone please upload the other trailer of this movie, the better one without the voice over! I know there is another one, i saw it on the VHS of Equilibrium. Someone? thx\\', \"Another movie almost ruined by Julia Robert\\'s horrible excuse for acting skills. Rockwell kept this one afloat.\", \\'matt damon is a pile... \\', \"there\\'s  such  a twisted dark  streak  to  this  film but it definitletly  has an  interesting  place  in the  scheme  of  spy  movies   no ones  neccesarily proven  Chuck  Barris \\' claims  of  being  a  spy  but  no  one  has  substantially  disproved  anything  he  has  said  either ; entertaining  spin and  directorial  debut  by  CLOONEY  about a  best  forgotten  episode  of  T V  history!!\", \\'quÃ© mÃºsica tan horrible tiene el trailer, con lo buena que es en la pelÃ\\xadcula...\\', \"Its one the best movie i\\'ve ever seen\", \\'WhatÂ´s the music at 1:15? Thanx!\\', \\'love sam and drew\\', \"Also the fact that the Communist and Cold War crap never ended until the end of the 80\\'s.  Our government was willing to go to extremes to stamp out Communism.  \", \\'This movie is good.  It\\\\\\'s a bit of a mindfuck.  The genius of it, if the story is mostly fake \"CIA part\" we\\\\\\'ll never know.  And if it\\\\\\'s true, we\\\\\\'ll never know.  Because the CIA would never confirm or deny.  And that\\\\\\'s exactly what Barris did.  I however think a lot of it is true.  A lot of times, life is stranger than fiction.  Which is where a lot of movies get their inspiration from anyway, is from real life.  \\', \\'at the end Penny understands everything, but after she got it she turns up smiling beacuse she knows that would be the only way to llive happily with Chuck. \\\\nAnyone agrees with me? tell me your opinions... i loved this film.\\\\nthanks\\', \\'This is not to say that I think Clooney is untalented as a director - if the film has one thing going for it, it is its style, there are truly some astounding shots in it. \\', \\'Michel Gondry directed Eternal Sunshine and like Jonze did a fantastic job :). I think I feel about Confessions as you do about Human Nature (which, coincidentally, is the only film of his that I haven\\\\\\'t seen). It\\\\\\'s funny, entertaining, but nothing compared to the four movies you mentioned. I do like to blame director Clooney for some of it; Kaufman has said how he changed the script in several places and meddled in a few \"kaufmanesque\" scenes to make the movie more sellable. \\', \\'someone please share other movies like this one ... not same the same but as strong as this one ?\\\\n\\', \\'This is not to downplay the importance of good actors, but the brilliant brains behind the writing and directing of a movie are even more important. Charlie Kaufman and Spike Jonze should be locked in a room together, not the actors.\\', \\'Yeh, this is genius. His performance is great and the direction is amazing. \\\\n\\\\nClooney did a great job. \\', \\'He has a cameo as one of the contestants on the Dating game with Matt Damon.\\', \\'Another under-rated movie that should have gotten more viewers. \\\\n*Sigh*\\', \\'Great performance by Sam Rockwell.\\', \\'Sam Rockwell is HOT!!! \\', \\'If anyone is interested in watching the film, its on Hulu right now for free. It expires in six days, which sucks, so make sure and check it out.\\', \\'Why the fuck does Sam Rockwell get 4th billing!? Fucking marketers.\\', \\'isnt brad bit acted in this movie?\\', \\'Many parts of \"his\" script were admittedly \"fictionalized\", his wife was pure fiction, no dress, no serial killer dad. A real CIA assassin would be wise to change all facts, as CIA agent and convicted Watergate bugler E Howard Hunt (Mission Impossible) did in his novels before his confession as an assassin of JFK. Julia Childs was OSS, Dr Ruth was an Israeli sniper gunned down in combat. His daughter did OD, spent $20K on abortions to kill his kids, he was paid $200-million to quit TV. CIA spin?\\', \\'@KobeBMBryant004 do you bevlie that crap?\\', \"10 facts abut you: 1. You are reading this comment 2.You are realizing that is a stupid\\\\ufeff\\\\ufeff\\\\ufeff fact 4.you didn\\'t notice I\\\\ufeff skipped three. 5 You\\'re checking now 6. You\\'re\\\\ufeff smiling 7.You are still\\\\ufeff reading my comment 9\\\\ufeff You didn\\'t realize I skipped eight 10. You\\'re checking again and smiling about how\\\\ufeff you\\\\ufeff fell for it again. 11. You are enjoying this 12. You didnt\\\\ufeff realize there\\\\ufeff are only supposed to be ten facts. post this\\\\ufeff to one video\\\\ufeff\\\\ufeff and\\\\ufeff\\\\ufeff tomorrow will be the best\\\\ufeff day ever \", \\'@videoman83402 Yeah, Sam is my favorite actor and I kinda wanted to see this, but was kinda irked when I saw the trailer. It is worth watching?\\', \\'This kinda sounds so lame so Im in doubt weather i should see this or not\\', \\'If anyone could tell me the song from 1:14 ill love them forever.\\', \\'@porsache \\\\r\\\\n@La Kulasa could not agree more.\\\\r\\\\nthis way looks like a stupid comedy with jack black...\\', \\'this is a FANTASTIC movie, and one of the best lead acting performances of this generation of movies\\', \\'So, how would you guys say this ranks among other Charlie Kaufman movies?\\', \\'I\\\\\\'ve been looking for this film forever!! I saw this many years ago and I only remembered the \"danke schÃ¶n\" part and the cia farm... finally found it! :D\\', \"This film loooks reaaaaaaally goood im going to buy it,sam rockwell has changed loaaaads he looks differnt in charlie\\'s angels even though it was around the same time, and DREW ROCKS SO MUCH I LOVE HER!\", \"SUCH an underrated film, it deserves so much praise, Sam Rockwell is a fantastic actor, and I\\'m still waiting for that Oscar\", \\'This movie is like a master class in acting. Sam Rockwell is fantastic. They should lock Sam Rockwell, Tom Hanks, Chris Cooper, Matt Damon and David Strathairn in a room and just tell them to come up with something.\\', \\'good movie! my friend was in it as an extra but he had a few lines. :)\\', \\'best movie and my favorite movie i have seen.  totally underrated.\\', \\'Very under-rated movie. Great movie!\\']'\n",
      " '[\\'Shout out to my homies in Vives.\\', \\'my fav film of all time, want to see it in thai cinema, ah day dreaming\\', \\'Got it\\', \\'Oh, yes, I remember seeing this film, having watched it almost 15 years ago. It had a creepy pedophile vibe at the beginning, where you\\\\\\'re wondering where exactly this film is going. But then it slowly reveals the truth. And, wow, what a truth! I also like the Christian allegories just strewn all over the place--the title \"The Son,\" carpentry, turning the other cheek, suffer the children. All very well done. Like a commenter said below, I barely remember most Hollywood pap I\\\\\\'ve seen. But this movie sticks in my mind, even 15 years later.\\', \"My favorite Dardenne brothers\\' movie. There is a spiritual feel to the arc of this film- especially in the final scene.\", \\'I recommend that you see this movie twice. The first half hour is very slow with the rest of the movie being very exciting. But it is crucial to see the slow beginning.\\', \"I met the Dardenne brothes briefly at TIFF. It was kind of an unbelievable experience, I didn\\'t really know what to say just shyly asked them to sign my ticket stub for \\'Two Days, One Night\\'. Cool story bro...\", \\'I wÐ°Ð°Ð°Ð°tchÐµÐµd Ð¢hÐµ SÐ¾n full mÐ¾Ð¾viÐµ hÐµrÐµ https://twitter.com/68fab1b8b83407433/status/851978434528006145\\', \\'Heello yooutubers watch TTThe Son onlineeee here => https://twitter.com/68fab1b8b83407433/status/851978434528006145\\', \"You know you\\'ve seen a good movies when after 15 years you still know the story and it randomly pops in your mind sometimes. Can\\'t remember anything about the Hollywood movies I saw last week though.\", \\'Terrible trailer. It alone put me off watching the movie.\\\\xa0\\', \"My favorite of the Dardenne Brothers\\' films. Olivier Gourmet is riveting as the carpentry instructor who manages to create an ethical universe in the midst of personal and social disintegration.\", \\'Would you prefer the typical American trailer that tells you the whole story? This is what a trailer should be. It should make you want to watch the film.\\', \\'I think that might be the point, to captive and intrigue the viewers. It has done the job with me.\\', \\'Well this does nothing to tell you what the film is about. LOL!\\', \"Pour aujourd\\'ui pour toujours\", \"Any recommendations for films like the Dardenne brother\\'s make? I love them!\"]'\n",
      " '[\\'This so makes me wish Dame Diana played Lady Bracknell in\\', \\'20,000 pounds to hire a top grade assassin, when today it be close to half a million smh\\', \\'Oliver Reed my boy!!!\\', \\'I have this movie its great comedy adventure my favorite sadly the movie sound track could never be found by Ron Grainer fantastic music composer\\', \\'RIP and long live Oliver Reed (February 13, 1938 â\\x80\\x93 May 2, 1999), aged 61\\\\nAnd\\\\nRIP and long live Dame Diana Rigg (July 20, 1938 â\\x80\\x93 September 10, 2020), aged 82\\\\nYou both will always be remembered as legends.\\', \\'Worth watching for Oliver Reed and Diana Rigg but watching also makes me realise Bond dropped the ball by not casting Oliver Reed in 1969 leading to a very inferior OHMSS.\\', \\'This movie is an incredible bore. Wonderful cast, beautiful art direction, stunning color and a Turkey. Plus....Oliver Reed\\\\\\'s community theater over-acting, Diana Rigg\\\\\\'s misplaced enthusiasm and the cheesy participation of the rest of the cast, normally excellent actors, all, topped off by the horrendous choice of Telly Savalas as the lead villain except for his one great line \"...you\\\\\\'re not an assassin--you\\\\\\'re a critic!\" ....and I was looking so forward to it all.\\', \\'Wonderful film; when films truly were films and actors truly were actors. Oliver Reed - love him or hate him - truly was an actor. Honour Blackman truly was an actress along with actors such as Telly Savalas etc; (although I think the Russian Baron stole the show to a certain extent.)\\', \\'This movie rejects the book and in doing so rejects the themes. If the beaurue is already corrupted then it ruins the premise. Terrible adaptation.\\', \\'wasnt  it Winter Hall\\']']\n"
     ]
    }
   ],
   "source": [
    "# getting unique values of all columns\n",
    "for column in df.columns:\n",
    "    unique_values = df[column].unique()\n",
    "    print(f\"Unique values in '{column}': {unique_values}\")"
   ]
  },
  {
   "cell_type": "code",
   "execution_count": 4,
   "metadata": {},
   "outputs": [],
   "source": [
    "# replacing no data values with null value\n",
    "df.replace('No data', pd.NA, inplace=True)"
   ]
  },
  {
   "cell_type": "code",
   "execution_count": 5,
   "metadata": {},
   "outputs": [],
   "source": [
    "columns_to_check = ['viewCount', 'likeCount', 'commentCount', 'duration', 'description']\n",
    "\n",
    "# Drop rows where all specified columns have null values\n",
    "df_cleaned = df.dropna(subset=columns_to_check, how='all')\n",
    "\n",
    "# Reset the index if needed\n",
    "df_cleaned.reset_index(drop=True, inplace=True)"
   ]
  },
  {
   "cell_type": "code",
   "execution_count": 6,
   "metadata": {},
   "outputs": [],
   "source": [
    "# Drop the 'dislikeCount' column as it contains all null values\n",
    "df_cleaned = df_cleaned.drop(columns=['dislikeCount'])"
   ]
  },
  {
   "cell_type": "code",
   "execution_count": 7,
   "metadata": {},
   "outputs": [],
   "source": [
    "df_cleaned.to_csv('output1.csv', index=False)"
   ]
  },
  {
   "cell_type": "code",
   "execution_count": 11,
   "metadata": {},
   "outputs": [
    {
     "data": {
      "text/plain": [
       "0                                                    []\n",
       "1                                                    []\n",
       "2     ['Buena pelÃ­cula de comedia romÃ¡ntica', '1:3...\n",
       "3                                                    []\n",
       "4     [\"Oh these soothing trailers \\nWhy can't we ha...\n",
       "5                                                    []\n",
       "6                                                    []\n",
       "7     ['The Goldfinger of our generation. Brosnans b...\n",
       "8     ['Why does this have the Little Women (1994) s...\n",
       "9     ['The last line in the trailer with Dracula wa...\n",
       "10    ['Nothing like a leftist liberal Democrat maki...\n",
       "11    ['one of the best movies', \"Saw this lin theat...\n",
       "Name: comments, dtype: object"
      ]
     },
     "execution_count": 11,
     "metadata": {},
     "output_type": "execute_result"
    }
   ],
   "source": [
    "df_cleaned['comments'].head(12)"
   ]
  },
  {
   "cell_type": "code",
   "execution_count": 12,
   "metadata": {},
   "outputs": [],
   "source": [
    "import nltk\n",
    "from nltk.tokenize import word_tokenize\n",
    "from nltk.corpus import stopwords\n",
    "from nltk.stem import WordNetLemmatizer\n",
    "import string\n",
    "import ast "
   ]
  },
  {
   "cell_type": "code",
   "execution_count": 13,
   "metadata": {},
   "outputs": [],
   "source": [
    "def clean_text(text):\n",
    "    # Check if text is NaN or None, return empty string if so\n",
    "    if pd.isnull(text) or text == '':\n",
    "        return ''\n",
    "    \n",
    "    # Handle lists represented as strings (like \"['item1', 'item2']\")\n",
    "    try:\n",
    "        comments = ast.literal_eval(text)\n",
    "    except (ValueError, SyntaxError):\n",
    "        comments = [text]  # If not a valid list, treat as single comment\n",
    "    \n",
    "    # Initialize list to store cleaned comments\n",
    "    cleaned_comments = []\n",
    "    \n",
    "    # Loop through each comment\n",
    "    for comment in comments:\n",
    "        # Tokenization\n",
    "        tokens = word_tokenize(comment)\n",
    "        \n",
    "        # Convert to lowercase\n",
    "        tokens = [word.lower() for word in tokens]\n",
    "        \n",
    "        # Remove punctuation\n",
    "        tokens = [word for word in tokens if word not in string.punctuation]\n",
    "        \n",
    "        # Remove stopwords\n",
    "        stop_words = set(stopwords.words('english'))\n",
    "        tokens = [word for word in tokens if word not in stop_words]\n",
    "        \n",
    "        # Lemmatization\n",
    "        lemmatizer = WordNetLemmatizer()\n",
    "        tokens = [lemmatizer.lemmatize(word) for word in tokens]\n",
    "        \n",
    "        # Join tokens back into text\n",
    "        cleaned_comment = ' '.join(tokens)\n",
    "        \n",
    "        # Append cleaned comment to list\n",
    "        cleaned_comments.append(cleaned_comment)\n",
    "    \n",
    "    # Join cleaned comments back into a single string separated by commas\n",
    "    cleaned_text = ', '.join(cleaned_comments)\n",
    "    \n",
    "    return cleaned_text"
   ]
  },
  {
   "cell_type": "code",
   "execution_count": 14,
   "metadata": {},
   "outputs": [
    {
     "data": {
      "text/plain": [
       "0                                                      \n",
       "1                                                      \n",
       "2     buena pelã­cula de comedia romã¡ntica, 1:36 gr...\n",
       "3                                                      \n",
       "4     oh soothing trailer ca n't stead dhus dhus dhu...\n",
       "5                                                      \n",
       "6                                                      \n",
       "7     goldfinger generation brosnans best plus n64 g...\n",
       "8     little woman 1994 score specifically `` orchar...\n",
       "9     last line trailer dracula cut sadly, movie hil...\n",
       "10    nothing like leftist liberal democrat making m...\n",
       "11    one best movie, saw lin theater back '95, ever...\n",
       "Name: cleaned_comments, dtype: object"
      ]
     },
     "execution_count": 14,
     "metadata": {},
     "output_type": "execute_result"
    }
   ],
   "source": [
    "# Apply cleaning function to the 'comments' column\n",
    "df_cleaned['cleaned_comments'] = df_cleaned['comments'].apply(clean_text)\n",
    "\n",
    "# Display the cleaned text\n",
    "df_cleaned['cleaned_comments'].head(12)"
   ]
  },
  {
   "cell_type": "code",
   "execution_count": 26,
   "metadata": {},
   "outputs": [],
   "source": [
    "# Convert columns to numeric, setting errors='coerce' to turn non-numeric values to NaN\n",
    "df_cleaned['viewCount'] = pd.to_numeric(df_cleaned['viewCount'], errors='coerce')\n",
    "df_cleaned['likeCount'] = pd.to_numeric(df_cleaned['likeCount'], errors='coerce')\n",
    "df_cleaned['commentCount'] = pd.to_numeric(df_cleaned['commentCount'], errors='coerce')\n",
    "\n",
    "# Drop rows with NaN values\n",
    "df_cleaned = df_cleaned.dropna(subset=['viewCount', 'likeCount', 'commentCount'])"
   ]
  },
  {
   "cell_type": "markdown",
   "metadata": {},
   "source": [
    "# 1. A list of top-10 videos based on total view"
   ]
  },
  {
   "cell_type": "code",
   "execution_count": 31,
   "metadata": {},
   "outputs": [
    {
     "name": "stdout",
     "output_type": "stream",
     "text": [
      "         youtubeId movieId                                  title  \\\n",
      "14267  450p7goxZqg  111226                       All of Me (2013)   \n",
      "15662  dNJdJIwCF_Y  120853                 Fresh Guacamole (2012)   \n",
      "16093  z5rRZdiu1UE  126106          Beastie Boys: Sabotage (1994)   \n",
      "3940   j-V12tL78Mc    5364                      Unfaithful (2002)   \n",
      "13092  NVcSNnqRD0c  104076                   Smurfs 2, The (2013)   \n",
      "9514   SvGcGjIc16I   76189                          Growth (2009)   \n",
      "10905  3H8bnKdf654   87520  Transformers: Dark of the Moon (2011)   \n",
      "14384  9ItBvH5J6ss  111921          The Fault in Our Stars (2014)   \n",
      "16036  sdUUx5FdySs  125926                           Kiwi! (2006)   \n",
      "12913  pdbI0Fn4COQ  103203                            Eden (2012)   \n",
      "\n",
      "          viewCount   likeCount  commentCount duration  \\\n",
      "14267  2.380445e+09  13160813.0      255442.0  0:05:08   \n",
      "15662  4.772083e+08   2890215.0       72951.0  0:01:41   \n",
      "16093  1.304351e+08    828844.0       31401.0  0:03:04   \n",
      "3940   1.268244e+08     71879.0        3971.0  0:02:43   \n",
      "13092  1.245488e+08    807837.0       59152.0  0:04:21   \n",
      "9514   7.196435e+07     34997.0          29.0  0:02:06   \n",
      "10905  5.311235e+07    108362.0       22188.0  0:02:28   \n",
      "14384  4.851763e+07    608697.0       39904.0  0:02:30   \n",
      "16036  4.789160e+07    610591.0       72756.0  0:03:10   \n",
      "12913  4.362758e+07     55545.0        3428.0  0:02:06   \n",
      "\n",
      "                                             description  \\\n",
      "14267  Official music video for Ã¢ÂÂAll of MeÃ¢ÂÂ...   \n",
      "15662  The 2013 Academy Award Nominated film by PES. ...   \n",
      "16093  REMASTERED IN HD!\\nRead the story behind Ill C...   \n",
      "3940   Unfaithful movie clips: http://j.mp/1ixkUnl\\nB...   \n",
      "13092  Britney Spears' official music video for 'Ooh ...   \n",
      "9514   Here is the trailer for Growth, the latest fil...   \n",
      "10905  Subscribe! http://YouTube.com/ClevverTV\\n\\nWat...   \n",
      "14384  The Fault In Our Stars | Official Trailer: Haz...   \n",
      "16036  My Master's Thesis Animation, which I complete...   \n",
      "12913  \"Arrestingly Supenseful\" (Variety) \"Nothing sh...   \n",
      "\n",
      "                                                comments Unnamed: 10  ...  \\\n",
      "14267  ['Ã°ÂÂÂ¢', 'Loving this song always Ã¢ÂÂ¤',...         NaN  ...   \n",
      "15662  ['SelamÃÂ±n aleykÃÂ¼m', 'Even now just stop ...         NaN  ...   \n",
      "16093  ['ItÃ¢ÂÂs a beautiful thing when a song and ...         NaN  ...   \n",
      "3940   ['This guy would get thrown in prison for grap...         NaN  ...   \n",
      "13092  ['Signature', \"I'm crying\", 'I love this song ...         NaN  ...   \n",
      "9514   ['is it like Slither?', 'eww gross...but  inte...         NaN  ...   \n",
      "10905  [\"Fun fact: Sentinel's facial features were ba...         NaN  ...   \n",
      "14384  ['still remember the night I read whole book &...         NaN  ...   \n",
      "16036  [\"i almost cry'd.its so sad like it new it was...         NaN  ...   \n",
      "12913  ['Como se llama la pelicula?? Quisiera verla g...         NaN  ...   \n",
      "\n",
      "      Unnamed: 60 Unnamed: 61 Unnamed: 62 Unnamed: 63 Unnamed: 64 Unnamed: 65  \\\n",
      "14267         NaN         NaN         NaN         NaN         NaN         NaN   \n",
      "15662         NaN         NaN         NaN         NaN         NaN         NaN   \n",
      "16093         NaN         NaN         NaN         NaN         NaN         NaN   \n",
      "3940          NaN         NaN         NaN         NaN         NaN         NaN   \n",
      "13092         NaN         NaN         NaN         NaN         NaN         NaN   \n",
      "9514          NaN         NaN         NaN         NaN         NaN         NaN   \n",
      "10905         NaN         NaN         NaN         NaN         NaN         NaN   \n",
      "14384         NaN         NaN         NaN         NaN         NaN         NaN   \n",
      "16036         NaN         NaN         NaN         NaN         NaN         NaN   \n",
      "12913         NaN         NaN         NaN         NaN         NaN         NaN   \n",
      "\n",
      "      Unnamed: 66 Unnamed: 67 Unnamed: 68  \\\n",
      "14267         NaN         NaN         NaN   \n",
      "15662         NaN         NaN         NaN   \n",
      "16093         NaN         NaN         NaN   \n",
      "3940          NaN         NaN         NaN   \n",
      "13092         NaN         NaN         NaN   \n",
      "9514          NaN         NaN         NaN   \n",
      "10905         NaN         NaN         NaN   \n",
      "14384         NaN         NaN         NaN   \n",
      "16036         NaN         NaN         NaN   \n",
      "12913         NaN         NaN         NaN   \n",
      "\n",
      "                                        cleaned_comments  \n",
      "14267  ã°âââ¢, loving song always ã¢ââ¤, still 202...  \n",
      "15662  selamãâ±n aleykãâ¼m, even stop motion still ...  \n",
      "16093  itã¢ââs beautiful thing song video equally s...  \n",
      "3940   guy would get thrown prison grape today woman ...  \n",
      "13092  signature, 'm cry, love song much itã¢ââs on...  \n",
      "9514   like slither, eww gross ... interesting, .. di...  \n",
      "10905  fun fact sentinel 's facial feature based acto...  \n",
      "14384  still remember night read whole book saw trail...  \n",
      "16036  almost cry'd.its sad like new gon na die, anyo...  \n",
      "12913  como se llama la pelicula quisiera verla graci...  \n",
      "\n",
      "[10 rows x 69 columns]\n"
     ]
    }
   ],
   "source": [
    "\n",
    "top_10_videos = df_cleaned.sort_values(by='viewCount', ascending=False).head(10)\n",
    "\n",
    "print(top_10_videos)"
   ]
  },
  {
   "cell_type": "markdown",
   "metadata": {},
   "source": [
    "# c. Using a bar diagram, show the top-10 videos based on total views"
   ]
  },
  {
   "cell_type": "code",
   "execution_count": 32,
   "metadata": {},
   "outputs": [
    {
     "name": "stderr",
     "output_type": "stream",
     "text": [
      "/var/folders/wp/gkxhfvbs4k11mv6xndb3k_gm0000gn/T/ipykernel_28264/905093272.py:6: FutureWarning: \n",
      "\n",
      "Passing `palette` without assigning `hue` is deprecated and will be removed in v0.14.0. Assign the `y` variable to `hue` and set `legend=False` for the same effect.\n",
      "\n",
      "  sns.barplot(x='viewCount', y='title', data=top_10_videos, palette='viridis')\n"
     ]
    },
    {
     "data": {
      "image/png": "[encoded data removed]",
      "text/plain": [
       "<Figure size 1000x600 with 1 Axes>"
      ]
     },
     "metadata": {},
     "output_type": "display_data"
    }
   ],
   "source": [
    "import seaborn as sns\n",
    "import matplotlib.pyplot as plt\n",
    "\n",
    "plt.figure(figsize=(10, 6))\n",
    "\n",
    "sns.barplot(x='viewCount', y='title', data=top_10_videos, palette='viridis')\n",
    "\n",
    "plt.xlabel('Total Views')\n",
    "plt.ylabel('Movie Title')\n",
    "plt.title('Top 10 Movies Based on Total Views')\n",
    "\n",
    "plt.show()"
   ]
  },
  {
   "cell_type": "code",
   "execution_count": 33,
   "metadata": {},
   "outputs": [
    {
     "data": {
      "application/vnd.plotly.v1+json": {
       "config": {
        "plotlyServerURL": "https://plot.ly"
       },
       "data": [
        {
         "alignmentgroup": "True",
         "hovertemplate": "Total Views=%{marker.color}<br>Movie Title=%{y}<extra></extra>",
         "legendgroup": "",
         "marker": {
          "color": [
           2380444944,
           477208256,
           130435055,
           126824426,
           124548822,
           71964350,
           53112347,
           48517626,
           47891596,
           43627585
          ],
          "coloraxis": "coloraxis",
          "pattern": {
           "shape": ""
          }
         },
         "name": "",
         "offsetgroup": "",
         "orientation": "h",
         "showlegend": false,
         "textposition": "auto",
         "type": "bar",
         "x": [
          2380444944,
          477208256,
          130435055,
          126824426,
          124548822,
          71964350,
          53112347,
          48517626,
          47891596,
          43627585
         ],
         "xaxis": "x",
         "y": [
          "All of Me (2013)",
          "Fresh Guacamole (2012)",
          "Beastie Boys: Sabotage (1994)",
          "Unfaithful (2002)",
          "Smurfs 2, The (2013)",
          "Growth (2009)",
          "Transformers: Dark of the Moon (2011)",
          "The Fault in Our Stars (2014)",
          "Kiwi! (2006)",
          "Eden (2012)"
         ],
         "yaxis": "y"
        }
       ],
       "layout": {
        "barmode": "relative",
        "coloraxis": {
         "colorbar": {
          "title": {
           "text": "Total Views"
          }
         },
         "colorscale": [
          [
           0,
           "#440154"
          ],
          [
           0.1111111111111111,
           "#482878"
          ],
          [
           0.2222222222222222,
           "#3e4989"
          ],
          [
           0.3333333333333333,
           "#31688e"
          ],
          [
           0.4444444444444444,
           "#26828e"
          ],
          [
           0.5555555555555556,
           "#1f9e89"
          ],
          [
           0.6666666666666666,
           "#35b779"
          ],
          [
           0.7777777777777778,
           "#6ece58"
          ],
          [
           0.8888888888888888,
           "#b5de2b"
          ],
          [
           1,
           "#fde725"
          ]
         ]
        },
        "legend": {
         "tracegroupgap": 0
        },
        "template": {
         "data": {
          "bar": [
           {
            "error_x": {
             "color": "#2a3f5f"
            },
            "error_y": {
             "color": "#2a3f5f"
            },
            "marker": {
             "line": {
              "color": "#E5ECF6",
              "width": 0.5
             },
             "pattern": {
              "fillmode": "overlay",
              "size": 10,
              "solidity": 0.2
             }
            },
            "type": "bar"
           }
          ],
          "barpolar": [
           {
            "marker": {
             "line": {
              "color": "#E5ECF6",
              "width": 0.5
             },
             "pattern": {
              "fillmode": "overlay",
              "size": 10,
              "solidity": 0.2
             }
            },
            "type": "barpolar"
           }
          ],
          "carpet": [
           {
            "aaxis": {
             "endlinecolor": "#2a3f5f",
             "gridcolor": "white",
             "linecolor": "white",
             "minorgridcolor": "white",
             "startlinecolor": "#2a3f5f"
            },
            "baxis": {
             "endlinecolor": "#2a3f5f",
             "gridcolor": "white",
             "linecolor": "white",
             "minorgridcolor": "white",
             "startlinecolor": "#2a3f5f"
            },
            "type": "carpet"
           }
          ],
          "choropleth": [
           {
            "colorbar": {
             "outlinewidth": 0,
             "ticks": ""
            },
            "type": "choropleth"
           }
          ],
          "contour": [
           {
            "colorbar": {
             "outlinewidth": 0,
             "ticks": ""
            },
            "colorscale": [
             [
              0,
              "#0d0887"
             ],
             [
              0.1111111111111111,
              "#46039f"
             ],
             [
              0.2222222222222222,
              "#7201a8"
             ],
             [
              0.3333333333333333,
              "#9c179e"
             ],
             [
              0.4444444444444444,
              "#bd3786"
             ],
             [
              0.5555555555555556,
              "#d8576b"
             ],
             [
              0.6666666666666666,
              "#ed7953"
             ],
             [
              0.7777777777777778,
              "#fb9f3a"
             ],
             [
              0.8888888888888888,
              "#fdca26"
             ],
             [
              1,
              "#f0f921"
             ]
            ],
            "type": "contour"
           }
          ],
          "contourcarpet": [
           {
            "colorbar": {
             "outlinewidth": 0,
             "ticks": ""
            },
            "type": "contourcarpet"
           }
          ],
          "heatmap": [
           {
            "colorbar": {
             "outlinewidth": 0,
             "ticks": ""
            },
            "colorscale": [
             [
              0,
              "#0d0887"
             ],
             [
              0.1111111111111111,
              "#46039f"
             ],
             [
              0.2222222222222222,
              "#7201a8"
             ],
             [
              0.3333333333333333,
              "#9c179e"
             ],
             [
              0.4444444444444444,
              "#bd3786"
             ],
             [
              0.5555555555555556,
              "#d8576b"
             ],
             [
              0.6666666666666666,
              "#ed7953"
             ],
             [
              0.7777777777777778,
              "#fb9f3a"
             ],
             [
              0.8888888888888888,
              "#fdca26"
             ],
             [
              1,
              "#f0f921"
             ]
            ],
            "type": "heatmap"
           }
          ],
          "heatmapgl": [
           {
            "colorbar": {
             "outlinewidth": 0,
             "ticks": ""
            },
            "colorscale": [
             [
              0,
              "#0d0887"
             ],
             [
              0.1111111111111111,
              "#46039f"
             ],
             [
              0.2222222222222222,
              "#7201a8"
             ],
             [
              0.3333333333333333,
              "#9c179e"
             ],
             [
              0.4444444444444444,
              "#bd3786"
             ],
             [
              0.5555555555555556,
              "#d8576b"
             ],
             [
              0.6666666666666666,
              "#ed7953"
             ],
             [
              0.7777777777777778,
              "#fb9f3a"
             ],
             [
              0.8888888888888888,
              "#fdca26"
             ],
             [
              1,
              "#f0f921"
             ]
            ],
            "type": "heatmapgl"
           }
          ],
          "histogram": [
           {
            "marker": {
             "pattern": {
              "fillmode": "overlay",
              "size": 10,
              "solidity": 0.2
             }
            },
            "type": "histogram"
           }
          ],
          "histogram2d": [
           {
            "colorbar": {
             "outlinewidth": 0,
             "ticks": ""
            },
            "colorscale": [
             [
              0,
              "#0d0887"
             ],
             [
              0.1111111111111111,
              "#46039f"
             ],
             [
              0.2222222222222222,
              "#7201a8"
             ],
             [
              0.3333333333333333,
              "#9c179e"
             ],
             [
              0.4444444444444444,
              "#bd3786"
             ],
             [
              0.5555555555555556,
              "#d8576b"
             ],
             [
              0.6666666666666666,
              "#ed7953"
             ],
             [
              0.7777777777777778,
              "#fb9f3a"
             ],
             [
              0.8888888888888888,
              "#fdca26"
             ],
             [
              1,
              "#f0f921"
             ]
            ],
            "type": "histogram2d"
           }
          ],
          "histogram2dcontour": [
           {
            "colorbar": {
             "outlinewidth": 0,
             "ticks": ""
            },
            "colorscale": [
             [
              0,
              "#0d0887"
             ],
             [
              0.1111111111111111,
              "#46039f"
             ],
             [
              0.2222222222222222,
              "#7201a8"
             ],
             [
              0.3333333333333333,
              "#9c179e"
             ],
             [
              0.4444444444444444,
              "#bd3786"
             ],
             [
              0.5555555555555556,
              "#d8576b"
             ],
             [
              0.6666666666666666,
              "#ed7953"
             ],
             [
              0.7777777777777778,
              "#fb9f3a"
             ],
             [
              0.8888888888888888,
              "#fdca26"
             ],
             [
              1,
              "#f0f921"
             ]
            ],
            "type": "histogram2dcontour"
           }
          ],
          "mesh3d": [
           {
            "colorbar": {
             "outlinewidth": 0,
             "ticks": ""
            },
            "type": "mesh3d"
           }
          ],
          "parcoords": [
           {
            "line": {
             "colorbar": {
              "outlinewidth": 0,
              "ticks": ""
             }
            },
            "type": "parcoords"
           }
          ],
          "pie": [
           {
            "automargin": true,
            "type": "pie"
           }
          ],
          "scatter": [
           {
            "fillpattern": {
             "fillmode": "overlay",
             "size": 10,
             "solidity": 0.2
            },
            "type": "scatter"
           }
          ],
          "scatter3d": [
           {
            "line": {
             "colorbar": {
              "outlinewidth": 0,
              "ticks": ""
             }
            },
            "marker": {
             "colorbar": {
              "outlinewidth": 0,
              "ticks": ""
             }
            },
            "type": "scatter3d"
           }
          ],
          "scattercarpet": [
           {
            "marker": {
             "colorbar": {
              "outlinewidth": 0,
              "ticks": ""
             }
            },
            "type": "scattercarpet"
           }
          ],
          "scattergeo": [
           {
            "marker": {
             "colorbar": {
              "outlinewidth": 0,
              "ticks": ""
             }
            },
            "type": "scattergeo"
           }
          ],
          "scattergl": [
           {
            "marker": {
             "colorbar": {
              "outlinewidth": 0,
              "ticks": ""
             }
            },
            "type": "scattergl"
           }
          ],
          "scattermapbox": [
           {
            "marker": {
             "colorbar": {
              "outlinewidth": 0,
              "ticks": ""
             }
            },
            "type": "scattermapbox"
           }
          ],
          "scatterpolar": [
           {
            "marker": {
             "colorbar": {
              "outlinewidth": 0,
              "ticks": ""
             }
            },
            "type": "scatterpolar"
           }
          ],
          "scatterpolargl": [
           {
            "marker": {
             "colorbar": {
              "outlinewidth": 0,
              "ticks": ""
             }
            },
            "type": "scatterpolargl"
           }
          ],
          "scatterternary": [
           {
            "marker": {
             "colorbar": {
              "outlinewidth": 0,
              "ticks": ""
             }
            },
            "type": "scatterternary"
           }
          ],
          "surface": [
           {
            "colorbar": {
             "outlinewidth": 0,
             "ticks": ""
            },
            "colorscale": [
             [
              0,
              "#0d0887"
             ],
             [
              0.1111111111111111,
              "#46039f"
             ],
             [
              0.2222222222222222,
              "#7201a8"
             ],
             [
              0.3333333333333333,
              "#9c179e"
             ],
             [
              0.4444444444444444,
              "#bd3786"
             ],
             [
              0.5555555555555556,
              "#d8576b"
             ],
             [
              0.6666666666666666,
              "#ed7953"
             ],
             [
              0.7777777777777778,
              "#fb9f3a"
             ],
             [
              0.8888888888888888,
              "#fdca26"
             ],
             [
              1,
              "#f0f921"
             ]
            ],
            "type": "surface"
           }
          ],
          "table": [
           {
            "cells": {
             "fill": {
              "color": "#EBF0F8"
             },
             "line": {
              "color": "white"
             }
            },
            "header": {
             "fill": {
              "color": "#C8D4E3"
             },
             "line": {
              "color": "white"
             }
            },
            "type": "table"
           }
          ]
         },
         "layout": {
          "annotationdefaults": {
           "arrowcolor": "#2a3f5f",
           "arrowhead": 0,
           "arrowwidth": 1
          },
          "autotypenumbers": "strict",
          "coloraxis": {
           "colorbar": {
            "outlinewidth": 0,
            "ticks": ""
           }
          },
          "colorscale": {
           "diverging": [
            [
             0,
             "#8e0152"
            ],
            [
             0.1,
             "#c51b7d"
            ],
            [
             0.2,
             "#de77ae"
            ],
            [
             0.3,
             "#f1b6da"
            ],
            [
             0.4,
             "#fde0ef"
            ],
            [
             0.5,
             "#f7f7f7"
            ],
            [
             0.6,
             "#e6f5d0"
            ],
            [
             0.7,
             "#b8e186"
            ],
            [
             0.8,
             "#7fbc41"
            ],
            [
             0.9,
             "#4d9221"
            ],
            [
             1,
             "#276419"
            ]
           ],
           "sequential": [
            [
             0,
             "#0d0887"
            ],
            [
             0.1111111111111111,
             "#46039f"
            ],
            [
             0.2222222222222222,
             "#7201a8"
            ],
            [
             0.3333333333333333,
             "#9c179e"
            ],
            [
             0.4444444444444444,
             "#bd3786"
            ],
            [
             0.5555555555555556,
             "#d8576b"
            ],
            [
             0.6666666666666666,
             "#ed7953"
            ],
            [
             0.7777777777777778,
             "#fb9f3a"
            ],
            [
             0.8888888888888888,
             "#fdca26"
            ],
            [
             1,
             "#f0f921"
            ]
           ],
           "sequentialminus": [
            [
             0,
             "#0d0887"
            ],
            [
             0.1111111111111111,
             "#46039f"
            ],
            [
             0.2222222222222222,
             "#7201a8"
            ],
            [
             0.3333333333333333,
             "#9c179e"
            ],
            [
             0.4444444444444444,
             "#bd3786"
            ],
            [
             0.5555555555555556,
             "#d8576b"
            ],
            [
             0.6666666666666666,
             "#ed7953"
            ],
            [
             0.7777777777777778,
             "#fb9f3a"
            ],
            [
             0.8888888888888888,
             "#fdca26"
            ],
            [
             1,
             "#f0f921"
            ]
           ]
          },
          "colorway": [
           "#636efa",
           "#EF553B",
           "#00cc96",
           "#ab63fa",
           "#FFA15A",
           "#19d3f3",
           "#FF6692",
           "#B6E880",
           "#FF97FF",
           "#FECB52"
          ],
          "font": {
           "color": "#2a3f5f"
          },
          "geo": {
           "bgcolor": "white",
           "lakecolor": "white",
           "landcolor": "#E5ECF6",
           "showlakes": true,
           "showland": true,
           "subunitcolor": "white"
          },
          "hoverlabel": {
           "align": "left"
          },
          "hovermode": "closest",
          "mapbox": {
           "style": "light"
          },
          "paper_bgcolor": "white",
          "plot_bgcolor": "#E5ECF6",
          "polar": {
           "angularaxis": {
            "gridcolor": "white",
            "linecolor": "white",
            "ticks": ""
           },
           "bgcolor": "#E5ECF6",
           "radialaxis": {
            "gridcolor": "white",
            "linecolor": "white",
            "ticks": ""
           }
          },
          "scene": {
           "xaxis": {
            "backgroundcolor": "#E5ECF6",
            "gridcolor": "white",
            "gridwidth": 2,
            "linecolor": "white",
            "showbackground": true,
            "ticks": "",
            "zerolinecolor": "white"
           },
           "yaxis": {
            "backgroundcolor": "#E5ECF6",
            "gridcolor": "white",
            "gridwidth": 2,
            "linecolor": "white",
            "showbackground": true,
            "ticks": "",
            "zerolinecolor": "white"
           },
           "zaxis": {
            "backgroundcolor": "#E5ECF6",
            "gridcolor": "white",
            "gridwidth": 2,
            "linecolor": "white",
            "showbackground": true,
            "ticks": "",
            "zerolinecolor": "white"
           }
          },
          "shapedefaults": {
           "line": {
            "color": "#2a3f5f"
           }
          },
          "ternary": {
           "aaxis": {
            "gridcolor": "white",
            "linecolor": "white",
            "ticks": ""
           },
           "baxis": {
            "gridcolor": "white",
            "linecolor": "white",
            "ticks": ""
           },
           "bgcolor": "#E5ECF6",
           "caxis": {
            "gridcolor": "white",
            "linecolor": "white",
            "ticks": ""
           }
          },
          "title": {
           "x": 0.05
          },
          "xaxis": {
           "automargin": true,
           "gridcolor": "white",
           "linecolor": "white",
           "ticks": "",
           "title": {
            "standoff": 15
           },
           "zerolinecolor": "white",
           "zerolinewidth": 2
          },
          "yaxis": {
           "automargin": true,
           "gridcolor": "white",
           "linecolor": "white",
           "ticks": "",
           "title": {
            "standoff": 15
           },
           "zerolinecolor": "white",
           "zerolinewidth": 2
          }
         }
        },
        "title": {
         "text": "Top 10 Movies Based on Total Views",
         "x": 0.5
        },
        "xaxis": {
         "anchor": "y",
         "domain": [
          0,
          1
         ],
         "title": {
          "text": "Total Views"
         }
        },
        "yaxis": {
         "anchor": "x",
         "domain": [
          0,
          1
         ],
         "title": {
          "text": "Movie Title"
         }
        }
       }
      }
     },
     "metadata": {},
     "output_type": "display_data"
    }
   ],
   "source": [
    "import plotly.express as px\n",
    "\n",
    "fig = px.bar(top_10_videos, \n",
    "             x='viewCount', \n",
    "             y='title', \n",
    "             orientation='h', \n",
    "             color='viewCount', \n",
    "             color_continuous_scale='viridis',\n",
    "             labels={'viewCount': 'Total Views', 'title': 'Movie Title'},\n",
    "             title='Top 10 Movies Based on Total Views')\n",
    "\n",
    "fig.update_layout(xaxis_title='Total Views', \n",
    "                  yaxis_title='Movie Title',\n",
    "                  title={'x':0.5}) \n",
    "\n",
    "fig.show()"
   ]
  },
  {
   "cell_type": "markdown",
   "metadata": {},
   "source": [
    "# 2.\tA list of the bottom-10 videos based on the total views"
   ]
  },
  {
   "cell_type": "code",
   "execution_count": 34,
   "metadata": {},
   "outputs": [
    {
     "name": "stdout",
     "output_type": "stream",
     "text": [
      "Bottom 10 Videos Based on Total Views:\n",
      "         youtubeId movieId                                            title  \\\n",
      "12846  HX7dx_w_Ol8  102860                                   Hilton! (2013)   \n",
      "16387  EwM3gtL22E4  128856                                 Crockdale (2011)   \n",
      "15141  hHJow-uF3A0  116945                                   Freedom (2009)   \n",
      "13685  CA2QbzFUoQQ  107621                        Wooden Bridge, The (2012)   \n",
      "14144  9B-65BWKwQM  110314  Me Two (Personne aux deux personnes, La) (2008)   \n",
      "15576  tQplNZJL8XI  120208                           Flesh and Blood (1922)   \n",
      "13805  zrhl2wZrvgI  108316                            American Scary (2006)   \n",
      "13062  248-_S_5fAw  103910                                      Rafa (2012)   \n",
      "13904  Yab8jYZIrhY  108977                            Paranoia Agent (2004)   \n",
      "13896  rJHa94rACFs  108934                        We're Not Dressing (1934)   \n",
      "\n",
      "       viewCount  likeCount  commentCount duration  \\\n",
      "12846       17.0        0.0           0.0  0:00:18   \n",
      "16387       22.0        0.0           0.0  0:57:54   \n",
      "15141       46.0        0.0           0.0  0:01:01   \n",
      "13685       46.0        0.0           0.0  0:00:58   \n",
      "14144       52.0        0.0           0.0  0:00:56   \n",
      "15576       97.0        0.0           0.0  1:13:19   \n",
      "13805      107.0        0.0           0.0  0:02:40   \n",
      "13062      108.0        2.0           0.0  0:06:10   \n",
      "13904      113.0        0.0           0.0  0:03:06   \n",
      "13896      156.0        2.0           0.0  0:03:02   \n",
      "\n",
      "                                             description comments Unnamed: 10  \\\n",
      "12846                                                          []         NaN   \n",
      "16387                                                NaN       []         NaN   \n",
      "15141                                     Cabrainnnnnnnn       []         NaN   \n",
      "13685                          Cornerstone Wooden Bridge       []         NaN   \n",
      "14144                             warheads they are sour       []         NaN   \n",
      "15576  Directed by Irving Cummings\\nStarring:\\nLon Ch...       []         NaN   \n",
      "13805                                     American Scary       []         NaN   \n",
      "13062                                                          []         NaN   \n",
      "13904  Twitter: https://twitter.com/justcallmeques\\n\\...       []         NaN   \n",
      "13896  Provided to YouTube by The Orchard Enterprises...       []         NaN   \n",
      "\n",
      "       ... Unnamed: 60 Unnamed: 61 Unnamed: 62 Unnamed: 63 Unnamed: 64  \\\n",
      "12846  ...         NaN         NaN         NaN         NaN         NaN   \n",
      "16387  ...         NaN         NaN         NaN         NaN         NaN   \n",
      "15141  ...         NaN         NaN         NaN         NaN         NaN   \n",
      "13685  ...         NaN         NaN         NaN         NaN         NaN   \n",
      "14144  ...         NaN         NaN         NaN         NaN         NaN   \n",
      "15576  ...         NaN         NaN         NaN         NaN         NaN   \n",
      "13805  ...         NaN         NaN         NaN         NaN         NaN   \n",
      "13062  ...         NaN         NaN         NaN         NaN         NaN   \n",
      "13904  ...         NaN         NaN         NaN         NaN         NaN   \n",
      "13896  ...         NaN         NaN         NaN         NaN         NaN   \n",
      "\n",
      "      Unnamed: 65 Unnamed: 66 Unnamed: 67 Unnamed: 68 cleaned_comments  \n",
      "12846         NaN         NaN         NaN         NaN                   \n",
      "16387         NaN         NaN         NaN         NaN                   \n",
      "15141         NaN         NaN         NaN         NaN                   \n",
      "13685         NaN         NaN         NaN         NaN                   \n",
      "14144         NaN         NaN         NaN         NaN                   \n",
      "15576         NaN         NaN         NaN         NaN                   \n",
      "13805         NaN         NaN         NaN         NaN                   \n",
      "13062         NaN         NaN         NaN         NaN                   \n",
      "13904         NaN         NaN         NaN         NaN                   \n",
      "13896         NaN         NaN         NaN         NaN                   \n",
      "\n",
      "[10 rows x 69 columns]\n"
     ]
    }
   ],
   "source": [
    "bottom_10_videos = df_cleaned.sort_values(by='viewCount', ascending=True).head(10)\n",
    "statistics_columns = ['youtubeId', 'movieId', 'title', 'viewCount', 'likeCount', 'commentCount', 'duration']\n",
    "print('Bottom 10 Videos Based on Total Views:')\n",
    "print(bottom_10_videos)"
   ]
  },
  {
   "cell_type": "markdown",
   "metadata": {},
   "source": [
    "# d. Using a bar diagram, show the bottom-10 videos based on total views"
   ]
  },
  {
   "cell_type": "code",
   "execution_count": 35,
   "metadata": {},
   "outputs": [
    {
     "name": "stderr",
     "output_type": "stream",
     "text": [
      "/var/folders/wp/gkxhfvbs4k11mv6xndb3k_gm0000gn/T/ipykernel_28264/2078568958.py:3: FutureWarning:\n",
      "\n",
      "\n",
      "\n",
      "Passing `palette` without assigning `hue` is deprecated and will be removed in v0.14.0. Assign the `y` variable to `hue` and set `legend=False` for the same effect.\n",
      "\n",
      "\n"
     ]
    },
    {
     "data": {
      "image/png": "[encoded data removed]",
      "text/plain": [
       "<Figure size 1000x600 with 1 Axes>"
      ]
     },
     "metadata": {},
     "output_type": "display_data"
    }
   ],
   "source": [
    "plt.figure(figsize=(10, 6))\n",
    "\n",
    "sns.barplot(x='viewCount', y='title', data=bottom_10_videos, palette='viridis')\n",
    "\n",
    "plt.xlabel('Total Views')\n",
    "plt.ylabel('Movie Title')\n",
    "plt.title('Bottom 10 Movies Based on Total Views')\n",
    "\n",
    "plt.show()"
   ]
  },
  {
   "cell_type": "code",
   "execution_count": 36,
   "metadata": {},
   "outputs": [
    {
     "data": {
      "application/vnd.plotly.v1+json": {
       "config": {
        "plotlyServerURL": "https://plot.ly"
       },
       "data": [
        {
         "alignmentgroup": "True",
         "hovertemplate": "Total Views=%{marker.color}<br>Movie Title=%{y}<extra></extra>",
         "legendgroup": "",
         "marker": {
          "color": [
           17,
           22,
           46,
           46,
           52,
           97,
           107,
           108,
           113,
           156
          ],
          "coloraxis": "coloraxis",
          "pattern": {
           "shape": ""
          }
         },
         "name": "",
         "offsetgroup": "",
         "orientation": "h",
         "showlegend": false,
         "textposition": "auto",
         "type": "bar",
         "x": [
          17,
          22,
          46,
          46,
          52,
          97,
          107,
          108,
          113,
          156
         ],
         "xaxis": "x",
         "y": [
          "Hilton! (2013)",
          "Crockdale (2011)",
          "Freedom (2009)",
          "Wooden Bridge, The (2012)",
          "Me Two (Personne aux deux personnes, La) (2008)",
          "Flesh and Blood (1922)",
          "American Scary (2006)",
          "Rafa (2012)",
          "Paranoia Agent (2004)",
          "We're Not Dressing (1934)"
         ],
         "yaxis": "y"
        }
       ],
       "layout": {
        "barmode": "relative",
        "coloraxis": {
         "colorbar": {
          "title": {
           "text": "Total Views"
          }
         },
         "colorscale": [
          [
           0,
           "#440154"
          ],
          [
           0.1111111111111111,
           "#482878"
          ],
          [
           0.2222222222222222,
           "#3e4989"
          ],
          [
           0.3333333333333333,
           "#31688e"
          ],
          [
           0.4444444444444444,
           "#26828e"
          ],
          [
           0.5555555555555556,
           "#1f9e89"
          ],
          [
           0.6666666666666666,
           "#35b779"
          ],
          [
           0.7777777777777778,
           "#6ece58"
          ],
          [
           0.8888888888888888,
           "#b5de2b"
          ],
          [
           1,
           "#fde725"
          ]
         ]
        },
        "legend": {
         "tracegroupgap": 0
        },
        "template": {
         "data": {
          "bar": [
           {
            "error_x": {
             "color": "#2a3f5f"
            },
            "error_y": {
             "color": "#2a3f5f"
            },
            "marker": {
             "line": {
              "color": "#E5ECF6",
              "width": 0.5
             },
             "pattern": {
              "fillmode": "overlay",
              "size": 10,
              "solidity": 0.2
             }
            },
            "type": "bar"
           }
          ],
          "barpolar": [
           {
            "marker": {
             "line": {
              "color": "#E5ECF6",
              "width": 0.5
             },
             "pattern": {
              "fillmode": "overlay",
              "size": 10,
              "solidity": 0.2
             }
            },
            "type": "barpolar"
           }
          ],
          "carpet": [
           {
            "aaxis": {
             "endlinecolor": "#2a3f5f",
             "gridcolor": "white",
             "linecolor": "white",
             "minorgridcolor": "white",
             "startlinecolor": "#2a3f5f"
            },
            "baxis": {
             "endlinecolor": "#2a3f5f",
             "gridcolor": "white",
             "linecolor": "white",
             "minorgridcolor": "white",
             "startlinecolor": "#2a3f5f"
            },
            "type": "carpet"
           }
          ],
          "choropleth": [
           {
            "colorbar": {
             "outlinewidth": 0,
             "ticks": ""
            },
            "type": "choropleth"
           }
          ],
          "contour": [
           {
            "colorbar": {
             "outlinewidth": 0,
             "ticks": ""
            },
            "colorscale": [
             [
              0,
              "#0d0887"
             ],
             [
              0.1111111111111111,
              "#46039f"
             ],
             [
              0.2222222222222222,
              "#7201a8"
             ],
             [
              0.3333333333333333,
              "#9c179e"
             ],
             [
              0.4444444444444444,
              "#bd3786"
             ],
             [
              0.5555555555555556,
              "#d8576b"
             ],
             [
              0.6666666666666666,
              "#ed7953"
             ],
             [
              0.7777777777777778,
              "#fb9f3a"
             ],
             [
              0.8888888888888888,
              "#fdca26"
             ],
             [
              1,
              "#f0f921"
             ]
            ],
            "type": "contour"
           }
          ],
          "contourcarpet": [
           {
            "colorbar": {
             "outlinewidth": 0,
             "ticks": ""
            },
            "type": "contourcarpet"
           }
          ],
          "heatmap": [
           {
            "colorbar": {
             "outlinewidth": 0,
             "ticks": ""
            },
            "colorscale": [
             [
              0,
              "#0d0887"
             ],
             [
              0.1111111111111111,
              "#46039f"
             ],
             [
              0.2222222222222222,
              "#7201a8"
             ],
             [
              0.3333333333333333,
              "#9c179e"
             ],
             [
              0.4444444444444444,
              "#bd3786"
             ],
             [
              0.5555555555555556,
              "#d8576b"
             ],
             [
              0.6666666666666666,
              "#ed7953"
             ],
             [
              0.7777777777777778,
              "#fb9f3a"
             ],
             [
              0.8888888888888888,
              "#fdca26"
             ],
             [
              1,
              "#f0f921"
             ]
            ],
            "type": "heatmap"
           }
          ],
          "heatmapgl": [
           {
            "colorbar": {
             "outlinewidth": 0,
             "ticks": ""
            },
            "colorscale": [
             [
              0,
              "#0d0887"
             ],
             [
              0.1111111111111111,
              "#46039f"
             ],
             [
              0.2222222222222222,
              "#7201a8"
             ],
             [
              0.3333333333333333,
              "#9c179e"
             ],
             [
              0.4444444444444444,
              "#bd3786"
             ],
             [
              0.5555555555555556,
              "#d8576b"
             ],
             [
              0.6666666666666666,
              "#ed7953"
             ],
             [
              0.7777777777777778,
              "#fb9f3a"
             ],
             [
              0.8888888888888888,
              "#fdca26"
             ],
             [
              1,
              "#f0f921"
             ]
            ],
            "type": "heatmapgl"
           }
          ],
          "histogram": [
           {
            "marker": {
             "pattern": {
              "fillmode": "overlay",
              "size": 10,
              "solidity": 0.2
             }
            },
            "type": "histogram"
           }
          ],
          "histogram2d": [
           {
            "colorbar": {
             "outlinewidth": 0,
             "ticks": ""
            },
            "colorscale": [
             [
              0,
              "#0d0887"
             ],
             [
              0.1111111111111111,
              "#46039f"
             ],
             [
              0.2222222222222222,
              "#7201a8"
             ],
             [
              0.3333333333333333,
              "#9c179e"
             ],
             [
              0.4444444444444444,
              "#bd3786"
             ],
             [
              0.5555555555555556,
              "#d8576b"
             ],
             [
              0.6666666666666666,
              "#ed7953"
             ],
             [
              0.7777777777777778,
              "#fb9f3a"
             ],
             [
              0.8888888888888888,
              "#fdca26"
             ],
             [
              1,
              "#f0f921"
             ]
            ],
            "type": "histogram2d"
           }
          ],
          "histogram2dcontour": [
           {
            "colorbar": {
             "outlinewidth": 0,
             "ticks": ""
            },
            "colorscale": [
             [
              0,
              "#0d0887"
             ],
             [
              0.1111111111111111,
              "#46039f"
             ],
             [
              0.2222222222222222,
              "#7201a8"
             ],
             [
              0.3333333333333333,
              "#9c179e"
             ],
             [
              0.4444444444444444,
              "#bd3786"
             ],
             [
              0.5555555555555556,
              "#d8576b"
             ],
             [
              0.6666666666666666,
              "#ed7953"
             ],
             [
              0.7777777777777778,
              "#fb9f3a"
             ],
             [
              0.8888888888888888,
              "#fdca26"
             ],
             [
              1,
              "#f0f921"
             ]
            ],
            "type": "histogram2dcontour"
           }
          ],
          "mesh3d": [
           {
            "colorbar": {
             "outlinewidth": 0,
             "ticks": ""
            },
            "type": "mesh3d"
           }
          ],
          "parcoords": [
           {
            "line": {
             "colorbar": {
              "outlinewidth": 0,
              "ticks": ""
             }
            },
            "type": "parcoords"
           }
          ],
          "pie": [
           {
            "automargin": true,
            "type": "pie"
           }
          ],
          "scatter": [
           {
            "fillpattern": {
             "fillmode": "overlay",
             "size": 10,
             "solidity": 0.2
            },
            "type": "scatter"
           }
          ],
          "scatter3d": [
           {
            "line": {
             "colorbar": {
              "outlinewidth": 0,
              "ticks": ""
             }
            },
            "marker": {
             "colorbar": {
              "outlinewidth": 0,
              "ticks": ""
             }
            },
            "type": "scatter3d"
           }
          ],
          "scattercarpet": [
           {
            "marker": {
             "colorbar": {
              "outlinewidth": 0,
              "ticks": ""
             }
            },
            "type": "scattercarpet"
           }
          ],
          "scattergeo": [
           {
            "marker": {
             "colorbar": {
              "outlinewidth": 0,
              "ticks": ""
             }
            },
            "type": "scattergeo"
           }
          ],
          "scattergl": [
           {
            "marker": {
             "colorbar": {
              "outlinewidth": 0,
              "ticks": ""
             }
            },
            "type": "scattergl"
           }
          ],
          "scattermapbox": [
           {
            "marker": {
             "colorbar": {
              "outlinewidth": 0,
              "ticks": ""
             }
            },
            "type": "scattermapbox"
           }
          ],
          "scatterpolar": [
           {
            "marker": {
             "colorbar": {
              "outlinewidth": 0,
              "ticks": ""
             }
            },
            "type": "scatterpolar"
           }
          ],
          "scatterpolargl": [
           {
            "marker": {
             "colorbar": {
              "outlinewidth": 0,
              "ticks": ""
             }
            },
            "type": "scatterpolargl"
           }
          ],
          "scatterternary": [
           {
            "marker": {
             "colorbar": {
              "outlinewidth": 0,
              "ticks": ""
             }
            },
            "type": "scatterternary"
           }
          ],
          "surface": [
           {
            "colorbar": {
             "outlinewidth": 0,
             "ticks": ""
            },
            "colorscale": [
             [
              0,
              "#0d0887"
             ],
             [
              0.1111111111111111,
              "#46039f"
             ],
             [
              0.2222222222222222,
              "#7201a8"
             ],
             [
              0.3333333333333333,
              "#9c179e"
             ],
             [
              0.4444444444444444,
              "#bd3786"
             ],
             [
              0.5555555555555556,
              "#d8576b"
             ],
             [
              0.6666666666666666,
              "#ed7953"
             ],
             [
              0.7777777777777778,
              "#fb9f3a"
             ],
             [
              0.8888888888888888,
              "#fdca26"
             ],
             [
              1,
              "#f0f921"
             ]
            ],
            "type": "surface"
           }
          ],
          "table": [
           {
            "cells": {
             "fill": {
              "color": "#EBF0F8"
             },
             "line": {
              "color": "white"
             }
            },
            "header": {
             "fill": {
              "color": "#C8D4E3"
             },
             "line": {
              "color": "white"
             }
            },
            "type": "table"
           }
          ]
         },
         "layout": {
          "annotationdefaults": {
           "arrowcolor": "#2a3f5f",
           "arrowhead": 0,
           "arrowwidth": 1
          },
          "autotypenumbers": "strict",
          "coloraxis": {
           "colorbar": {
            "outlinewidth": 0,
            "ticks": ""
           }
          },
          "colorscale": {
           "diverging": [
            [
             0,
             "#8e0152"
            ],
            [
             0.1,
             "#c51b7d"
            ],
            [
             0.2,
             "#de77ae"
            ],
            [
             0.3,
             "#f1b6da"
            ],
            [
             0.4,
             "#fde0ef"
            ],
            [
             0.5,
             "#f7f7f7"
            ],
            [
             0.6,
             "#e6f5d0"
            ],
            [
             0.7,
             "#b8e186"
            ],
            [
             0.8,
             "#7fbc41"
            ],
            [
             0.9,
             "#4d9221"
            ],
            [
             1,
             "#276419"
            ]
           ],
           "sequential": [
            [
             0,
             "#0d0887"
            ],
            [
             0.1111111111111111,
             "#46039f"
            ],
            [
             0.2222222222222222,
             "#7201a8"
            ],
            [
             0.3333333333333333,
             "#9c179e"
            ],
            [
             0.4444444444444444,
             "#bd3786"
            ],
            [
             0.5555555555555556,
             "#d8576b"
            ],
            [
             0.6666666666666666,
             "#ed7953"
            ],
            [
             0.7777777777777778,
             "#fb9f3a"
            ],
            [
             0.8888888888888888,
             "#fdca26"
            ],
            [
             1,
             "#f0f921"
            ]
           ],
           "sequentialminus": [
            [
             0,
             "#0d0887"
            ],
            [
             0.1111111111111111,
             "#46039f"
            ],
            [
             0.2222222222222222,
             "#7201a8"
            ],
            [
             0.3333333333333333,
             "#9c179e"
            ],
            [
             0.4444444444444444,
             "#bd3786"
            ],
            [
             0.5555555555555556,
             "#d8576b"
            ],
            [
             0.6666666666666666,
             "#ed7953"
            ],
            [
             0.7777777777777778,
             "#fb9f3a"
            ],
            [
             0.8888888888888888,
             "#fdca26"
            ],
            [
             1,
             "#f0f921"
            ]
           ]
          },
          "colorway": [
           "#636efa",
           "#EF553B",
           "#00cc96",
           "#ab63fa",
           "#FFA15A",
           "#19d3f3",
           "#FF6692",
           "#B6E880",
           "#FF97FF",
           "#FECB52"
          ],
          "font": {
           "color": "#2a3f5f"
          },
          "geo": {
           "bgcolor": "white",
           "lakecolor": "white",
           "landcolor": "#E5ECF6",
           "showlakes": true,
           "showland": true,
           "subunitcolor": "white"
          },
          "hoverlabel": {
           "align": "left"
          },
          "hovermode": "closest",
          "mapbox": {
           "style": "light"
          },
          "paper_bgcolor": "white",
          "plot_bgcolor": "#E5ECF6",
          "polar": {
           "angularaxis": {
            "gridcolor": "white",
            "linecolor": "white",
            "ticks": ""
           },
           "bgcolor": "#E5ECF6",
           "radialaxis": {
            "gridcolor": "white",
            "linecolor": "white",
            "ticks": ""
           }
          },
          "scene": {
           "xaxis": {
            "backgroundcolor": "#E5ECF6",
            "gridcolor": "white",
            "gridwidth": 2,
            "linecolor": "white",
            "showbackground": true,
            "ticks": "",
            "zerolinecolor": "white"
           },
           "yaxis": {
            "backgroundcolor": "#E5ECF6",
            "gridcolor": "white",
            "gridwidth": 2,
            "linecolor": "white",
            "showbackground": true,
            "ticks": "",
            "zerolinecolor": "white"
           },
           "zaxis": {
            "backgroundcolor": "#E5ECF6",
            "gridcolor": "white",
            "gridwidth": 2,
            "linecolor": "white",
            "showbackground": true,
            "ticks": "",
            "zerolinecolor": "white"
           }
          },
          "shapedefaults": {
           "line": {
            "color": "#2a3f5f"
           }
          },
          "ternary": {
           "aaxis": {
            "gridcolor": "white",
            "linecolor": "white",
            "ticks": ""
           },
           "baxis": {
            "gridcolor": "white",
            "linecolor": "white",
            "ticks": ""
           },
           "bgcolor": "#E5ECF6",
           "caxis": {
            "gridcolor": "white",
            "linecolor": "white",
            "ticks": ""
           }
          },
          "title": {
           "x": 0.05
          },
          "xaxis": {
           "automargin": true,
           "gridcolor": "white",
           "linecolor": "white",
           "ticks": "",
           "title": {
            "standoff": 15
           },
           "zerolinecolor": "white",
           "zerolinewidth": 2
          },
          "yaxis": {
           "automargin": true,
           "gridcolor": "white",
           "linecolor": "white",
           "ticks": "",
           "title": {
            "standoff": 15
           },
           "zerolinecolor": "white",
           "zerolinewidth": 2
          }
         }
        },
        "title": {
         "text": "Bottom 10 Movies Based on Total Views",
         "x": 0.5
        },
        "xaxis": {
         "anchor": "y",
         "domain": [
          0,
          1
         ],
         "title": {
          "text": "Total Views"
         }
        },
        "yaxis": {
         "anchor": "x",
         "domain": [
          0,
          1
         ],
         "title": {
          "text": "Movie Title"
         }
        }
       }
      }
     },
     "metadata": {},
     "output_type": "display_data"
    }
   ],
   "source": [
    "fig = px.bar(bottom_10_videos, \n",
    "             x='viewCount', \n",
    "             y='title', \n",
    "             orientation='h', \n",
    "             color='viewCount', \n",
    "             color_continuous_scale='viridis',\n",
    "             labels={'viewCount': 'Total Views', 'title': 'Movie Title'},\n",
    "             title='Bottom 10 Movies Based on Total Views')\n",
    "\n",
    "fig.update_layout(xaxis_title='Total Views', \n",
    "                  yaxis_title='Movie Title',\n",
    "                  title={'x':0.5})  \n",
    "\n",
    "fig.show()"
   ]
  },
  {
   "cell_type": "markdown",
   "metadata": {},
   "source": [
    "# e. The title of the video that has the most likes"
   ]
  },
  {
   "cell_type": "code",
   "execution_count": 43,
   "metadata": {},
   "outputs": [
    {
     "name": "stdout",
     "output_type": "stream",
     "text": [
      "The Most Liked Video:\n",
      "youtubeId            450p7goxZqg\n",
      "movieId                   111226\n",
      "title           All of Me (2013)\n",
      "viewCount           2380444944.0\n",
      "likeCount             13160813.0\n",
      "commentCount            255442.0\n",
      "duration                 0:05:08\n",
      "Name: 14267, dtype: object\n"
     ]
    }
   ],
   "source": [
    "most_liked_video = df_cleaned.sort_values(by='likeCount', ascending=False).iloc[0]\n",
    "statistics_columns = ['youtubeId', 'movieId', 'title', 'viewCount', 'likeCount', 'commentCount', 'duration']\n",
    "print('The Most Liked Video:')\n",
    "print(most_liked_video[statistics_columns])"
   ]
  },
  {
   "cell_type": "markdown",
   "metadata": {},
   "source": [
    "# f. The title of the video that has the least likes"
   ]
  },
  {
   "cell_type": "code",
   "execution_count": 42,
   "metadata": {},
   "outputs": [
    {
     "name": "stdout",
     "output_type": "stream",
     "text": [
      "The Least Liked Video:\n",
      "youtubeId                  tQplNZJL8XI\n",
      "movieId                         120208\n",
      "title           Flesh and Blood (1922)\n",
      "viewCount                         97.0\n",
      "likeCount                          0.0\n",
      "commentCount                       0.0\n",
      "duration                       1:13:19\n",
      "Name: 15576, dtype: object\n"
     ]
    }
   ],
   "source": [
    "least_liked_video = df_cleaned.sort_values(by='likeCount', ascending=True).iloc[0]\n",
    "statistics_columns = ['youtubeId', 'movieId', 'title', 'viewCount', 'likeCount', 'commentCount', 'duration']\n",
    "print('The Least Liked Video:')\n",
    "print(least_liked_video[statistics_columns])"
   ]
  },
  {
   "cell_type": "markdown",
   "metadata": {},
   "source": [
    "# g. The title of the video that has the highest duration"
   ]
  },
  {
   "cell_type": "code",
   "execution_count": 41,
   "metadata": {},
   "outputs": [
    {
     "name": "stdout",
     "output_type": "stream",
     "text": [
      "Statistics of the Video with the Highest Duration:\n",
      "youtubeId                           eJ3RzGoQC4s\n",
      "movieId                                  105250\n",
      "title           Century of the Self, The (2002)\n",
      "viewCount                             3376180.0\n",
      "likeCount                               44018.0\n",
      "commentCount                             1354.0\n",
      "duration                                3:54:44\n",
      "Name: 13298, dtype: object\n"
     ]
    }
   ],
   "source": [
    "video_with_highest_duration = df_cleaned.sort_values(by='duration', ascending=False).iloc[0]\n",
    "statistics_columns = ['youtubeId', 'movieId', 'title', 'viewCount', 'likeCount', 'commentCount', 'duration']\n",
    "\n",
    "print('Statistics of the Video with the Highest Duration:')\n",
    "print(video_with_highest_duration[statistics_columns])"
   ]
  },
  {
   "cell_type": "markdown",
   "metadata": {},
   "source": [
    "# 6. Apply sentiment analysis on comments for each videos"
   ]
  },
  {
   "cell_type": "code",
   "execution_count": 44,
   "metadata": {},
   "outputs": [],
   "source": [
    "import pandas as pd\n",
    "from nltk.sentiment.vader import SentimentIntensityAnalyzer\n",
    "import seaborn as sns\n",
    "\n",
    "df_cleaned['comments'] = df_cleaned['comments'].str.split(',')\n",
    "\n",
    "# Step 2: Perform Sentiment Analysis\n",
    "sid = SentimentIntensityAnalyzer()\n",
    "\n",
    "def get_sentiment_score(comment):\n",
    "    scores = [sid.polarity_scores(c)['compound'] for c in comment]\n",
    "    return sum(scores) / len(scores)\n",
    "\n",
    "df_cleaned['sentiment_score'] = df_cleaned['comments'].apply(get_sentiment_score)"
   ]
  },
  {
   "cell_type": "markdown",
   "metadata": {},
   "source": [
    "# h. top-10 videos that have the highest positive sentiment scores"
   ]
  },
  {
   "cell_type": "code",
   "execution_count": 45,
   "metadata": {},
   "outputs": [
    {
     "name": "stderr",
     "output_type": "stream",
     "text": [
      "/var/folders/wp/gkxhfvbs4k11mv6xndb3k_gm0000gn/T/ipykernel_28264/2237187707.py:9: FutureWarning:\n",
      "\n",
      "\n",
      "\n",
      "Passing `palette` without assigning `hue` is deprecated and will be removed in v0.14.0. Assign the `y` variable to `hue` and set `legend=False` for the same effect.\n",
      "\n",
      "\n"
     ]
    },
    {
     "data": {
      "image/png": "[encoded data removed]",
      "text/plain": [
       "<Figure size 1000x800 with 1 Axes>"
      ]
     },
     "metadata": {},
     "output_type": "display_data"
    }
   ],
   "source": [
    "sns.set(style=\"whitegrid\")\n",
    "\n",
    "top_10_movies = df_cleaned.groupby('title')['sentiment_score'].mean().nlargest(10).index\n",
    "top_10_df = df_cleaned[df_cleaned['title'].isin(top_10_movies)]\n",
    "\n",
    "top_10_df = top_10_df.sort_values(by='sentiment_score', ascending=False)\n",
    "\n",
    "plt.figure(figsize=(10, 8))  \n",
    "sns.barplot(data=top_10_df, y='title', x='sentiment_score', estimator=sum, palette='viridis') \n",
    "plt.xlabel('Sentiment Score')\n",
    "plt.ylabel('Movie Title')\n",
    "plt.title('Top 10 Movies by Sentiment Score (Descending Order)')\n",
    "\n",
    "plt.show()"
   ]
  },
  {
   "cell_type": "code",
   "execution_count": 46,
   "metadata": {},
   "outputs": [
    {
     "data": {
      "application/vnd.plotly.v1+json": {
       "config": {
        "plotlyServerURL": "https://plot.ly"
       },
       "data": [
        {
         "alignmentgroup": "True",
         "hovertemplate": "Sentiment Score=%{marker.color}<br>Movie Title=%{y}<extra></extra>",
         "legendgroup": "",
         "marker": {
          "color": [
           0.9908,
           0.9531,
           0.9204,
           0.9186,
           0.9153,
           0.9118,
           0.9116500000000001,
           0.9113,
           0.8957,
           0.8934
          ],
          "coloraxis": "coloraxis",
          "pattern": {
           "shape": ""
          }
         },
         "name": "",
         "offsetgroup": "",
         "orientation": "h",
         "showlegend": false,
         "textposition": "auto",
         "type": "bar",
         "x": [
          0.9908,
          0.9531,
          0.9204,
          0.9186,
          0.9153,
          0.9118,
          0.9116500000000001,
          0.9113,
          0.8957,
          0.8934
         ],
         "xaxis": "x",
         "y": [
          "Fingers at the Window (1942)",
          "Joan of Paris (1942)",
          "Immigrant, The (2013)",
          "Snows of Kilimanjaro, The (1952)",
          "Adventures of Ichabod and Mr. Toad, The (1949)",
          "Brass Monkey (1948)",
          "That Old Feeling (1997)",
          "Alien Nation: Millennium (1996)",
          "Savannah (2013)",
          "Chicago (1927)"
         ],
         "yaxis": "y"
        }
       ],
       "layout": {
        "barmode": "relative",
        "coloraxis": {
         "colorbar": {
          "title": {
           "text": "Sentiment Score"
          }
         },
         "colorscale": [
          [
           0,
           "#440154"
          ],
          [
           0.1111111111111111,
           "#482878"
          ],
          [
           0.2222222222222222,
           "#3e4989"
          ],
          [
           0.3333333333333333,
           "#31688e"
          ],
          [
           0.4444444444444444,
           "#26828e"
          ],
          [
           0.5555555555555556,
           "#1f9e89"
          ],
          [
           0.6666666666666666,
           "#35b779"
          ],
          [
           0.7777777777777778,
           "#6ece58"
          ],
          [
           0.8888888888888888,
           "#b5de2b"
          ],
          [
           1,
           "#fde725"
          ]
         ]
        },
        "legend": {
         "tracegroupgap": 0
        },
        "template": {
         "data": {
          "bar": [
           {
            "error_x": {
             "color": "#2a3f5f"
            },
            "error_y": {
             "color": "#2a3f5f"
            },
            "marker": {
             "line": {
              "color": "#E5ECF6",
              "width": 0.5
             },
             "pattern": {
              "fillmode": "overlay",
              "size": 10,
              "solidity": 0.2
             }
            },
            "type": "bar"
           }
          ],
          "barpolar": [
           {
            "marker": {
             "line": {
              "color": "#E5ECF6",
              "width": 0.5
             },
             "pattern": {
              "fillmode": "overlay",
              "size": 10,
              "solidity": 0.2
             }
            },
            "type": "barpolar"
           }
          ],
          "carpet": [
           {
            "aaxis": {
             "endlinecolor": "#2a3f5f",
             "gridcolor": "white",
             "linecolor": "white",
             "minorgridcolor": "white",
             "startlinecolor": "#2a3f5f"
            },
            "baxis": {
             "endlinecolor": "#2a3f5f",
             "gridcolor": "white",
             "linecolor": "white",
             "minorgridcolor": "white",
             "startlinecolor": "#2a3f5f"
            },
            "type": "carpet"
           }
          ],
          "choropleth": [
           {
            "colorbar": {
             "outlinewidth": 0,
             "ticks": ""
            },
            "type": "choropleth"
           }
          ],
          "contour": [
           {
            "colorbar": {
             "outlinewidth": 0,
             "ticks": ""
            },
            "colorscale": [
             [
              0,
              "#0d0887"
             ],
             [
              0.1111111111111111,
              "#46039f"
             ],
             [
              0.2222222222222222,
              "#7201a8"
             ],
             [
              0.3333333333333333,
              "#9c179e"
             ],
             [
              0.4444444444444444,
              "#bd3786"
             ],
             [
              0.5555555555555556,
              "#d8576b"
             ],
             [
              0.6666666666666666,
              "#ed7953"
             ],
             [
              0.7777777777777778,
              "#fb9f3a"
             ],
             [
              0.8888888888888888,
              "#fdca26"
             ],
             [
              1,
              "#f0f921"
             ]
            ],
            "type": "contour"
           }
          ],
          "contourcarpet": [
           {
            "colorbar": {
             "outlinewidth": 0,
             "ticks": ""
            },
            "type": "contourcarpet"
           }
          ],
          "heatmap": [
           {
            "colorbar": {
             "outlinewidth": 0,
             "ticks": ""
            },
            "colorscale": [
             [
              0,
              "#0d0887"
             ],
             [
              0.1111111111111111,
              "#46039f"
             ],
             [
              0.2222222222222222,
              "#7201a8"
             ],
             [
              0.3333333333333333,
              "#9c179e"
             ],
             [
              0.4444444444444444,
              "#bd3786"
             ],
             [
              0.5555555555555556,
              "#d8576b"
             ],
             [
              0.6666666666666666,
              "#ed7953"
             ],
             [
              0.7777777777777778,
              "#fb9f3a"
             ],
             [
              0.8888888888888888,
              "#fdca26"
             ],
             [
              1,
              "#f0f921"
             ]
            ],
            "type": "heatmap"
           }
          ],
          "heatmapgl": [
           {
            "colorbar": {
             "outlinewidth": 0,
             "ticks": ""
            },
            "colorscale": [
             [
              0,
              "#0d0887"
             ],
             [
              0.1111111111111111,
              "#46039f"
             ],
             [
              0.2222222222222222,
              "#7201a8"
             ],
             [
              0.3333333333333333,
              "#9c179e"
             ],
             [
              0.4444444444444444,
              "#bd3786"
             ],
             [
              0.5555555555555556,
              "#d8576b"
             ],
             [
              0.6666666666666666,
              "#ed7953"
             ],
             [
              0.7777777777777778,
              "#fb9f3a"
             ],
             [
              0.8888888888888888,
              "#fdca26"
             ],
             [
              1,
              "#f0f921"
             ]
            ],
            "type": "heatmapgl"
           }
          ],
          "histogram": [
           {
            "marker": {
             "pattern": {
              "fillmode": "overlay",
              "size": 10,
              "solidity": 0.2
             }
            },
            "type": "histogram"
           }
          ],
          "histogram2d": [
           {
            "colorbar": {
             "outlinewidth": 0,
             "ticks": ""
            },
            "colorscale": [
             [
              0,
              "#0d0887"
             ],
             [
              0.1111111111111111,
              "#46039f"
             ],
             [
              0.2222222222222222,
              "#7201a8"
             ],
             [
              0.3333333333333333,
              "#9c179e"
             ],
             [
              0.4444444444444444,
              "#bd3786"
             ],
             [
              0.5555555555555556,
              "#d8576b"
             ],
             [
              0.6666666666666666,
              "#ed7953"
             ],
             [
              0.7777777777777778,
              "#fb9f3a"
             ],
             [
              0.8888888888888888,
              "#fdca26"
             ],
             [
              1,
              "#f0f921"
             ]
            ],
            "type": "histogram2d"
           }
          ],
          "histogram2dcontour": [
           {
            "colorbar": {
             "outlinewidth": 0,
             "ticks": ""
            },
            "colorscale": [
             [
              0,
              "#0d0887"
             ],
             [
              0.1111111111111111,
              "#46039f"
             ],
             [
              0.2222222222222222,
              "#7201a8"
             ],
             [
              0.3333333333333333,
              "#9c179e"
             ],
             [
              0.4444444444444444,
              "#bd3786"
             ],
             [
              0.5555555555555556,
              "#d8576b"
             ],
             [
              0.6666666666666666,
              "#ed7953"
             ],
             [
              0.7777777777777778,
              "#fb9f3a"
             ],
             [
              0.8888888888888888,
              "#fdca26"
             ],
             [
              1,
              "#f0f921"
             ]
            ],
            "type": "histogram2dcontour"
           }
          ],
          "mesh3d": [
           {
            "colorbar": {
             "outlinewidth": 0,
             "ticks": ""
            },
            "type": "mesh3d"
           }
          ],
          "parcoords": [
           {
            "line": {
             "colorbar": {
              "outlinewidth": 0,
              "ticks": ""
             }
            },
            "type": "parcoords"
           }
          ],
          "pie": [
           {
            "automargin": true,
            "type": "pie"
           }
          ],
          "scatter": [
           {
            "fillpattern": {
             "fillmode": "overlay",
             "size": 10,
             "solidity": 0.2
            },
            "type": "scatter"
           }
          ],
          "scatter3d": [
           {
            "line": {
             "colorbar": {
              "outlinewidth": 0,
              "ticks": ""
             }
            },
            "marker": {
             "colorbar": {
              "outlinewidth": 0,
              "ticks": ""
             }
            },
            "type": "scatter3d"
           }
          ],
          "scattercarpet": [
           {
            "marker": {
             "colorbar": {
              "outlinewidth": 0,
              "ticks": ""
             }
            },
            "type": "scattercarpet"
           }
          ],
          "scattergeo": [
           {
            "marker": {
             "colorbar": {
              "outlinewidth": 0,
              "ticks": ""
             }
            },
            "type": "scattergeo"
           }
          ],
          "scattergl": [
           {
            "marker": {
             "colorbar": {
              "outlinewidth": 0,
              "ticks": ""
             }
            },
            "type": "scattergl"
           }
          ],
          "scattermapbox": [
           {
            "marker": {
             "colorbar": {
              "outlinewidth": 0,
              "ticks": ""
             }
            },
            "type": "scattermapbox"
           }
          ],
          "scatterpolar": [
           {
            "marker": {
             "colorbar": {
              "outlinewidth": 0,
              "ticks": ""
             }
            },
            "type": "scatterpolar"
           }
          ],
          "scatterpolargl": [
           {
            "marker": {
             "colorbar": {
              "outlinewidth": 0,
              "ticks": ""
             }
            },
            "type": "scatterpolargl"
           }
          ],
          "scatterternary": [
           {
            "marker": {
             "colorbar": {
              "outlinewidth": 0,
              "ticks": ""
             }
            },
            "type": "scatterternary"
           }
          ],
          "surface": [
           {
            "colorbar": {
             "outlinewidth": 0,
             "ticks": ""
            },
            "colorscale": [
             [
              0,
              "#0d0887"
             ],
             [
              0.1111111111111111,
              "#46039f"
             ],
             [
              0.2222222222222222,
              "#7201a8"
             ],
             [
              0.3333333333333333,
              "#9c179e"
             ],
             [
              0.4444444444444444,
              "#bd3786"
             ],
             [
              0.5555555555555556,
              "#d8576b"
             ],
             [
              0.6666666666666666,
              "#ed7953"
             ],
             [
              0.7777777777777778,
              "#fb9f3a"
             ],
             [
              0.8888888888888888,
              "#fdca26"
             ],
             [
              1,
              "#f0f921"
             ]
            ],
            "type": "surface"
           }
          ],
          "table": [
           {
            "cells": {
             "fill": {
              "color": "#EBF0F8"
             },
             "line": {
              "color": "white"
             }
            },
            "header": {
             "fill": {
              "color": "#C8D4E3"
             },
             "line": {
              "color": "white"
             }
            },
            "type": "table"
           }
          ]
         },
         "layout": {
          "annotationdefaults": {
           "arrowcolor": "#2a3f5f",
           "arrowhead": 0,
           "arrowwidth": 1
          },
          "autotypenumbers": "strict",
          "coloraxis": {
           "colorbar": {
            "outlinewidth": 0,
            "ticks": ""
           }
          },
          "colorscale": {
           "diverging": [
            [
             0,
             "#8e0152"
            ],
            [
             0.1,
             "#c51b7d"
            ],
            [
             0.2,
             "#de77ae"
            ],
            [
             0.3,
             "#f1b6da"
            ],
            [
             0.4,
             "#fde0ef"
            ],
            [
             0.5,
             "#f7f7f7"
            ],
            [
             0.6,
             "#e6f5d0"
            ],
            [
             0.7,
             "#b8e186"
            ],
            [
             0.8,
             "#7fbc41"
            ],
            [
             0.9,
             "#4d9221"
            ],
            [
             1,
             "#276419"
            ]
           ],
           "sequential": [
            [
             0,
             "#0d0887"
            ],
            [
             0.1111111111111111,
             "#46039f"
            ],
            [
             0.2222222222222222,
             "#7201a8"
            ],
            [
             0.3333333333333333,
             "#9c179e"
            ],
            [
             0.4444444444444444,
             "#bd3786"
            ],
            [
             0.5555555555555556,
             "#d8576b"
            ],
            [
             0.6666666666666666,
             "#ed7953"
            ],
            [
             0.7777777777777778,
             "#fb9f3a"
            ],
            [
             0.8888888888888888,
             "#fdca26"
            ],
            [
             1,
             "#f0f921"
            ]
           ],
           "sequentialminus": [
            [
             0,
             "#0d0887"
            ],
            [
             0.1111111111111111,
             "#46039f"
            ],
            [
             0.2222222222222222,
             "#7201a8"
            ],
            [
             0.3333333333333333,
             "#9c179e"
            ],
            [
             0.4444444444444444,
             "#bd3786"
            ],
            [
             0.5555555555555556,
             "#d8576b"
            ],
            [
             0.6666666666666666,
             "#ed7953"
            ],
            [
             0.7777777777777778,
             "#fb9f3a"
            ],
            [
             0.8888888888888888,
             "#fdca26"
            ],
            [
             1,
             "#f0f921"
            ]
           ]
          },
          "colorway": [
           "#636efa",
           "#EF553B",
           "#00cc96",
           "#ab63fa",
           "#FFA15A",
           "#19d3f3",
           "#FF6692",
           "#B6E880",
           "#FF97FF",
           "#FECB52"
          ],
          "font": {
           "color": "#2a3f5f"
          },
          "geo": {
           "bgcolor": "white",
           "lakecolor": "white",
           "landcolor": "#E5ECF6",
           "showlakes": true,
           "showland": true,
           "subunitcolor": "white"
          },
          "hoverlabel": {
           "align": "left"
          },
          "hovermode": "closest",
          "mapbox": {
           "style": "light"
          },
          "paper_bgcolor": "white",
          "plot_bgcolor": "#E5ECF6",
          "polar": {
           "angularaxis": {
            "gridcolor": "white",
            "linecolor": "white",
            "ticks": ""
           },
           "bgcolor": "#E5ECF6",
           "radialaxis": {
            "gridcolor": "white",
            "linecolor": "white",
            "ticks": ""
           }
          },
          "scene": {
           "xaxis": {
            "backgroundcolor": "#E5ECF6",
            "gridcolor": "white",
            "gridwidth": 2,
            "linecolor": "white",
            "showbackground": true,
            "ticks": "",
            "zerolinecolor": "white"
           },
           "yaxis": {
            "backgroundcolor": "#E5ECF6",
            "gridcolor": "white",
            "gridwidth": 2,
            "linecolor": "white",
            "showbackground": true,
            "ticks": "",
            "zerolinecolor": "white"
           },
           "zaxis": {
            "backgroundcolor": "#E5ECF6",
            "gridcolor": "white",
            "gridwidth": 2,
            "linecolor": "white",
            "showbackground": true,
            "ticks": "",
            "zerolinecolor": "white"
           }
          },
          "shapedefaults": {
           "line": {
            "color": "#2a3f5f"
           }
          },
          "ternary": {
           "aaxis": {
            "gridcolor": "white",
            "linecolor": "white",
            "ticks": ""
           },
           "baxis": {
            "gridcolor": "white",
            "linecolor": "white",
            "ticks": ""
           },
           "bgcolor": "#E5ECF6",
           "caxis": {
            "gridcolor": "white",
            "linecolor": "white",
            "ticks": ""
           }
          },
          "title": {
           "x": 0.05
          },
          "xaxis": {
           "automargin": true,
           "gridcolor": "white",
           "linecolor": "white",
           "ticks": "",
           "title": {
            "standoff": 15
           },
           "zerolinecolor": "white",
           "zerolinewidth": 2
          },
          "yaxis": {
           "automargin": true,
           "gridcolor": "white",
           "linecolor": "white",
           "ticks": "",
           "title": {
            "standoff": 15
           },
           "zerolinecolor": "white",
           "zerolinewidth": 2
          }
         }
        },
        "title": {
         "text": "Top 10 Movies by Sentiment Score (Descending Order)",
         "x": 0.5
        },
        "xaxis": {
         "anchor": "y",
         "domain": [
          0,
          1
         ],
         "title": {
          "text": "Sentiment Score"
         }
        },
        "yaxis": {
         "anchor": "x",
         "domain": [
          0,
          1
         ],
         "title": {
          "text": "Movie Title"
         }
        }
       }
      }
     },
     "metadata": {},
     "output_type": "display_data"
    }
   ],
   "source": [
    "top_10_movies = df_cleaned.groupby('title')['sentiment_score'].mean().nlargest(10).index\n",
    "top_10_df = df_cleaned[df_cleaned['title'].isin(top_10_movies)]\n",
    "\n",
    "# Sort the DataFrame by sentiment score in descending order\n",
    "top_10_df = top_10_df.sort_values(by='sentiment_score', ascending=False)\n",
    "\n",
    "# Plot using Plotly Express\n",
    "fig = px.bar(top_10_df, \n",
    "             x='sentiment_score', \n",
    "             y='title', \n",
    "             orientation='h', \n",
    "             color='sentiment_score', \n",
    "             color_continuous_scale='viridis',\n",
    "             labels={'sentiment_score': 'Sentiment Score', 'title': 'Movie Title'},\n",
    "             title='Top 10 Movies by Sentiment Score (Descending Order)')\n",
    "\n",
    "# Update the layout for better visualization\n",
    "fig.update_layout(xaxis_title='Sentiment Score', \n",
    "                  yaxis_title='Movie Title',\n",
    "                  title={'x':0.5})  # Center the title\n",
    "\n",
    "# Show the plot\n",
    "fig.show()"
   ]
  },
  {
   "cell_type": "code",
   "execution_count": 47,
   "metadata": {},
   "outputs": [],
   "source": [
    "\n",
    "df_cleaned['viewCount'] = pd.to_numeric(df_cleaned['viewCount'], errors='coerce')\n",
    "df_cleaned['likeCount'] = pd.to_numeric(df_cleaned['likeCount'], errors='coerce')\n",
    "df_cleaned['commentCount'] = pd.to_numeric(df_cleaned['commentCount'], errors='coerce')\n",
    "\n",
    "# Drop rows with NaN values\n",
    "df_cleaned = df_cleaned.dropna(subset=['viewCount', 'likeCount', 'commentCount'])"
   ]
  },
  {
   "cell_type": "code",
   "execution_count": 48,
   "metadata": {},
   "outputs": [],
   "source": [
    "df_cleaned.to_csv('output2.csv', index=False)"
   ]
  },
  {
   "cell_type": "code",
   "execution_count": null,
   "metadata": {},
   "outputs": [],
   "source": []
  }
 ],
 "metadata": {
  "kernelspec": {
   "display_name": "Python 3",
   "language": "python",
   "name": "python3"
  },
  "language_info": {
   "codemirror_mode": {
    "name": "ipython",
    "version": 3
   },
   "file_extension": ".py",
   "mimetype": "text/x-python",
   "name": "python",
   "nbconvert_exporter": "python",
   "pygments_lexer": "ipython3",
   "version": "3.11.5"
  }
 },
 "nbformat": 4,
 "nbformat_minor": 2
}
